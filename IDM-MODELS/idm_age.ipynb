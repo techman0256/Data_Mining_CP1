{
 "cells": [
  {
   "cell_type": "code",
   "execution_count": 81,
   "id": "initial_id",
   "metadata": {
    "collapsed": true,
    "ExecuteTime": {
     "end_time": "2023-09-17T12:12:12.460296400Z",
     "start_time": "2023-09-17T12:12:12.191304800Z"
    }
   },
   "outputs": [
    {
     "data": {
      "text/plain": "   YearStart  YearEnd LocationAbbr LocationDesc  \\\n0       2011     2011           AL      Alabama   \n1       2011     2011           AL      Alabama   \n2       2011     2011           AL      Alabama   \n3       2011     2011           AL      Alabama   \n4       2011     2011           AL      Alabama   \n\n                                   Datasource                    Class  \\\n0  Behavioral Risk Factor Surveillance System  Obesity / Weight Status   \n1  Behavioral Risk Factor Surveillance System  Obesity / Weight Status   \n2  Behavioral Risk Factor Surveillance System  Obesity / Weight Status   \n3  Behavioral Risk Factor Surveillance System  Obesity / Weight Status   \n4  Behavioral Risk Factor Surveillance System  Obesity / Weight Status   \n\n                     Topic                                           Question  \\\n0  Obesity / Weight Status  Percent of adults aged 18 years and older who ...   \n1  Obesity / Weight Status  Percent of adults aged 18 years and older who ...   \n2  Obesity / Weight Status  Percent of adults aged 18 years and older who ...   \n3  Obesity / Weight Status  Percent of adults aged 18 years and older who ...   \n4  Obesity / Weight Status  Percent of adults aged 18 years and older who ...   \n\n   Data_Value_Unit Data_Value_Type  ...  \\\n0              NaN           Value  ...   \n1              NaN           Value  ...   \n2              NaN           Value  ...   \n3              NaN           Value  ...   \n4              NaN           Value  ...   \n\n                               GeoLocation  ClassID TopicID QuestionID  \\\n0  (32.84057112200048, -86.63186076199969)      OWS    OWS1       Q036   \n1  (32.84057112200048, -86.63186076199969)      OWS    OWS1       Q036   \n2  (32.84057112200048, -86.63186076199969)      OWS    OWS1       Q036   \n3  (32.84057112200048, -86.63186076199969)      OWS    OWS1       Q036   \n4  (32.84057112200048, -86.63186076199969)      OWS    OWS1       Q036   \n\n   DataValueTypeID  LocationID  StratificationCategory1  \\\n0            VALUE           1                    Total   \n1            VALUE           1                   Gender   \n2            VALUE           1                   Gender   \n3            VALUE           1                Education   \n4            VALUE           1                Education   \n\n         Stratification1 StratificationCategoryId1 StratificationID1  \n0                  Total                       OVR           OVERALL  \n1                   Male                       GEN              MALE  \n2                 Female                       GEN            FEMALE  \n3  Less than high school                       EDU             EDUHS  \n4   High school graduate                       EDU         EDUHSGRAD  \n\n[5 rows x 33 columns]",
      "text/html": "<div>\n<style scoped>\n    .dataframe tbody tr th:only-of-type {\n        vertical-align: middle;\n    }\n\n    .dataframe tbody tr th {\n        vertical-align: top;\n    }\n\n    .dataframe thead th {\n        text-align: right;\n    }\n</style>\n<table border=\"1\" class=\"dataframe\">\n  <thead>\n    <tr style=\"text-align: right;\">\n      <th></th>\n      <th>YearStart</th>\n      <th>YearEnd</th>\n      <th>LocationAbbr</th>\n      <th>LocationDesc</th>\n      <th>Datasource</th>\n      <th>Class</th>\n      <th>Topic</th>\n      <th>Question</th>\n      <th>Data_Value_Unit</th>\n      <th>Data_Value_Type</th>\n      <th>...</th>\n      <th>GeoLocation</th>\n      <th>ClassID</th>\n      <th>TopicID</th>\n      <th>QuestionID</th>\n      <th>DataValueTypeID</th>\n      <th>LocationID</th>\n      <th>StratificationCategory1</th>\n      <th>Stratification1</th>\n      <th>StratificationCategoryId1</th>\n      <th>StratificationID1</th>\n    </tr>\n  </thead>\n  <tbody>\n    <tr>\n      <th>0</th>\n      <td>2011</td>\n      <td>2011</td>\n      <td>AL</td>\n      <td>Alabama</td>\n      <td>Behavioral Risk Factor Surveillance System</td>\n      <td>Obesity / Weight Status</td>\n      <td>Obesity / Weight Status</td>\n      <td>Percent of adults aged 18 years and older who ...</td>\n      <td>NaN</td>\n      <td>Value</td>\n      <td>...</td>\n      <td>(32.84057112200048, -86.63186076199969)</td>\n      <td>OWS</td>\n      <td>OWS1</td>\n      <td>Q036</td>\n      <td>VALUE</td>\n      <td>1</td>\n      <td>Total</td>\n      <td>Total</td>\n      <td>OVR</td>\n      <td>OVERALL</td>\n    </tr>\n    <tr>\n      <th>1</th>\n      <td>2011</td>\n      <td>2011</td>\n      <td>AL</td>\n      <td>Alabama</td>\n      <td>Behavioral Risk Factor Surveillance System</td>\n      <td>Obesity / Weight Status</td>\n      <td>Obesity / Weight Status</td>\n      <td>Percent of adults aged 18 years and older who ...</td>\n      <td>NaN</td>\n      <td>Value</td>\n      <td>...</td>\n      <td>(32.84057112200048, -86.63186076199969)</td>\n      <td>OWS</td>\n      <td>OWS1</td>\n      <td>Q036</td>\n      <td>VALUE</td>\n      <td>1</td>\n      <td>Gender</td>\n      <td>Male</td>\n      <td>GEN</td>\n      <td>MALE</td>\n    </tr>\n    <tr>\n      <th>2</th>\n      <td>2011</td>\n      <td>2011</td>\n      <td>AL</td>\n      <td>Alabama</td>\n      <td>Behavioral Risk Factor Surveillance System</td>\n      <td>Obesity / Weight Status</td>\n      <td>Obesity / Weight Status</td>\n      <td>Percent of adults aged 18 years and older who ...</td>\n      <td>NaN</td>\n      <td>Value</td>\n      <td>...</td>\n      <td>(32.84057112200048, -86.63186076199969)</td>\n      <td>OWS</td>\n      <td>OWS1</td>\n      <td>Q036</td>\n      <td>VALUE</td>\n      <td>1</td>\n      <td>Gender</td>\n      <td>Female</td>\n      <td>GEN</td>\n      <td>FEMALE</td>\n    </tr>\n    <tr>\n      <th>3</th>\n      <td>2011</td>\n      <td>2011</td>\n      <td>AL</td>\n      <td>Alabama</td>\n      <td>Behavioral Risk Factor Surveillance System</td>\n      <td>Obesity / Weight Status</td>\n      <td>Obesity / Weight Status</td>\n      <td>Percent of adults aged 18 years and older who ...</td>\n      <td>NaN</td>\n      <td>Value</td>\n      <td>...</td>\n      <td>(32.84057112200048, -86.63186076199969)</td>\n      <td>OWS</td>\n      <td>OWS1</td>\n      <td>Q036</td>\n      <td>VALUE</td>\n      <td>1</td>\n      <td>Education</td>\n      <td>Less than high school</td>\n      <td>EDU</td>\n      <td>EDUHS</td>\n    </tr>\n    <tr>\n      <th>4</th>\n      <td>2011</td>\n      <td>2011</td>\n      <td>AL</td>\n      <td>Alabama</td>\n      <td>Behavioral Risk Factor Surveillance System</td>\n      <td>Obesity / Weight Status</td>\n      <td>Obesity / Weight Status</td>\n      <td>Percent of adults aged 18 years and older who ...</td>\n      <td>NaN</td>\n      <td>Value</td>\n      <td>...</td>\n      <td>(32.84057112200048, -86.63186076199969)</td>\n      <td>OWS</td>\n      <td>OWS1</td>\n      <td>Q036</td>\n      <td>VALUE</td>\n      <td>1</td>\n      <td>Education</td>\n      <td>High school graduate</td>\n      <td>EDU</td>\n      <td>EDUHSGRAD</td>\n    </tr>\n  </tbody>\n</table>\n<p>5 rows × 33 columns</p>\n</div>"
     },
     "execution_count": 81,
     "metadata": {},
     "output_type": "execute_result"
    }
   ],
   "source": [
    "import pandas as pd\n",
    "# Load the CSV File\n",
    "data = pd.read_csv(\"data.csv\")\n",
    "data.head()"
   ]
  },
  {
   "cell_type": "code",
   "execution_count": 82,
   "outputs": [
    {
     "data": {
      "text/plain": "((53392, 33),\n YearStart                       int64\n YearEnd                         int64\n LocationAbbr                   object\n LocationDesc                   object\n Datasource                     object\n Class                          object\n Topic                          object\n Question                       object\n Data_Value_Unit               float64\n Data_Value_Type                object\n Data_Value                    float64\n Data_Value_Alt                float64\n Data_Value_Footnote_Symbol     object\n Data_Value_Footnote            object\n Low_Confidence_Limit          float64\n High_Confidence_Limit         float64\n Sample_Size                   float64\n Total                          object\n Age(years)                     object\n Education                      object\n Gender                         object\n Income                         object\n Race/Ethnicity                 object\n GeoLocation                    object\n ClassID                        object\n TopicID                        object\n QuestionID                     object\n DataValueTypeID                object\n LocationID                      int64\n StratificationCategory1        object\n Stratification1                object\n StratificationCategoryId1      object\n StratificationID1              object\n dtype: object)"
     },
     "execution_count": 82,
     "metadata": {},
     "output_type": "execute_result"
    }
   ],
   "source": [
    "data.shape, data.dtypes\n"
   ],
   "metadata": {
    "collapsed": false,
    "ExecuteTime": {
     "end_time": "2023-09-17T12:12:12.475504500Z",
     "start_time": "2023-09-17T12:12:12.457294400Z"
    }
   },
   "id": "ec4116dbe1b1f74f"
  },
  {
   "cell_type": "code",
   "execution_count": 83,
   "outputs": [
    {
     "data": {
      "text/plain": "          YearStart       YearEnd  Data_Value_Unit    Data_Value  \\\ncount  53392.000000  53392.000000              0.0  48346.000000   \nmean    2013.281465   2013.281465              NaN     31.156681   \nstd        1.693300      1.693300              NaN     10.247033   \nmin     2011.000000   2011.000000              NaN      0.900000   \n25%     2012.000000   2012.000000              NaN     24.100000   \n50%     2013.000000   2013.000000              NaN     30.700000   \n75%     2015.000000   2015.000000              NaN     37.000000   \nmax     2016.000000   2016.000000              NaN     77.600000   \n\n       Data_Value_Alt  Low_Confidence_Limit  High_Confidence_Limit   \\\ncount    48346.000000          48346.000000            48346.000000   \nmean        31.156681             26.892227               35.989997   \nstd         10.247033             10.038584               11.205813   \nmin          0.900000              0.300000                3.000000   \n25%         24.100000             20.000000               28.200000   \n50%         30.700000             26.450000               35.600000   \n75%         37.000000             32.900000               42.200000   \nmax         77.600000             69.500000               87.700000   \n\n        Sample_Size    LocationID  \ncount   48346.00000  53392.000000  \nmean     3889.19286     30.282215  \nstd     19829.42129     16.821318  \nmin        50.00000      1.000000  \n25%       566.00000     17.000000  \n50%      1209.00000     30.000000  \n75%      2519.00000     44.000000  \nmax    476876.00000     78.000000  ",
      "text/html": "<div>\n<style scoped>\n    .dataframe tbody tr th:only-of-type {\n        vertical-align: middle;\n    }\n\n    .dataframe tbody tr th {\n        vertical-align: top;\n    }\n\n    .dataframe thead th {\n        text-align: right;\n    }\n</style>\n<table border=\"1\" class=\"dataframe\">\n  <thead>\n    <tr style=\"text-align: right;\">\n      <th></th>\n      <th>YearStart</th>\n      <th>YearEnd</th>\n      <th>Data_Value_Unit</th>\n      <th>Data_Value</th>\n      <th>Data_Value_Alt</th>\n      <th>Low_Confidence_Limit</th>\n      <th>High_Confidence_Limit</th>\n      <th>Sample_Size</th>\n      <th>LocationID</th>\n    </tr>\n  </thead>\n  <tbody>\n    <tr>\n      <th>count</th>\n      <td>53392.000000</td>\n      <td>53392.000000</td>\n      <td>0.0</td>\n      <td>48346.000000</td>\n      <td>48346.000000</td>\n      <td>48346.000000</td>\n      <td>48346.000000</td>\n      <td>48346.00000</td>\n      <td>53392.000000</td>\n    </tr>\n    <tr>\n      <th>mean</th>\n      <td>2013.281465</td>\n      <td>2013.281465</td>\n      <td>NaN</td>\n      <td>31.156681</td>\n      <td>31.156681</td>\n      <td>26.892227</td>\n      <td>35.989997</td>\n      <td>3889.19286</td>\n      <td>30.282215</td>\n    </tr>\n    <tr>\n      <th>std</th>\n      <td>1.693300</td>\n      <td>1.693300</td>\n      <td>NaN</td>\n      <td>10.247033</td>\n      <td>10.247033</td>\n      <td>10.038584</td>\n      <td>11.205813</td>\n      <td>19829.42129</td>\n      <td>16.821318</td>\n    </tr>\n    <tr>\n      <th>min</th>\n      <td>2011.000000</td>\n      <td>2011.000000</td>\n      <td>NaN</td>\n      <td>0.900000</td>\n      <td>0.900000</td>\n      <td>0.300000</td>\n      <td>3.000000</td>\n      <td>50.00000</td>\n      <td>1.000000</td>\n    </tr>\n    <tr>\n      <th>25%</th>\n      <td>2012.000000</td>\n      <td>2012.000000</td>\n      <td>NaN</td>\n      <td>24.100000</td>\n      <td>24.100000</td>\n      <td>20.000000</td>\n      <td>28.200000</td>\n      <td>566.00000</td>\n      <td>17.000000</td>\n    </tr>\n    <tr>\n      <th>50%</th>\n      <td>2013.000000</td>\n      <td>2013.000000</td>\n      <td>NaN</td>\n      <td>30.700000</td>\n      <td>30.700000</td>\n      <td>26.450000</td>\n      <td>35.600000</td>\n      <td>1209.00000</td>\n      <td>30.000000</td>\n    </tr>\n    <tr>\n      <th>75%</th>\n      <td>2015.000000</td>\n      <td>2015.000000</td>\n      <td>NaN</td>\n      <td>37.000000</td>\n      <td>37.000000</td>\n      <td>32.900000</td>\n      <td>42.200000</td>\n      <td>2519.00000</td>\n      <td>44.000000</td>\n    </tr>\n    <tr>\n      <th>max</th>\n      <td>2016.000000</td>\n      <td>2016.000000</td>\n      <td>NaN</td>\n      <td>77.600000</td>\n      <td>77.600000</td>\n      <td>69.500000</td>\n      <td>87.700000</td>\n      <td>476876.00000</td>\n      <td>78.000000</td>\n    </tr>\n  </tbody>\n</table>\n</div>"
     },
     "execution_count": 83,
     "metadata": {},
     "output_type": "execute_result"
    }
   ],
   "source": [
    "data.describe()\n"
   ],
   "metadata": {
    "collapsed": false,
    "ExecuteTime": {
     "end_time": "2023-09-17T12:12:12.626076300Z",
     "start_time": "2023-09-17T12:12:12.472296700Z"
    }
   },
   "id": "e32f49ef0668e736"
  },
  {
   "cell_type": "code",
   "execution_count": 84,
   "outputs": [
    {
     "data": {
      "text/plain": "YearStart                       0.000000\nYearEnd                         0.000000\nLocationAbbr                    0.000000\nLocationDesc                    0.000000\nDatasource                      0.000000\nClass                           0.000000\nTopic                           0.000000\nQuestion                        0.000000\nData_Value_Unit               100.000000\nData_Value_Type                 0.000000\nData_Value                      9.450854\nData_Value_Alt                  9.450854\nData_Value_Footnote_Symbol     90.549146\nData_Value_Footnote            90.549146\nLow_Confidence_Limit            9.450854\nHigh_Confidence_Limit           9.450854\nSample_Size                     9.450854\nTotal                          96.428304\nAge(years)                     78.577315\nEducation                      85.713215\nGender                         92.856608\nIncome                         74.998127\nRace/Ethnicity                 71.426431\nGeoLocation                     1.887923\nClassID                         0.000000\nTopicID                         0.000000\nQuestionID                      0.000000\nDataValueTypeID                 0.000000\nLocationID                      0.000000\nStratificationCategory1         0.000000\nStratification1                 0.000000\nStratificationCategoryId1       0.000000\nStratificationID1               0.000000\ndtype: float64"
     },
     "execution_count": 84,
     "metadata": {},
     "output_type": "execute_result"
    }
   ],
   "source": [
    "# Identifying Missing Values\n",
    "missing_values = data.isnull().sum()\n",
    "total_rows = len(data)\n",
    "percentage_missing = (missing_values / total_rows) * 100\n",
    "percentage_missing"
   ],
   "metadata": {
    "collapsed": false,
    "ExecuteTime": {
     "end_time": "2023-09-17T12:12:12.739821Z",
     "start_time": "2023-09-17T12:12:12.520507500Z"
    }
   },
   "id": "abbe192bb69aa44c"
  },
  {
   "cell_type": "code",
   "execution_count": 85,
   "outputs": [],
   "source": [
    "columns_to_keep = ['YearStart', 'Question', 'StratificationCategory1', 'Data_Value', 'Stratification1']\n",
    "\n",
    "# Create a new DataFrame with only the selected columns\n",
    "data = data[columns_to_keep]"
   ],
   "metadata": {
    "collapsed": false,
    "ExecuteTime": {
     "end_time": "2023-09-17T12:12:12.768835700Z",
     "start_time": "2023-09-17T12:12:12.663085200Z"
    }
   },
   "id": "e2068f4bb1f33d2a"
  },
  {
   "cell_type": "code",
   "execution_count": 86,
   "outputs": [
    {
     "data": {
      "text/plain": "       YearStart                                           Question  \\\n0           2011  Percent of adults aged 18 years and older who ...   \n1           2011  Percent of adults aged 18 years and older who ...   \n2           2011  Percent of adults aged 18 years and older who ...   \n3           2011  Percent of adults aged 18 years and older who ...   \n4           2011  Percent of adults aged 18 years and older who ...   \n...          ...                                                ...   \n53387       2016  Percent of adults who engage in no leisure-tim...   \n53388       2016  Percent of adults who engage in no leisure-tim...   \n53389       2016  Percent of adults who engage in no leisure-tim...   \n53390       2016  Percent of adults who engage in no leisure-tim...   \n53391       2016  Percent of adults who engage in no leisure-tim...   \n\n      StratificationCategory1  Data_Value                Stratification1  \n0                       Total        32.0                          Total  \n1                      Gender        32.3                           Male  \n2                      Gender        31.8                         Female  \n3                   Education        33.6          Less than high school  \n4                   Education        32.8           High school graduate  \n...                       ...         ...                            ...  \n53387          Race/Ethnicity         NaN                          Asian  \n53388          Race/Ethnicity         NaN      Hawaiian/Pacific Islander  \n53389          Race/Ethnicity         NaN  American Indian/Alaska Native  \n53390          Race/Ethnicity         NaN                2 or more races  \n53391          Race/Ethnicity         NaN                          Other  \n\n[53392 rows x 5 columns]",
      "text/html": "<div>\n<style scoped>\n    .dataframe tbody tr th:only-of-type {\n        vertical-align: middle;\n    }\n\n    .dataframe tbody tr th {\n        vertical-align: top;\n    }\n\n    .dataframe thead th {\n        text-align: right;\n    }\n</style>\n<table border=\"1\" class=\"dataframe\">\n  <thead>\n    <tr style=\"text-align: right;\">\n      <th></th>\n      <th>YearStart</th>\n      <th>Question</th>\n      <th>StratificationCategory1</th>\n      <th>Data_Value</th>\n      <th>Stratification1</th>\n    </tr>\n  </thead>\n  <tbody>\n    <tr>\n      <th>0</th>\n      <td>2011</td>\n      <td>Percent of adults aged 18 years and older who ...</td>\n      <td>Total</td>\n      <td>32.0</td>\n      <td>Total</td>\n    </tr>\n    <tr>\n      <th>1</th>\n      <td>2011</td>\n      <td>Percent of adults aged 18 years and older who ...</td>\n      <td>Gender</td>\n      <td>32.3</td>\n      <td>Male</td>\n    </tr>\n    <tr>\n      <th>2</th>\n      <td>2011</td>\n      <td>Percent of adults aged 18 years and older who ...</td>\n      <td>Gender</td>\n      <td>31.8</td>\n      <td>Female</td>\n    </tr>\n    <tr>\n      <th>3</th>\n      <td>2011</td>\n      <td>Percent of adults aged 18 years and older who ...</td>\n      <td>Education</td>\n      <td>33.6</td>\n      <td>Less than high school</td>\n    </tr>\n    <tr>\n      <th>4</th>\n      <td>2011</td>\n      <td>Percent of adults aged 18 years and older who ...</td>\n      <td>Education</td>\n      <td>32.8</td>\n      <td>High school graduate</td>\n    </tr>\n    <tr>\n      <th>...</th>\n      <td>...</td>\n      <td>...</td>\n      <td>...</td>\n      <td>...</td>\n      <td>...</td>\n    </tr>\n    <tr>\n      <th>53387</th>\n      <td>2016</td>\n      <td>Percent of adults who engage in no leisure-tim...</td>\n      <td>Race/Ethnicity</td>\n      <td>NaN</td>\n      <td>Asian</td>\n    </tr>\n    <tr>\n      <th>53388</th>\n      <td>2016</td>\n      <td>Percent of adults who engage in no leisure-tim...</td>\n      <td>Race/Ethnicity</td>\n      <td>NaN</td>\n      <td>Hawaiian/Pacific Islander</td>\n    </tr>\n    <tr>\n      <th>53389</th>\n      <td>2016</td>\n      <td>Percent of adults who engage in no leisure-tim...</td>\n      <td>Race/Ethnicity</td>\n      <td>NaN</td>\n      <td>American Indian/Alaska Native</td>\n    </tr>\n    <tr>\n      <th>53390</th>\n      <td>2016</td>\n      <td>Percent of adults who engage in no leisure-tim...</td>\n      <td>Race/Ethnicity</td>\n      <td>NaN</td>\n      <td>2 or more races</td>\n    </tr>\n    <tr>\n      <th>53391</th>\n      <td>2016</td>\n      <td>Percent of adults who engage in no leisure-tim...</td>\n      <td>Race/Ethnicity</td>\n      <td>NaN</td>\n      <td>Other</td>\n    </tr>\n  </tbody>\n</table>\n<p>53392 rows × 5 columns</p>\n</div>"
     },
     "execution_count": 86,
     "metadata": {},
     "output_type": "execute_result"
    }
   ],
   "source": [
    "data"
   ],
   "metadata": {
    "collapsed": false,
    "ExecuteTime": {
     "end_time": "2023-09-17T12:12:12.791356100Z",
     "start_time": "2023-09-17T12:12:12.684821600Z"
    }
   },
   "id": "31ebc171651daac7"
  },
  {
   "cell_type": "code",
   "execution_count": 87,
   "outputs": [
    {
     "data": {
      "text/plain": "    YearStart                                           Question  \\\n7        2011  Percent of adults aged 18 years and older who ...   \n8        2011  Percent of adults aged 18 years and older who ...   \n9        2011  Percent of adults aged 18 years and older who ...   \n10       2011  Percent of adults aged 18 years and older who ...   \n11       2011  Percent of adults aged 18 years and older who ...   \n\n   StratificationCategory1  Data_Value Stratification1  \n7              Age (years)        16.3         18 - 24  \n8              Age (years)        35.2         25 - 34  \n9              Age (years)        35.5         35 - 44  \n10             Age (years)        38.0         45 - 54  \n11             Age (years)        36.4         55 - 64  ",
      "text/html": "<div>\n<style scoped>\n    .dataframe tbody tr th:only-of-type {\n        vertical-align: middle;\n    }\n\n    .dataframe tbody tr th {\n        vertical-align: top;\n    }\n\n    .dataframe thead th {\n        text-align: right;\n    }\n</style>\n<table border=\"1\" class=\"dataframe\">\n  <thead>\n    <tr style=\"text-align: right;\">\n      <th></th>\n      <th>YearStart</th>\n      <th>Question</th>\n      <th>StratificationCategory1</th>\n      <th>Data_Value</th>\n      <th>Stratification1</th>\n    </tr>\n  </thead>\n  <tbody>\n    <tr>\n      <th>7</th>\n      <td>2011</td>\n      <td>Percent of adults aged 18 years and older who ...</td>\n      <td>Age (years)</td>\n      <td>16.3</td>\n      <td>18 - 24</td>\n    </tr>\n    <tr>\n      <th>8</th>\n      <td>2011</td>\n      <td>Percent of adults aged 18 years and older who ...</td>\n      <td>Age (years)</td>\n      <td>35.2</td>\n      <td>25 - 34</td>\n    </tr>\n    <tr>\n      <th>9</th>\n      <td>2011</td>\n      <td>Percent of adults aged 18 years and older who ...</td>\n      <td>Age (years)</td>\n      <td>35.5</td>\n      <td>35 - 44</td>\n    </tr>\n    <tr>\n      <th>10</th>\n      <td>2011</td>\n      <td>Percent of adults aged 18 years and older who ...</td>\n      <td>Age (years)</td>\n      <td>38.0</td>\n      <td>45 - 54</td>\n    </tr>\n    <tr>\n      <th>11</th>\n      <td>2011</td>\n      <td>Percent of adults aged 18 years and older who ...</td>\n      <td>Age (years)</td>\n      <td>36.4</td>\n      <td>55 - 64</td>\n    </tr>\n  </tbody>\n</table>\n</div>"
     },
     "execution_count": 87,
     "metadata": {},
     "output_type": "execute_result"
    }
   ],
   "source": [
    "# keep only rows where the StratificationCategory1 is Income\n",
    "data = data[data['StratificationCategory1'] == 'Age (years)']\n",
    "data.head()"
   ],
   "metadata": {
    "collapsed": false,
    "ExecuteTime": {
     "end_time": "2023-09-17T12:12:12.794359100Z",
     "start_time": "2023-09-17T12:12:12.697825800Z"
    }
   },
   "id": "292a0c84d4f090c8"
  },
  {
   "cell_type": "code",
   "execution_count": 88,
   "outputs": [
    {
     "data": {
      "text/plain": "    YearStart                                           Question  Data_Value  \\\n7        2011  Percent of adults aged 18 years and older who ...        16.3   \n8        2011  Percent of adults aged 18 years and older who ...        35.2   \n9        2011  Percent of adults aged 18 years and older who ...        35.5   \n10       2011  Percent of adults aged 18 years and older who ...        38.0   \n11       2011  Percent of adults aged 18 years and older who ...        36.4   \n\n   Stratification1  \n7          18 - 24  \n8          25 - 34  \n9          35 - 44  \n10         45 - 54  \n11         55 - 64  ",
      "text/html": "<div>\n<style scoped>\n    .dataframe tbody tr th:only-of-type {\n        vertical-align: middle;\n    }\n\n    .dataframe tbody tr th {\n        vertical-align: top;\n    }\n\n    .dataframe thead th {\n        text-align: right;\n    }\n</style>\n<table border=\"1\" class=\"dataframe\">\n  <thead>\n    <tr style=\"text-align: right;\">\n      <th></th>\n      <th>YearStart</th>\n      <th>Question</th>\n      <th>Data_Value</th>\n      <th>Stratification1</th>\n    </tr>\n  </thead>\n  <tbody>\n    <tr>\n      <th>7</th>\n      <td>2011</td>\n      <td>Percent of adults aged 18 years and older who ...</td>\n      <td>16.3</td>\n      <td>18 - 24</td>\n    </tr>\n    <tr>\n      <th>8</th>\n      <td>2011</td>\n      <td>Percent of adults aged 18 years and older who ...</td>\n      <td>35.2</td>\n      <td>25 - 34</td>\n    </tr>\n    <tr>\n      <th>9</th>\n      <td>2011</td>\n      <td>Percent of adults aged 18 years and older who ...</td>\n      <td>35.5</td>\n      <td>35 - 44</td>\n    </tr>\n    <tr>\n      <th>10</th>\n      <td>2011</td>\n      <td>Percent of adults aged 18 years and older who ...</td>\n      <td>38.0</td>\n      <td>45 - 54</td>\n    </tr>\n    <tr>\n      <th>11</th>\n      <td>2011</td>\n      <td>Percent of adults aged 18 years and older who ...</td>\n      <td>36.4</td>\n      <td>55 - 64</td>\n    </tr>\n  </tbody>\n</table>\n</div>"
     },
     "execution_count": 88,
     "metadata": {},
     "output_type": "execute_result"
    }
   ],
   "source": [
    "# Drop the StratificationCategory1 column\n",
    "data = data.drop('StratificationCategory1', axis=1)\n",
    "data.head()"
   ],
   "metadata": {
    "collapsed": false,
    "ExecuteTime": {
     "end_time": "2023-09-17T12:12:12.794359100Z",
     "start_time": "2023-09-17T12:12:12.724832400Z"
    }
   },
   "id": "f3c5b7cf31d2a4c7"
  },
  {
   "cell_type": "code",
   "execution_count": 89,
   "outputs": [
    {
     "data": {
      "text/plain": "       YearStart                                           Question  \\\n7           2011  Percent of adults aged 18 years and older who ...   \n8           2011  Percent of adults aged 18 years and older who ...   \n9           2011  Percent of adults aged 18 years and older who ...   \n10          2011  Percent of adults aged 18 years and older who ...   \n11          2011  Percent of adults aged 18 years and older who ...   \n...          ...                                                ...   \n53372       2016  Percent of adults who engage in no leisure-tim...   \n53373       2016  Percent of adults who engage in no leisure-tim...   \n53374       2016  Percent of adults who engage in no leisure-tim...   \n53375       2016  Percent of adults who engage in no leisure-tim...   \n53376       2016  Percent of adults who engage in no leisure-tim...   \n\n       Data_Value Stratification1 Question_Num  obesity  food  exercise  \\\n7            16.3         18 - 24            0        1     0       0.0   \n8            35.2         25 - 34            0        1     0       0.0   \n9            35.5         35 - 44            0        1     0       0.0   \n10           38.0         45 - 54            0        1     0       0.0   \n11           36.4         55 - 64            0        1     0       0.0   \n...           ...             ...          ...      ...   ...       ...   \n53372        34.7         25 - 34            8        0     0       0.0   \n53373        29.3         35 - 44            8        0     0       0.0   \n53374        22.5         45 - 54            8        0     0       0.0   \n53375        24.6         55 - 64            8        0     0       0.0   \n53376        23.9     65 or older            8        0     0       0.0   \n\n       activity  \n7           0.0  \n8           0.0  \n9           0.0  \n10          0.0  \n11          0.0  \n...         ...  \n53372      -0.5  \n53373      -0.5  \n53374      -0.5  \n53375      -0.5  \n53376      -0.5  \n\n[11438 rows x 9 columns]",
      "text/html": "<div>\n<style scoped>\n    .dataframe tbody tr th:only-of-type {\n        vertical-align: middle;\n    }\n\n    .dataframe tbody tr th {\n        vertical-align: top;\n    }\n\n    .dataframe thead th {\n        text-align: right;\n    }\n</style>\n<table border=\"1\" class=\"dataframe\">\n  <thead>\n    <tr style=\"text-align: right;\">\n      <th></th>\n      <th>YearStart</th>\n      <th>Question</th>\n      <th>Data_Value</th>\n      <th>Stratification1</th>\n      <th>Question_Num</th>\n      <th>obesity</th>\n      <th>food</th>\n      <th>exercise</th>\n      <th>activity</th>\n    </tr>\n  </thead>\n  <tbody>\n    <tr>\n      <th>7</th>\n      <td>2011</td>\n      <td>Percent of adults aged 18 years and older who ...</td>\n      <td>16.3</td>\n      <td>18 - 24</td>\n      <td>0</td>\n      <td>1</td>\n      <td>0</td>\n      <td>0.0</td>\n      <td>0.0</td>\n    </tr>\n    <tr>\n      <th>8</th>\n      <td>2011</td>\n      <td>Percent of adults aged 18 years and older who ...</td>\n      <td>35.2</td>\n      <td>25 - 34</td>\n      <td>0</td>\n      <td>1</td>\n      <td>0</td>\n      <td>0.0</td>\n      <td>0.0</td>\n    </tr>\n    <tr>\n      <th>9</th>\n      <td>2011</td>\n      <td>Percent of adults aged 18 years and older who ...</td>\n      <td>35.5</td>\n      <td>35 - 44</td>\n      <td>0</td>\n      <td>1</td>\n      <td>0</td>\n      <td>0.0</td>\n      <td>0.0</td>\n    </tr>\n    <tr>\n      <th>10</th>\n      <td>2011</td>\n      <td>Percent of adults aged 18 years and older who ...</td>\n      <td>38.0</td>\n      <td>45 - 54</td>\n      <td>0</td>\n      <td>1</td>\n      <td>0</td>\n      <td>0.0</td>\n      <td>0.0</td>\n    </tr>\n    <tr>\n      <th>11</th>\n      <td>2011</td>\n      <td>Percent of adults aged 18 years and older who ...</td>\n      <td>36.4</td>\n      <td>55 - 64</td>\n      <td>0</td>\n      <td>1</td>\n      <td>0</td>\n      <td>0.0</td>\n      <td>0.0</td>\n    </tr>\n    <tr>\n      <th>...</th>\n      <td>...</td>\n      <td>...</td>\n      <td>...</td>\n      <td>...</td>\n      <td>...</td>\n      <td>...</td>\n      <td>...</td>\n      <td>...</td>\n      <td>...</td>\n    </tr>\n    <tr>\n      <th>53372</th>\n      <td>2016</td>\n      <td>Percent of adults who engage in no leisure-tim...</td>\n      <td>34.7</td>\n      <td>25 - 34</td>\n      <td>8</td>\n      <td>0</td>\n      <td>0</td>\n      <td>0.0</td>\n      <td>-0.5</td>\n    </tr>\n    <tr>\n      <th>53373</th>\n      <td>2016</td>\n      <td>Percent of adults who engage in no leisure-tim...</td>\n      <td>29.3</td>\n      <td>35 - 44</td>\n      <td>8</td>\n      <td>0</td>\n      <td>0</td>\n      <td>0.0</td>\n      <td>-0.5</td>\n    </tr>\n    <tr>\n      <th>53374</th>\n      <td>2016</td>\n      <td>Percent of adults who engage in no leisure-tim...</td>\n      <td>22.5</td>\n      <td>45 - 54</td>\n      <td>8</td>\n      <td>0</td>\n      <td>0</td>\n      <td>0.0</td>\n      <td>-0.5</td>\n    </tr>\n    <tr>\n      <th>53375</th>\n      <td>2016</td>\n      <td>Percent of adults who engage in no leisure-tim...</td>\n      <td>24.6</td>\n      <td>55 - 64</td>\n      <td>8</td>\n      <td>0</td>\n      <td>0</td>\n      <td>0.0</td>\n      <td>-0.5</td>\n    </tr>\n    <tr>\n      <th>53376</th>\n      <td>2016</td>\n      <td>Percent of adults who engage in no leisure-tim...</td>\n      <td>23.9</td>\n      <td>65 or older</td>\n      <td>8</td>\n      <td>0</td>\n      <td>0</td>\n      <td>0.0</td>\n      <td>-0.5</td>\n    </tr>\n  </tbody>\n</table>\n<p>11438 rows × 9 columns</p>\n</div>"
     },
     "execution_count": 89,
     "metadata": {},
     "output_type": "execute_result"
    }
   ],
   "source": [
    "# Define a mapping from question text to question number\n",
    "question_mapping = {\n",
    "    'Percent of adults aged 18 years and older who have obesity': 0,\n",
    "    'Percent of adults aged 18 years and older who have an overweight classification': 1,\n",
    "    'Percent of adults who report consuming fruit less than one time daily': 2,\n",
    "    'Percent of adults who report consuming vegetables less than one time daily': 3,\n",
    "    'Percent of adults who achieve at least 150 minutes a week of moderate-intensity aerobic physical activity or 75 minutes a week of vigorous-intensity aerobic activity (or an equivalent combination)': 4,\n",
    "    'Percent of adults who achieve at least 150 minutes a week of moderate-intensity aerobic physical activity or 75 minutes a week of vigorous-intensity aerobic physical activity and engage in muscle-...': 5,\n",
    "    'Percent of adults who achieve at least 300 minutes a week of moderate-intensity aerobic physical activity or 150 minutes a week of vigorous-intensity aerobic activity (or an equivalent combination)': 6,\n",
    "    'Percent of adults who engage in muscle-strengthening activities on 2 or more days a week': 7,\n",
    "    'Percent of adults who engage in no leisure-time physical activity': 8,\n",
    "}\n",
    "\n",
    "# Create a new column with the question numbers\n",
    "data['Question_Num'] = data['Question'].replace(question_mapping)\n",
    "\n",
    "# Create the new columns based on the conditions\n",
    "data['obesity'] = data['Question_Num'].apply(lambda x: 1 if x in [0, 1] else 0)\n",
    "data['food'] = data['Question_Num'].apply(lambda x: 1 if x in [2, 3] else 0)\n",
    "data['exercise'] = data['Question_Num'].apply(lambda x: 0.5 if x in [4, 5] else (1 if x == 6 else 0))\n",
    "data['activity'] = data['Question_Num'].apply(lambda x: 1 if x == 7 else (-0.5 if x == 8 else 0))\n",
    "\n",
    "# Display the first few rows of the modified dataframe\n",
    "data\n"
   ],
   "metadata": {
    "collapsed": false,
    "ExecuteTime": {
     "end_time": "2023-09-17T12:12:12.845355300Z",
     "start_time": "2023-09-17T12:12:12.745828700Z"
    }
   },
   "id": "3677a384f147b62d"
  },
  {
   "cell_type": "code",
   "execution_count": 90,
   "outputs": [
    {
     "data": {
      "text/plain": "       YearStart  Data_Value Stratification1  obesity  food  exercise  \\\n7           2011        16.3         18 - 24        1     0       0.0   \n8           2011        35.2         25 - 34        1     0       0.0   \n9           2011        35.5         35 - 44        1     0       0.0   \n10          2011        38.0         45 - 54        1     0       0.0   \n11          2011        36.4         55 - 64        1     0       0.0   \n...          ...         ...             ...      ...   ...       ...   \n53372       2016        34.7         25 - 34        0     0       0.0   \n53373       2016        29.3         35 - 44        0     0       0.0   \n53374       2016        22.5         45 - 54        0     0       0.0   \n53375       2016        24.6         55 - 64        0     0       0.0   \n53376       2016        23.9     65 or older        0     0       0.0   \n\n       activity  \n7           0.0  \n8           0.0  \n9           0.0  \n10          0.0  \n11          0.0  \n...         ...  \n53372      -0.5  \n53373      -0.5  \n53374      -0.5  \n53375      -0.5  \n53376      -0.5  \n\n[11438 rows x 7 columns]",
      "text/html": "<div>\n<style scoped>\n    .dataframe tbody tr th:only-of-type {\n        vertical-align: middle;\n    }\n\n    .dataframe tbody tr th {\n        vertical-align: top;\n    }\n\n    .dataframe thead th {\n        text-align: right;\n    }\n</style>\n<table border=\"1\" class=\"dataframe\">\n  <thead>\n    <tr style=\"text-align: right;\">\n      <th></th>\n      <th>YearStart</th>\n      <th>Data_Value</th>\n      <th>Stratification1</th>\n      <th>obesity</th>\n      <th>food</th>\n      <th>exercise</th>\n      <th>activity</th>\n    </tr>\n  </thead>\n  <tbody>\n    <tr>\n      <th>7</th>\n      <td>2011</td>\n      <td>16.3</td>\n      <td>18 - 24</td>\n      <td>1</td>\n      <td>0</td>\n      <td>0.0</td>\n      <td>0.0</td>\n    </tr>\n    <tr>\n      <th>8</th>\n      <td>2011</td>\n      <td>35.2</td>\n      <td>25 - 34</td>\n      <td>1</td>\n      <td>0</td>\n      <td>0.0</td>\n      <td>0.0</td>\n    </tr>\n    <tr>\n      <th>9</th>\n      <td>2011</td>\n      <td>35.5</td>\n      <td>35 - 44</td>\n      <td>1</td>\n      <td>0</td>\n      <td>0.0</td>\n      <td>0.0</td>\n    </tr>\n    <tr>\n      <th>10</th>\n      <td>2011</td>\n      <td>38.0</td>\n      <td>45 - 54</td>\n      <td>1</td>\n      <td>0</td>\n      <td>0.0</td>\n      <td>0.0</td>\n    </tr>\n    <tr>\n      <th>11</th>\n      <td>2011</td>\n      <td>36.4</td>\n      <td>55 - 64</td>\n      <td>1</td>\n      <td>0</td>\n      <td>0.0</td>\n      <td>0.0</td>\n    </tr>\n    <tr>\n      <th>...</th>\n      <td>...</td>\n      <td>...</td>\n      <td>...</td>\n      <td>...</td>\n      <td>...</td>\n      <td>...</td>\n      <td>...</td>\n    </tr>\n    <tr>\n      <th>53372</th>\n      <td>2016</td>\n      <td>34.7</td>\n      <td>25 - 34</td>\n      <td>0</td>\n      <td>0</td>\n      <td>0.0</td>\n      <td>-0.5</td>\n    </tr>\n    <tr>\n      <th>53373</th>\n      <td>2016</td>\n      <td>29.3</td>\n      <td>35 - 44</td>\n      <td>0</td>\n      <td>0</td>\n      <td>0.0</td>\n      <td>-0.5</td>\n    </tr>\n    <tr>\n      <th>53374</th>\n      <td>2016</td>\n      <td>22.5</td>\n      <td>45 - 54</td>\n      <td>0</td>\n      <td>0</td>\n      <td>0.0</td>\n      <td>-0.5</td>\n    </tr>\n    <tr>\n      <th>53375</th>\n      <td>2016</td>\n      <td>24.6</td>\n      <td>55 - 64</td>\n      <td>0</td>\n      <td>0</td>\n      <td>0.0</td>\n      <td>-0.5</td>\n    </tr>\n    <tr>\n      <th>53376</th>\n      <td>2016</td>\n      <td>23.9</td>\n      <td>65 or older</td>\n      <td>0</td>\n      <td>0</td>\n      <td>0.0</td>\n      <td>-0.5</td>\n    </tr>\n  </tbody>\n</table>\n<p>11438 rows × 7 columns</p>\n</div>"
     },
     "execution_count": 90,
     "metadata": {},
     "output_type": "execute_result"
    }
   ],
   "source": [
    "# drop the Question and Question_Num columns\n",
    "data = data.drop(['Question', 'Question_Num'], axis=1)\n",
    "data"
   ],
   "metadata": {
    "collapsed": false,
    "ExecuteTime": {
     "end_time": "2023-09-17T12:12:12.908413100Z",
     "start_time": "2023-09-17T12:12:12.787360500Z"
    }
   },
   "id": "4d774b270ecd290c"
  },
  {
   "cell_type": "code",
   "execution_count": 91,
   "outputs": [
    {
     "data": {
      "text/plain": "       Data_Value  Stratification1  obesity  food  exercise  activity  2011  \\\n7            16.3              0.0      1.0   0.0       0.0       0.0   1.0   \n8            35.2              1.0      1.0   0.0       0.0       0.0   1.0   \n9            35.5              2.0      1.0   0.0       0.0       0.0   1.0   \n10           38.0              3.0      1.0   0.0       0.0       0.0   1.0   \n11           36.4              4.0      1.0   0.0       0.0       0.0   1.0   \n...           ...              ...      ...   ...       ...       ...   ...   \n11433         NaN              NaN      NaN   NaN       NaN       NaN   0.0   \n11434         NaN              NaN      NaN   NaN       NaN       NaN   0.0   \n11435         NaN              NaN      NaN   NaN       NaN       NaN   0.0   \n11436         NaN              NaN      NaN   NaN       NaN       NaN   0.0   \n11437         NaN              NaN      NaN   NaN       NaN       NaN   0.0   \n\n       2012  2013  2014  2015  2016  \n7       0.0   0.0   0.0   0.0   0.0  \n8       0.0   0.0   0.0   0.0   0.0  \n9       0.0   0.0   0.0   0.0   0.0  \n10      0.0   0.0   0.0   0.0   0.0  \n11      0.0   0.0   0.0   0.0   0.0  \n...     ...   ...   ...   ...   ...  \n11433   0.0   0.0   0.0   0.0   1.0  \n11434   0.0   0.0   0.0   0.0   1.0  \n11435   0.0   0.0   0.0   0.0   1.0  \n11436   0.0   0.0   0.0   0.0   1.0  \n11437   0.0   0.0   0.0   0.0   1.0  \n\n[20428 rows x 12 columns]",
      "text/html": "<div>\n<style scoped>\n    .dataframe tbody tr th:only-of-type {\n        vertical-align: middle;\n    }\n\n    .dataframe tbody tr th {\n        vertical-align: top;\n    }\n\n    .dataframe thead th {\n        text-align: right;\n    }\n</style>\n<table border=\"1\" class=\"dataframe\">\n  <thead>\n    <tr style=\"text-align: right;\">\n      <th></th>\n      <th>Data_Value</th>\n      <th>Stratification1</th>\n      <th>obesity</th>\n      <th>food</th>\n      <th>exercise</th>\n      <th>activity</th>\n      <th>2011</th>\n      <th>2012</th>\n      <th>2013</th>\n      <th>2014</th>\n      <th>2015</th>\n      <th>2016</th>\n    </tr>\n  </thead>\n  <tbody>\n    <tr>\n      <th>7</th>\n      <td>16.3</td>\n      <td>0.0</td>\n      <td>1.0</td>\n      <td>0.0</td>\n      <td>0.0</td>\n      <td>0.0</td>\n      <td>1.0</td>\n      <td>0.0</td>\n      <td>0.0</td>\n      <td>0.0</td>\n      <td>0.0</td>\n      <td>0.0</td>\n    </tr>\n    <tr>\n      <th>8</th>\n      <td>35.2</td>\n      <td>1.0</td>\n      <td>1.0</td>\n      <td>0.0</td>\n      <td>0.0</td>\n      <td>0.0</td>\n      <td>1.0</td>\n      <td>0.0</td>\n      <td>0.0</td>\n      <td>0.0</td>\n      <td>0.0</td>\n      <td>0.0</td>\n    </tr>\n    <tr>\n      <th>9</th>\n      <td>35.5</td>\n      <td>2.0</td>\n      <td>1.0</td>\n      <td>0.0</td>\n      <td>0.0</td>\n      <td>0.0</td>\n      <td>1.0</td>\n      <td>0.0</td>\n      <td>0.0</td>\n      <td>0.0</td>\n      <td>0.0</td>\n      <td>0.0</td>\n    </tr>\n    <tr>\n      <th>10</th>\n      <td>38.0</td>\n      <td>3.0</td>\n      <td>1.0</td>\n      <td>0.0</td>\n      <td>0.0</td>\n      <td>0.0</td>\n      <td>1.0</td>\n      <td>0.0</td>\n      <td>0.0</td>\n      <td>0.0</td>\n      <td>0.0</td>\n      <td>0.0</td>\n    </tr>\n    <tr>\n      <th>11</th>\n      <td>36.4</td>\n      <td>4.0</td>\n      <td>1.0</td>\n      <td>0.0</td>\n      <td>0.0</td>\n      <td>0.0</td>\n      <td>1.0</td>\n      <td>0.0</td>\n      <td>0.0</td>\n      <td>0.0</td>\n      <td>0.0</td>\n      <td>0.0</td>\n    </tr>\n    <tr>\n      <th>...</th>\n      <td>...</td>\n      <td>...</td>\n      <td>...</td>\n      <td>...</td>\n      <td>...</td>\n      <td>...</td>\n      <td>...</td>\n      <td>...</td>\n      <td>...</td>\n      <td>...</td>\n      <td>...</td>\n      <td>...</td>\n    </tr>\n    <tr>\n      <th>11433</th>\n      <td>NaN</td>\n      <td>NaN</td>\n      <td>NaN</td>\n      <td>NaN</td>\n      <td>NaN</td>\n      <td>NaN</td>\n      <td>0.0</td>\n      <td>0.0</td>\n      <td>0.0</td>\n      <td>0.0</td>\n      <td>0.0</td>\n      <td>1.0</td>\n    </tr>\n    <tr>\n      <th>11434</th>\n      <td>NaN</td>\n      <td>NaN</td>\n      <td>NaN</td>\n      <td>NaN</td>\n      <td>NaN</td>\n      <td>NaN</td>\n      <td>0.0</td>\n      <td>0.0</td>\n      <td>0.0</td>\n      <td>0.0</td>\n      <td>0.0</td>\n      <td>1.0</td>\n    </tr>\n    <tr>\n      <th>11435</th>\n      <td>NaN</td>\n      <td>NaN</td>\n      <td>NaN</td>\n      <td>NaN</td>\n      <td>NaN</td>\n      <td>NaN</td>\n      <td>0.0</td>\n      <td>0.0</td>\n      <td>0.0</td>\n      <td>0.0</td>\n      <td>0.0</td>\n      <td>1.0</td>\n    </tr>\n    <tr>\n      <th>11436</th>\n      <td>NaN</td>\n      <td>NaN</td>\n      <td>NaN</td>\n      <td>NaN</td>\n      <td>NaN</td>\n      <td>NaN</td>\n      <td>0.0</td>\n      <td>0.0</td>\n      <td>0.0</td>\n      <td>0.0</td>\n      <td>0.0</td>\n      <td>1.0</td>\n    </tr>\n    <tr>\n      <th>11437</th>\n      <td>NaN</td>\n      <td>NaN</td>\n      <td>NaN</td>\n      <td>NaN</td>\n      <td>NaN</td>\n      <td>NaN</td>\n      <td>0.0</td>\n      <td>0.0</td>\n      <td>0.0</td>\n      <td>0.0</td>\n      <td>0.0</td>\n      <td>1.0</td>\n    </tr>\n  </tbody>\n</table>\n<p>20428 rows × 12 columns</p>\n</div>"
     },
     "execution_count": 91,
     "metadata": {},
     "output_type": "execute_result"
    }
   ],
   "source": [
    "# encode Stratifcation1 using LabelEncoder with the following mapping\n",
    "\n",
    "from sklearn.preprocessing import LabelEncoder\n",
    "le = LabelEncoder()\n",
    "order = {'18 - 24': 0, '25 - 34': 1, '35 - 44': 2, '45 - 54': 3, '55 - 64': 4, '65 or older': 5}\n",
    "data['Stratification1'] = data['Stratification1'].map(order)\n",
    "\n",
    "# encode YearStart using OneHotEncoder\n",
    "from sklearn.preprocessing import OneHotEncoder\n",
    "ohe = OneHotEncoder(sparse=False)\n",
    "year_encoded = ohe.fit_transform(data['YearStart'].values.reshape(-1, 1))\n",
    "year_encoded = pd.DataFrame(year_encoded, columns=ohe.categories_[0])\n",
    "\n",
    "# replace the original column with the encoded columns\n",
    "data = pd.concat([data, year_encoded], axis=1)\n",
    "data = data.drop('YearStart', axis=1)\n",
    "\n",
    "data"
   ],
   "metadata": {
    "collapsed": false,
    "ExecuteTime": {
     "end_time": "2023-09-17T12:12:13.002940Z",
     "start_time": "2023-09-17T12:12:12.821357700Z"
    }
   },
   "id": "97ad29078839fd95"
  },
  {
   "cell_type": "code",
   "execution_count": 92,
   "outputs": [
    {
     "data": {
      "text/plain": "       Data_Value  Stratification1  obesity  food  exercise  activity  2011  \\\n7            16.3              0.0      1.0   0.0       0.0       0.0   1.0   \n8            35.2              1.0      1.0   0.0       0.0       0.0   1.0   \n9            35.5              2.0      1.0   0.0       0.0       0.0   1.0   \n10           38.0              3.0      1.0   0.0       0.0       0.0   1.0   \n11           36.4              4.0      1.0   0.0       0.0       0.0   1.0   \n...           ...              ...      ...   ...       ...       ...   ...   \n11417        24.6              1.0      0.0   0.0       0.0      -0.5   0.0   \n11418        24.4              2.0      0.0   0.0       0.0      -0.5   0.0   \n11419        27.4              3.0      0.0   0.0       0.0      -0.5   0.0   \n11420        29.2              4.0      0.0   0.0       0.0      -0.5   0.0   \n11421        32.0              5.0      0.0   0.0       0.0      -0.5   0.0   \n\n       2012  2013  2014  2015  2016  \n7       0.0   0.0   0.0   0.0   0.0  \n8       0.0   0.0   0.0   0.0   0.0  \n9       0.0   0.0   0.0   0.0   0.0  \n10      0.0   0.0   0.0   0.0   0.0  \n11      0.0   0.0   0.0   0.0   0.0  \n...     ...   ...   ...   ...   ...  \n11417   0.0   0.0   0.0   0.0   1.0  \n11418   0.0   0.0   0.0   0.0   1.0  \n11419   0.0   0.0   0.0   0.0   1.0  \n11420   0.0   0.0   0.0   0.0   1.0  \n11421   0.0   0.0   0.0   0.0   1.0  \n\n[2448 rows x 12 columns]",
      "text/html": "<div>\n<style scoped>\n    .dataframe tbody tr th:only-of-type {\n        vertical-align: middle;\n    }\n\n    .dataframe tbody tr th {\n        vertical-align: top;\n    }\n\n    .dataframe thead th {\n        text-align: right;\n    }\n</style>\n<table border=\"1\" class=\"dataframe\">\n  <thead>\n    <tr style=\"text-align: right;\">\n      <th></th>\n      <th>Data_Value</th>\n      <th>Stratification1</th>\n      <th>obesity</th>\n      <th>food</th>\n      <th>exercise</th>\n      <th>activity</th>\n      <th>2011</th>\n      <th>2012</th>\n      <th>2013</th>\n      <th>2014</th>\n      <th>2015</th>\n      <th>2016</th>\n    </tr>\n  </thead>\n  <tbody>\n    <tr>\n      <th>7</th>\n      <td>16.3</td>\n      <td>0.0</td>\n      <td>1.0</td>\n      <td>0.0</td>\n      <td>0.0</td>\n      <td>0.0</td>\n      <td>1.0</td>\n      <td>0.0</td>\n      <td>0.0</td>\n      <td>0.0</td>\n      <td>0.0</td>\n      <td>0.0</td>\n    </tr>\n    <tr>\n      <th>8</th>\n      <td>35.2</td>\n      <td>1.0</td>\n      <td>1.0</td>\n      <td>0.0</td>\n      <td>0.0</td>\n      <td>0.0</td>\n      <td>1.0</td>\n      <td>0.0</td>\n      <td>0.0</td>\n      <td>0.0</td>\n      <td>0.0</td>\n      <td>0.0</td>\n    </tr>\n    <tr>\n      <th>9</th>\n      <td>35.5</td>\n      <td>2.0</td>\n      <td>1.0</td>\n      <td>0.0</td>\n      <td>0.0</td>\n      <td>0.0</td>\n      <td>1.0</td>\n      <td>0.0</td>\n      <td>0.0</td>\n      <td>0.0</td>\n      <td>0.0</td>\n      <td>0.0</td>\n    </tr>\n    <tr>\n      <th>10</th>\n      <td>38.0</td>\n      <td>3.0</td>\n      <td>1.0</td>\n      <td>0.0</td>\n      <td>0.0</td>\n      <td>0.0</td>\n      <td>1.0</td>\n      <td>0.0</td>\n      <td>0.0</td>\n      <td>0.0</td>\n      <td>0.0</td>\n      <td>0.0</td>\n    </tr>\n    <tr>\n      <th>11</th>\n      <td>36.4</td>\n      <td>4.0</td>\n      <td>1.0</td>\n      <td>0.0</td>\n      <td>0.0</td>\n      <td>0.0</td>\n      <td>1.0</td>\n      <td>0.0</td>\n      <td>0.0</td>\n      <td>0.0</td>\n      <td>0.0</td>\n      <td>0.0</td>\n    </tr>\n    <tr>\n      <th>...</th>\n      <td>...</td>\n      <td>...</td>\n      <td>...</td>\n      <td>...</td>\n      <td>...</td>\n      <td>...</td>\n      <td>...</td>\n      <td>...</td>\n      <td>...</td>\n      <td>...</td>\n      <td>...</td>\n      <td>...</td>\n    </tr>\n    <tr>\n      <th>11417</th>\n      <td>24.6</td>\n      <td>1.0</td>\n      <td>0.0</td>\n      <td>0.0</td>\n      <td>0.0</td>\n      <td>-0.5</td>\n      <td>0.0</td>\n      <td>0.0</td>\n      <td>0.0</td>\n      <td>0.0</td>\n      <td>0.0</td>\n      <td>1.0</td>\n    </tr>\n    <tr>\n      <th>11418</th>\n      <td>24.4</td>\n      <td>2.0</td>\n      <td>0.0</td>\n      <td>0.0</td>\n      <td>0.0</td>\n      <td>-0.5</td>\n      <td>0.0</td>\n      <td>0.0</td>\n      <td>0.0</td>\n      <td>0.0</td>\n      <td>0.0</td>\n      <td>1.0</td>\n    </tr>\n    <tr>\n      <th>11419</th>\n      <td>27.4</td>\n      <td>3.0</td>\n      <td>0.0</td>\n      <td>0.0</td>\n      <td>0.0</td>\n      <td>-0.5</td>\n      <td>0.0</td>\n      <td>0.0</td>\n      <td>0.0</td>\n      <td>0.0</td>\n      <td>0.0</td>\n      <td>1.0</td>\n    </tr>\n    <tr>\n      <th>11420</th>\n      <td>29.2</td>\n      <td>4.0</td>\n      <td>0.0</td>\n      <td>0.0</td>\n      <td>0.0</td>\n      <td>-0.5</td>\n      <td>0.0</td>\n      <td>0.0</td>\n      <td>0.0</td>\n      <td>0.0</td>\n      <td>0.0</td>\n      <td>1.0</td>\n    </tr>\n    <tr>\n      <th>11421</th>\n      <td>32.0</td>\n      <td>5.0</td>\n      <td>0.0</td>\n      <td>0.0</td>\n      <td>0.0</td>\n      <td>-0.5</td>\n      <td>0.0</td>\n      <td>0.0</td>\n      <td>0.0</td>\n      <td>0.0</td>\n      <td>0.0</td>\n      <td>1.0</td>\n    </tr>\n  </tbody>\n</table>\n<p>2448 rows × 12 columns</p>\n</div>"
     },
     "execution_count": 92,
     "metadata": {},
     "output_type": "execute_result"
    }
   ],
   "source": [
    "# drop rows with missing values\n",
    "data = data.dropna()\n",
    "data"
   ],
   "metadata": {
    "collapsed": false,
    "ExecuteTime": {
     "end_time": "2023-09-17T12:12:13.117475300Z",
     "start_time": "2023-09-17T12:12:12.864377800Z"
    }
   },
   "id": "78f0da59ff255822"
  },
  {
   "cell_type": "code",
   "execution_count": 93,
   "outputs": [
    {
     "name": "stdout",
     "output_type": "stream",
     "text": [
      "MAE: 5.160060696064708\n",
      "MSE: 44.34580777520995\n",
      "R² Score: 0.6172023221640037\n"
     ]
    },
    {
     "name": "stderr",
     "output_type": "stream",
     "text": [
      "C:\\Users\\sumuk\\Music\\heart-disease-project\\env\\lib\\site-packages\\sklearn\\utils\\validation.py:1858: FutureWarning: Feature names only support names that are all strings. Got feature names with dtypes: ['int', 'str']. An error will be raised in 1.2.\n",
      "  warnings.warn(\n",
      "C:\\Users\\sumuk\\Music\\heart-disease-project\\env\\lib\\site-packages\\sklearn\\utils\\validation.py:1858: FutureWarning: Feature names only support names that are all strings. Got feature names with dtypes: ['int', 'str']. An error will be raised in 1.2.\n",
      "  warnings.warn(\n"
     ]
    }
   ],
   "source": [
    "import pandas as pd\n",
    "from sklearn.model_selection import train_test_split\n",
    "from sklearn.ensemble import RandomForestRegressor\n",
    "from sklearn.metrics import mean_absolute_error, mean_squared_error, r2_score\n",
    "\n",
    "# Define the features and the target variable\n",
    "features = [\n",
    "    'Stratification1', 'obesity', 'food', 'exercise', 'activity',\n",
    "    2011, 2012, 2013, 2014, 2015, 2016\n",
    "]\n",
    "target = 'Data_Value'\n",
    "\n",
    "# Separate the features and the target variable\n",
    "X = data[features]\n",
    "y = data[target]\n",
    "\n",
    "# Split the data into training and testing sets\n",
    "X_train, X_test, y_train, y_test = train_test_split(X, y, test_size=0.2, random_state=42)\n",
    "\n",
    "# Initialize the Random Forest regressor\n",
    "model_rf = RandomForestRegressor(random_state=42)\n",
    "\n",
    "# Train the Random Forest regressor\n",
    "model_rf.fit(X_train, y_train)\n",
    "\n",
    "# Predict the target variable on the testing set\n",
    "y_pred = model_rf.predict(X_test)\n",
    "\n",
    "# Calculate regression metrics to evaluate the model\n",
    "mae = mean_absolute_error(y_test, y_pred)\n",
    "mse = mean_squared_error(y_test, y_pred)\n",
    "r2 = r2_score(y_test, y_pred)\n",
    "\n",
    "print(f'MAE: {mae}')\n",
    "print(f'MSE: {mse}')\n",
    "print(f'R² Score: {r2}')\n"
   ],
   "metadata": {
    "collapsed": false,
    "ExecuteTime": {
     "end_time": "2023-09-17T12:12:20.786964700Z",
     "start_time": "2023-09-17T12:12:20.575395300Z"
    }
   },
   "id": "be9c3e321f86ab48"
  },
  {
   "cell_type": "code",
   "execution_count": 94,
   "outputs": [],
   "source": [
    "# training model without YearStart column\n",
    "# drop YearStart column\n",
    "data = data.drop([2011, 2012, 2013, 2014, 2015, 2016], axis=1)"
   ],
   "metadata": {
    "collapsed": false,
    "ExecuteTime": {
     "end_time": "2023-09-17T12:12:36.392653100Z",
     "start_time": "2023-09-17T12:12:36.371623700Z"
    }
   },
   "id": "6ed4720ebb4959e0"
  },
  {
   "cell_type": "code",
   "execution_count": 95,
   "outputs": [
    {
     "data": {
      "text/plain": "       Data_Value  Stratification1  obesity  food  exercise  activity\n7            16.3              0.0      1.0   0.0       0.0       0.0\n8            35.2              1.0      1.0   0.0       0.0       0.0\n9            35.5              2.0      1.0   0.0       0.0       0.0\n10           38.0              3.0      1.0   0.0       0.0       0.0\n11           36.4              4.0      1.0   0.0       0.0       0.0\n...           ...              ...      ...   ...       ...       ...\n11417        24.6              1.0      0.0   0.0       0.0      -0.5\n11418        24.4              2.0      0.0   0.0       0.0      -0.5\n11419        27.4              3.0      0.0   0.0       0.0      -0.5\n11420        29.2              4.0      0.0   0.0       0.0      -0.5\n11421        32.0              5.0      0.0   0.0       0.0      -0.5\n\n[2448 rows x 6 columns]",
      "text/html": "<div>\n<style scoped>\n    .dataframe tbody tr th:only-of-type {\n        vertical-align: middle;\n    }\n\n    .dataframe tbody tr th {\n        vertical-align: top;\n    }\n\n    .dataframe thead th {\n        text-align: right;\n    }\n</style>\n<table border=\"1\" class=\"dataframe\">\n  <thead>\n    <tr style=\"text-align: right;\">\n      <th></th>\n      <th>Data_Value</th>\n      <th>Stratification1</th>\n      <th>obesity</th>\n      <th>food</th>\n      <th>exercise</th>\n      <th>activity</th>\n    </tr>\n  </thead>\n  <tbody>\n    <tr>\n      <th>7</th>\n      <td>16.3</td>\n      <td>0.0</td>\n      <td>1.0</td>\n      <td>0.0</td>\n      <td>0.0</td>\n      <td>0.0</td>\n    </tr>\n    <tr>\n      <th>8</th>\n      <td>35.2</td>\n      <td>1.0</td>\n      <td>1.0</td>\n      <td>0.0</td>\n      <td>0.0</td>\n      <td>0.0</td>\n    </tr>\n    <tr>\n      <th>9</th>\n      <td>35.5</td>\n      <td>2.0</td>\n      <td>1.0</td>\n      <td>0.0</td>\n      <td>0.0</td>\n      <td>0.0</td>\n    </tr>\n    <tr>\n      <th>10</th>\n      <td>38.0</td>\n      <td>3.0</td>\n      <td>1.0</td>\n      <td>0.0</td>\n      <td>0.0</td>\n      <td>0.0</td>\n    </tr>\n    <tr>\n      <th>11</th>\n      <td>36.4</td>\n      <td>4.0</td>\n      <td>1.0</td>\n      <td>0.0</td>\n      <td>0.0</td>\n      <td>0.0</td>\n    </tr>\n    <tr>\n      <th>...</th>\n      <td>...</td>\n      <td>...</td>\n      <td>...</td>\n      <td>...</td>\n      <td>...</td>\n      <td>...</td>\n    </tr>\n    <tr>\n      <th>11417</th>\n      <td>24.6</td>\n      <td>1.0</td>\n      <td>0.0</td>\n      <td>0.0</td>\n      <td>0.0</td>\n      <td>-0.5</td>\n    </tr>\n    <tr>\n      <th>11418</th>\n      <td>24.4</td>\n      <td>2.0</td>\n      <td>0.0</td>\n      <td>0.0</td>\n      <td>0.0</td>\n      <td>-0.5</td>\n    </tr>\n    <tr>\n      <th>11419</th>\n      <td>27.4</td>\n      <td>3.0</td>\n      <td>0.0</td>\n      <td>0.0</td>\n      <td>0.0</td>\n      <td>-0.5</td>\n    </tr>\n    <tr>\n      <th>11420</th>\n      <td>29.2</td>\n      <td>4.0</td>\n      <td>0.0</td>\n      <td>0.0</td>\n      <td>0.0</td>\n      <td>-0.5</td>\n    </tr>\n    <tr>\n      <th>11421</th>\n      <td>32.0</td>\n      <td>5.0</td>\n      <td>0.0</td>\n      <td>0.0</td>\n      <td>0.0</td>\n      <td>-0.5</td>\n    </tr>\n  </tbody>\n</table>\n<p>2448 rows × 6 columns</p>\n</div>"
     },
     "execution_count": 95,
     "metadata": {},
     "output_type": "execute_result"
    }
   ],
   "source": [
    "data"
   ],
   "metadata": {
    "collapsed": false,
    "ExecuteTime": {
     "end_time": "2023-09-17T12:12:40.830173800Z",
     "start_time": "2023-09-17T12:12:40.788101400Z"
    }
   },
   "id": "f9c19d4a2ffb2d75"
  },
  {
   "cell_type": "code",
   "execution_count": 96,
   "outputs": [
    {
     "data": {
      "text/plain": "(0.46126803314389675, 0.33136789734274635, 0.6744799336503451)"
     },
     "execution_count": 96,
     "metadata": {},
     "output_type": "execute_result"
    }
   ],
   "source": [
    "from sklearn.preprocessing import StandardScaler\n",
    "from sklearn.model_selection import train_test_split\n",
    "from sklearn.ensemble import RandomForestRegressor\n",
    "from sklearn.metrics import mean_absolute_error, mean_squared_error, r2_score\n",
    "from sklearn.preprocessing import StandardScaler\n",
    "from sklearn.pipeline import make_pipeline\n",
    "\n",
    "features = ['Stratification1', 'obesity', 'food', 'exercise', 'activity']\n",
    "target = 'Data_Value'\n",
    "\n",
    "# Separate the features and the target variable\n",
    "X = data[features]\n",
    "y = data[target]\n",
    "\n",
    "# Split the data into training and testing sets before standardizing the \"Data_Value\"\n",
    "X_train, X_test, y_train, y_test = train_test_split(X, y, test_size=0.2, random_state=42)\n",
    "\n",
    "# Standardize the \"Data_Value\" in the training and testing sets\n",
    "scaler_y = StandardScaler()\n",
    "y_train_scaled = scaler_y.fit_transform(y_train.values.reshape(-1, 1)).ravel()\n",
    "y_test_scaled = scaler_y.transform(y_test.values.reshape(-1, 1)).ravel()\n",
    "\n",
    "# Initialize the Random Forest regressor\n",
    "model_rf = RandomForestRegressor(random_state=42)\n",
    "\n",
    "# Train the Random Forest regressor using the standardized \"Data_Value\"\n",
    "model_rf.fit(X_train, y_train_scaled)\n",
    "\n",
    "# Predict the standardized \"Data_Value\" on the testing set\n",
    "y_pred_scaled = model_rf.predict(X_test)\n",
    "\n",
    "# Calculate regression metrics to evaluate the model\n",
    "mae_scaled = mean_absolute_error(y_test_scaled, y_pred_scaled)\n",
    "mse_scaled = mean_squared_error(y_test_scaled, y_pred_scaled)\n",
    "r2_scaled = r2_score(y_test_scaled, y_pred_scaled)\n",
    "\n",
    "mae_scaled, mse_scaled, r2_scaled\n"
   ],
   "metadata": {
    "collapsed": false,
    "ExecuteTime": {
     "end_time": "2023-09-17T12:12:53.239684600Z",
     "start_time": "2023-09-17T12:12:53.076608100Z"
    }
   },
   "id": "fb613c673e943c87"
  },
  {
   "cell_type": "code",
   "execution_count": 97,
   "outputs": [
    {
     "name": "stdout",
     "output_type": "stream",
     "text": [
      "MAE: 4.920720103996479\n",
      "MSE: 37.710391481267116\n",
      "R² Score: 0.674479933650345\n"
     ]
    }
   ],
   "source": [
    "# Define the features and the target variable\n",
    "features = ['Stratification1', 'obesity', 'food', 'exercise', 'activity']\n",
    "target = 'Data_Value'\n",
    "\n",
    "# Separate the features and the target variable\n",
    "X = data[features]\n",
    "y = data[target]\n",
    "\n",
    "# Adding interaction terms between different pairs of features\n",
    "interaction_features = [\n",
    "    ('Stratification1', 'obesity'),\n",
    "    ('Stratification1', 'food'),\n",
    "    ('Stratification1', 'exercise'),\n",
    "    ('Stratification1', 'activity'),\n",
    "    ('obesity', 'food'),\n",
    "    ('obesity', 'exercise'),\n",
    "    ('obesity', 'activity'),\n",
    "    ('food', 'exercise'),\n",
    "    ('food', 'activity'),\n",
    "    ('exercise', 'activity')\n",
    "]\n",
    "\n",
    "for feature1, feature2 in interaction_features:\n",
    "    X[f'{feature1}_x_{feature2}'] = X[feature1] * X[feature2]\n",
    "\n",
    "# Split the data into training and testing sets\n",
    "X_train, X_test, y_train, y_test = train_test_split(X, y, test_size=0.2, random_state=42)\n",
    "\n",
    "# Initialize the Random Forest regressor\n",
    "model = RandomForestRegressor(random_state=42)\n",
    "\n",
    "# Create a pipeline with feature scaling and the model\n",
    "pipeline = make_pipeline(StandardScaler(), model)\n",
    "\n",
    "# Train the model\n",
    "pipeline.fit(X_train, y_train)\n",
    "\n",
    "# Predict the target variable on the testing set\n",
    "y_pred = pipeline.predict(X_test)\n",
    "\n",
    "# Calculate regression metrics to evaluate the model\n",
    "mae = mean_absolute_error(y_test, y_pred)\n",
    "mse = mean_squared_error(y_test, y_pred)\n",
    "r2 = r2_score(y_test, y_pred)\n",
    "\n",
    "print(f'MAE: {mae}')\n",
    "print(f'MSE: {mse}')\n",
    "print(f'R² Score: {r2}')"
   ],
   "metadata": {
    "collapsed": false,
    "ExecuteTime": {
     "end_time": "2023-09-17T12:12:55.474064400Z",
     "start_time": "2023-09-17T12:12:55.297029100Z"
    }
   },
   "id": "5c3eabc2291ad841"
  },
  {
   "cell_type": "code",
   "execution_count": 98,
   "outputs": [],
   "source": [
    "def predict_data_value():\n",
    "    income = int(input('Enter your income: '))\n",
    "    obesity = int(input('Enter your obesity: '))\n",
    "    food = int(input('Enter your food: '))\n",
    "    exercise = int(input('Enter your exercise: '))\n",
    "    activity = int(input('Enter your activity: '))\n",
    "\n",
    "    # create a dataframe with the user input\n",
    "    user_input = pd.DataFrame([[income, obesity, food, exercise, activity]], columns=['Stratification1', 'obesity', 'food', 'exercise', 'activity'])\n",
    "\n",
    "    # add interaction terms\n",
    "    for feature1, feature2 in interaction_features:\n",
    "        user_input[f'{feature1}_x_{feature2}'] = user_input[feature1] * user_input[feature2]\n",
    "    \n",
    "    # make a prediction using the pipeline\n",
    "    prediction = pipeline.predict(user_input)\n",
    "\n",
    "    # print the prediction\n",
    "    print(f'Your predicted Data Value for is {prediction[0]:.1f}')\n",
    "    "
   ],
   "metadata": {
    "collapsed": false,
    "ExecuteTime": {
     "end_time": "2023-09-17T12:12:57.903675Z",
     "start_time": "2023-09-17T12:12:57.879662300Z"
    }
   },
   "id": "2c116acdb87d49e7"
  },
  {
   "cell_type": "code",
   "execution_count": 41,
   "outputs": [
    {
     "ename": "ValueError",
     "evalue": "invalid literal for int() with base 10: ''",
     "output_type": "error",
     "traceback": [
      "\u001B[1;31m---------------------------------------------------------------------------\u001B[0m",
      "\u001B[1;31mValueError\u001B[0m                                Traceback (most recent call last)",
      "Input \u001B[1;32mIn [41]\u001B[0m, in \u001B[0;36m<cell line: 2>\u001B[1;34m()\u001B[0m\n\u001B[0;32m      1\u001B[0m \u001B[38;5;66;03m# call the function to make a prediction\u001B[39;00m\n\u001B[1;32m----> 2\u001B[0m \u001B[43mpredict_data_value\u001B[49m\u001B[43m(\u001B[49m\u001B[43m)\u001B[49m\n",
      "Input \u001B[1;32mIn [40]\u001B[0m, in \u001B[0;36mpredict_data_value\u001B[1;34m()\u001B[0m\n\u001B[0;32m      1\u001B[0m \u001B[38;5;28;01mdef\u001B[39;00m \u001B[38;5;21mpredict_data_value\u001B[39m():\n\u001B[1;32m----> 2\u001B[0m     income \u001B[38;5;241m=\u001B[39m \u001B[38;5;28;43mint\u001B[39;49m\u001B[43m(\u001B[49m\u001B[38;5;28;43minput\u001B[39;49m\u001B[43m(\u001B[49m\u001B[38;5;124;43m'\u001B[39;49m\u001B[38;5;124;43mEnter your income: \u001B[39;49m\u001B[38;5;124;43m'\u001B[39;49m\u001B[43m)\u001B[49m\u001B[43m)\u001B[49m\n\u001B[0;32m      3\u001B[0m     obesity \u001B[38;5;241m=\u001B[39m \u001B[38;5;28mint\u001B[39m(\u001B[38;5;28minput\u001B[39m(\u001B[38;5;124m'\u001B[39m\u001B[38;5;124mEnter your obesity: \u001B[39m\u001B[38;5;124m'\u001B[39m))\n\u001B[0;32m      4\u001B[0m     food \u001B[38;5;241m=\u001B[39m \u001B[38;5;28mint\u001B[39m(\u001B[38;5;28minput\u001B[39m(\u001B[38;5;124m'\u001B[39m\u001B[38;5;124mEnter your food: \u001B[39m\u001B[38;5;124m'\u001B[39m))\n",
      "\u001B[1;31mValueError\u001B[0m: invalid literal for int() with base 10: ''"
     ]
    }
   ],
   "source": [
    "# call the function to make a prediction\n",
    "predict_data_value()"
   ],
   "metadata": {
    "collapsed": false,
    "ExecuteTime": {
     "end_time": "2023-09-17T12:03:19.897035200Z",
     "start_time": "2023-09-17T12:03:16.011644800Z"
    }
   },
   "id": "5996de478fd5ec7"
  },
  {
   "cell_type": "code",
   "execution_count": null,
   "outputs": [],
   "source": [],
   "metadata": {
    "collapsed": false,
    "ExecuteTime": {
     "start_time": "2023-09-17T12:03:19.846806Z"
    }
   },
   "id": "656f07bcb2e6fb90"
  }
 ],
 "metadata": {
  "kernelspec": {
   "display_name": "Python 3",
   "language": "python",
   "name": "python3"
  },
  "language_info": {
   "codemirror_mode": {
    "name": "ipython",
    "version": 2
   },
   "file_extension": ".py",
   "mimetype": "text/x-python",
   "name": "python",
   "nbconvert_exporter": "python",
   "pygments_lexer": "ipython2",
   "version": "2.7.6"
  }
 },
 "nbformat": 4,
 "nbformat_minor": 5
}
