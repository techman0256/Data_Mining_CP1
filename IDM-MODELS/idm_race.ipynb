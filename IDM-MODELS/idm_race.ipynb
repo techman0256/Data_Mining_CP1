{
 "cells": [
  {
   "cell_type": "code",
   "execution_count": 1,
   "id": "initial_id",
   "metadata": {
    "collapsed": true,
    "ExecuteTime": {
     "end_time": "2023-09-17T17:13:13.837235700Z",
     "start_time": "2023-09-17T17:13:13.564518600Z"
    }
   },
   "outputs": [
    {
     "data": {
      "text/plain": "   YearStart  YearEnd LocationAbbr LocationDesc  \\\n0       2011     2011           AL      Alabama   \n1       2011     2011           AL      Alabama   \n2       2011     2011           AL      Alabama   \n3       2011     2011           AL      Alabama   \n4       2011     2011           AL      Alabama   \n\n                                   Datasource                    Class  \\\n0  Behavioral Risk Factor Surveillance System  Obesity / Weight Status   \n1  Behavioral Risk Factor Surveillance System  Obesity / Weight Status   \n2  Behavioral Risk Factor Surveillance System  Obesity / Weight Status   \n3  Behavioral Risk Factor Surveillance System  Obesity / Weight Status   \n4  Behavioral Risk Factor Surveillance System  Obesity / Weight Status   \n\n                     Topic                                           Question  \\\n0  Obesity / Weight Status  Percent of adults aged 18 years and older who ...   \n1  Obesity / Weight Status  Percent of adults aged 18 years and older who ...   \n2  Obesity / Weight Status  Percent of adults aged 18 years and older who ...   \n3  Obesity / Weight Status  Percent of adults aged 18 years and older who ...   \n4  Obesity / Weight Status  Percent of adults aged 18 years and older who ...   \n\n   Data_Value_Unit Data_Value_Type  ...  \\\n0              NaN           Value  ...   \n1              NaN           Value  ...   \n2              NaN           Value  ...   \n3              NaN           Value  ...   \n4              NaN           Value  ...   \n\n                               GeoLocation  ClassID TopicID QuestionID  \\\n0  (32.84057112200048, -86.63186076199969)      OWS    OWS1       Q036   \n1  (32.84057112200048, -86.63186076199969)      OWS    OWS1       Q036   \n2  (32.84057112200048, -86.63186076199969)      OWS    OWS1       Q036   \n3  (32.84057112200048, -86.63186076199969)      OWS    OWS1       Q036   \n4  (32.84057112200048, -86.63186076199969)      OWS    OWS1       Q036   \n\n   DataValueTypeID  LocationID  StratificationCategory1  \\\n0            VALUE           1                    Total   \n1            VALUE           1                   Gender   \n2            VALUE           1                   Gender   \n3            VALUE           1                Education   \n4            VALUE           1                Education   \n\n         Stratification1 StratificationCategoryId1 StratificationID1  \n0                  Total                       OVR           OVERALL  \n1                   Male                       GEN              MALE  \n2                 Female                       GEN            FEMALE  \n3  Less than high school                       EDU             EDUHS  \n4   High school graduate                       EDU         EDUHSGRAD  \n\n[5 rows x 33 columns]",
      "text/html": "<div>\n<style scoped>\n    .dataframe tbody tr th:only-of-type {\n        vertical-align: middle;\n    }\n\n    .dataframe tbody tr th {\n        vertical-align: top;\n    }\n\n    .dataframe thead th {\n        text-align: right;\n    }\n</style>\n<table border=\"1\" class=\"dataframe\">\n  <thead>\n    <tr style=\"text-align: right;\">\n      <th></th>\n      <th>YearStart</th>\n      <th>YearEnd</th>\n      <th>LocationAbbr</th>\n      <th>LocationDesc</th>\n      <th>Datasource</th>\n      <th>Class</th>\n      <th>Topic</th>\n      <th>Question</th>\n      <th>Data_Value_Unit</th>\n      <th>Data_Value_Type</th>\n      <th>...</th>\n      <th>GeoLocation</th>\n      <th>ClassID</th>\n      <th>TopicID</th>\n      <th>QuestionID</th>\n      <th>DataValueTypeID</th>\n      <th>LocationID</th>\n      <th>StratificationCategory1</th>\n      <th>Stratification1</th>\n      <th>StratificationCategoryId1</th>\n      <th>StratificationID1</th>\n    </tr>\n  </thead>\n  <tbody>\n    <tr>\n      <th>0</th>\n      <td>2011</td>\n      <td>2011</td>\n      <td>AL</td>\n      <td>Alabama</td>\n      <td>Behavioral Risk Factor Surveillance System</td>\n      <td>Obesity / Weight Status</td>\n      <td>Obesity / Weight Status</td>\n      <td>Percent of adults aged 18 years and older who ...</td>\n      <td>NaN</td>\n      <td>Value</td>\n      <td>...</td>\n      <td>(32.84057112200048, -86.63186076199969)</td>\n      <td>OWS</td>\n      <td>OWS1</td>\n      <td>Q036</td>\n      <td>VALUE</td>\n      <td>1</td>\n      <td>Total</td>\n      <td>Total</td>\n      <td>OVR</td>\n      <td>OVERALL</td>\n    </tr>\n    <tr>\n      <th>1</th>\n      <td>2011</td>\n      <td>2011</td>\n      <td>AL</td>\n      <td>Alabama</td>\n      <td>Behavioral Risk Factor Surveillance System</td>\n      <td>Obesity / Weight Status</td>\n      <td>Obesity / Weight Status</td>\n      <td>Percent of adults aged 18 years and older who ...</td>\n      <td>NaN</td>\n      <td>Value</td>\n      <td>...</td>\n      <td>(32.84057112200048, -86.63186076199969)</td>\n      <td>OWS</td>\n      <td>OWS1</td>\n      <td>Q036</td>\n      <td>VALUE</td>\n      <td>1</td>\n      <td>Gender</td>\n      <td>Male</td>\n      <td>GEN</td>\n      <td>MALE</td>\n    </tr>\n    <tr>\n      <th>2</th>\n      <td>2011</td>\n      <td>2011</td>\n      <td>AL</td>\n      <td>Alabama</td>\n      <td>Behavioral Risk Factor Surveillance System</td>\n      <td>Obesity / Weight Status</td>\n      <td>Obesity / Weight Status</td>\n      <td>Percent of adults aged 18 years and older who ...</td>\n      <td>NaN</td>\n      <td>Value</td>\n      <td>...</td>\n      <td>(32.84057112200048, -86.63186076199969)</td>\n      <td>OWS</td>\n      <td>OWS1</td>\n      <td>Q036</td>\n      <td>VALUE</td>\n      <td>1</td>\n      <td>Gender</td>\n      <td>Female</td>\n      <td>GEN</td>\n      <td>FEMALE</td>\n    </tr>\n    <tr>\n      <th>3</th>\n      <td>2011</td>\n      <td>2011</td>\n      <td>AL</td>\n      <td>Alabama</td>\n      <td>Behavioral Risk Factor Surveillance System</td>\n      <td>Obesity / Weight Status</td>\n      <td>Obesity / Weight Status</td>\n      <td>Percent of adults aged 18 years and older who ...</td>\n      <td>NaN</td>\n      <td>Value</td>\n      <td>...</td>\n      <td>(32.84057112200048, -86.63186076199969)</td>\n      <td>OWS</td>\n      <td>OWS1</td>\n      <td>Q036</td>\n      <td>VALUE</td>\n      <td>1</td>\n      <td>Education</td>\n      <td>Less than high school</td>\n      <td>EDU</td>\n      <td>EDUHS</td>\n    </tr>\n    <tr>\n      <th>4</th>\n      <td>2011</td>\n      <td>2011</td>\n      <td>AL</td>\n      <td>Alabama</td>\n      <td>Behavioral Risk Factor Surveillance System</td>\n      <td>Obesity / Weight Status</td>\n      <td>Obesity / Weight Status</td>\n      <td>Percent of adults aged 18 years and older who ...</td>\n      <td>NaN</td>\n      <td>Value</td>\n      <td>...</td>\n      <td>(32.84057112200048, -86.63186076199969)</td>\n      <td>OWS</td>\n      <td>OWS1</td>\n      <td>Q036</td>\n      <td>VALUE</td>\n      <td>1</td>\n      <td>Education</td>\n      <td>High school graduate</td>\n      <td>EDU</td>\n      <td>EDUHSGRAD</td>\n    </tr>\n  </tbody>\n</table>\n<p>5 rows × 33 columns</p>\n</div>"
     },
     "execution_count": 1,
     "metadata": {},
     "output_type": "execute_result"
    }
   ],
   "source": [
    "import pandas as pd\n",
    "# Load the CSV File\n",
    "data = pd.read_csv(\"data.csv\")\n",
    "data.head()"
   ]
  },
  {
   "cell_type": "code",
   "execution_count": 2,
   "outputs": [
    {
     "data": {
      "text/plain": "       YearStart                                           Question  \\\n0           2011  Percent of adults aged 18 years and older who ...   \n1           2011  Percent of adults aged 18 years and older who ...   \n2           2011  Percent of adults aged 18 years and older who ...   \n3           2011  Percent of adults aged 18 years and older who ...   \n4           2011  Percent of adults aged 18 years and older who ...   \n...          ...                                                ...   \n53387       2016  Percent of adults who engage in no leisure-tim...   \n53388       2016  Percent of adults who engage in no leisure-tim...   \n53389       2016  Percent of adults who engage in no leisure-tim...   \n53390       2016  Percent of adults who engage in no leisure-tim...   \n53391       2016  Percent of adults who engage in no leisure-tim...   \n\n      StratificationCategory1  Data_Value                Stratification1  \n0                       Total        32.0                          Total  \n1                      Gender        32.3                           Male  \n2                      Gender        31.8                         Female  \n3                   Education        33.6          Less than high school  \n4                   Education        32.8           High school graduate  \n...                       ...         ...                            ...  \n53387          Race/Ethnicity         NaN                          Asian  \n53388          Race/Ethnicity         NaN      Hawaiian/Pacific Islander  \n53389          Race/Ethnicity         NaN  American Indian/Alaska Native  \n53390          Race/Ethnicity         NaN                2 or more races  \n53391          Race/Ethnicity         NaN                          Other  \n\n[53392 rows x 5 columns]",
      "text/html": "<div>\n<style scoped>\n    .dataframe tbody tr th:only-of-type {\n        vertical-align: middle;\n    }\n\n    .dataframe tbody tr th {\n        vertical-align: top;\n    }\n\n    .dataframe thead th {\n        text-align: right;\n    }\n</style>\n<table border=\"1\" class=\"dataframe\">\n  <thead>\n    <tr style=\"text-align: right;\">\n      <th></th>\n      <th>YearStart</th>\n      <th>Question</th>\n      <th>StratificationCategory1</th>\n      <th>Data_Value</th>\n      <th>Stratification1</th>\n    </tr>\n  </thead>\n  <tbody>\n    <tr>\n      <th>0</th>\n      <td>2011</td>\n      <td>Percent of adults aged 18 years and older who ...</td>\n      <td>Total</td>\n      <td>32.0</td>\n      <td>Total</td>\n    </tr>\n    <tr>\n      <th>1</th>\n      <td>2011</td>\n      <td>Percent of adults aged 18 years and older who ...</td>\n      <td>Gender</td>\n      <td>32.3</td>\n      <td>Male</td>\n    </tr>\n    <tr>\n      <th>2</th>\n      <td>2011</td>\n      <td>Percent of adults aged 18 years and older who ...</td>\n      <td>Gender</td>\n      <td>31.8</td>\n      <td>Female</td>\n    </tr>\n    <tr>\n      <th>3</th>\n      <td>2011</td>\n      <td>Percent of adults aged 18 years and older who ...</td>\n      <td>Education</td>\n      <td>33.6</td>\n      <td>Less than high school</td>\n    </tr>\n    <tr>\n      <th>4</th>\n      <td>2011</td>\n      <td>Percent of adults aged 18 years and older who ...</td>\n      <td>Education</td>\n      <td>32.8</td>\n      <td>High school graduate</td>\n    </tr>\n    <tr>\n      <th>...</th>\n      <td>...</td>\n      <td>...</td>\n      <td>...</td>\n      <td>...</td>\n      <td>...</td>\n    </tr>\n    <tr>\n      <th>53387</th>\n      <td>2016</td>\n      <td>Percent of adults who engage in no leisure-tim...</td>\n      <td>Race/Ethnicity</td>\n      <td>NaN</td>\n      <td>Asian</td>\n    </tr>\n    <tr>\n      <th>53388</th>\n      <td>2016</td>\n      <td>Percent of adults who engage in no leisure-tim...</td>\n      <td>Race/Ethnicity</td>\n      <td>NaN</td>\n      <td>Hawaiian/Pacific Islander</td>\n    </tr>\n    <tr>\n      <th>53389</th>\n      <td>2016</td>\n      <td>Percent of adults who engage in no leisure-tim...</td>\n      <td>Race/Ethnicity</td>\n      <td>NaN</td>\n      <td>American Indian/Alaska Native</td>\n    </tr>\n    <tr>\n      <th>53390</th>\n      <td>2016</td>\n      <td>Percent of adults who engage in no leisure-tim...</td>\n      <td>Race/Ethnicity</td>\n      <td>NaN</td>\n      <td>2 or more races</td>\n    </tr>\n    <tr>\n      <th>53391</th>\n      <td>2016</td>\n      <td>Percent of adults who engage in no leisure-tim...</td>\n      <td>Race/Ethnicity</td>\n      <td>NaN</td>\n      <td>Other</td>\n    </tr>\n  </tbody>\n</table>\n<p>53392 rows × 5 columns</p>\n</div>"
     },
     "execution_count": 2,
     "metadata": {},
     "output_type": "execute_result"
    }
   ],
   "source": [
    "columns_to_keep = ['YearStart', 'Question', 'StratificationCategory1', 'Data_Value', 'Stratification1']\n",
    "\n",
    "# Create a new DataFrame with only the selected columns\n",
    "data = data[columns_to_keep]\n",
    "data"
   ],
   "metadata": {
    "collapsed": false,
    "ExecuteTime": {
     "end_time": "2023-09-17T17:13:13.903813500Z",
     "start_time": "2023-09-17T17:13:13.833237800Z"
    }
   },
   "id": "e2068f4bb1f33d2a"
  },
  {
   "cell_type": "code",
   "execution_count": 3,
   "outputs": [
    {
     "data": {
      "text/plain": "       YearStart                                           Question  \\\n20          2011  Percent of adults aged 18 years and older who ...   \n21          2011  Percent of adults aged 18 years and older who ...   \n22          2011  Percent of adults aged 18 years and older who ...   \n25          2011  Percent of adults aged 18 years and older who ...   \n48          2011  Percent of adults aged 18 years and older who ...   \n...          ...                                                ...   \n53334       2016  Percent of adults who engage in no leisure-tim...   \n53359       2016  Percent of adults who engage in no leisure-tim...   \n53384       2016  Percent of adults who engage in no leisure-tim...   \n53385       2016  Percent of adults who engage in no leisure-tim...   \n53386       2016  Percent of adults who engage in no leisure-tim...   \n\n       Data_Value                Stratification1  \n20           29.8             Non-Hispanic White  \n21           40.1             Non-Hispanic Black  \n22           28.6                       Hispanic  \n25           32.9  American Indian/Alaska Native  \n48           36.4             Non-Hispanic White  \n...           ...                            ...  \n53334        34.6      Hawaiian/Pacific Islander  \n53359        41.6                       Hispanic  \n53384        18.3             Non-Hispanic White  \n53385        24.1             Non-Hispanic Black  \n53386        30.3                       Hispanic  \n\n[7844 rows x 4 columns]",
      "text/html": "<div>\n<style scoped>\n    .dataframe tbody tr th:only-of-type {\n        vertical-align: middle;\n    }\n\n    .dataframe tbody tr th {\n        vertical-align: top;\n    }\n\n    .dataframe thead th {\n        text-align: right;\n    }\n</style>\n<table border=\"1\" class=\"dataframe\">\n  <thead>\n    <tr style=\"text-align: right;\">\n      <th></th>\n      <th>YearStart</th>\n      <th>Question</th>\n      <th>Data_Value</th>\n      <th>Stratification1</th>\n    </tr>\n  </thead>\n  <tbody>\n    <tr>\n      <th>20</th>\n      <td>2011</td>\n      <td>Percent of adults aged 18 years and older who ...</td>\n      <td>29.8</td>\n      <td>Non-Hispanic White</td>\n    </tr>\n    <tr>\n      <th>21</th>\n      <td>2011</td>\n      <td>Percent of adults aged 18 years and older who ...</td>\n      <td>40.1</td>\n      <td>Non-Hispanic Black</td>\n    </tr>\n    <tr>\n      <th>22</th>\n      <td>2011</td>\n      <td>Percent of adults aged 18 years and older who ...</td>\n      <td>28.6</td>\n      <td>Hispanic</td>\n    </tr>\n    <tr>\n      <th>25</th>\n      <td>2011</td>\n      <td>Percent of adults aged 18 years and older who ...</td>\n      <td>32.9</td>\n      <td>American Indian/Alaska Native</td>\n    </tr>\n    <tr>\n      <th>48</th>\n      <td>2011</td>\n      <td>Percent of adults aged 18 years and older who ...</td>\n      <td>36.4</td>\n      <td>Non-Hispanic White</td>\n    </tr>\n    <tr>\n      <th>...</th>\n      <td>...</td>\n      <td>...</td>\n      <td>...</td>\n      <td>...</td>\n    </tr>\n    <tr>\n      <th>53334</th>\n      <td>2016</td>\n      <td>Percent of adults who engage in no leisure-tim...</td>\n      <td>34.6</td>\n      <td>Hawaiian/Pacific Islander</td>\n    </tr>\n    <tr>\n      <th>53359</th>\n      <td>2016</td>\n      <td>Percent of adults who engage in no leisure-tim...</td>\n      <td>41.6</td>\n      <td>Hispanic</td>\n    </tr>\n    <tr>\n      <th>53384</th>\n      <td>2016</td>\n      <td>Percent of adults who engage in no leisure-tim...</td>\n      <td>18.3</td>\n      <td>Non-Hispanic White</td>\n    </tr>\n    <tr>\n      <th>53385</th>\n      <td>2016</td>\n      <td>Percent of adults who engage in no leisure-tim...</td>\n      <td>24.1</td>\n      <td>Non-Hispanic Black</td>\n    </tr>\n    <tr>\n      <th>53386</th>\n      <td>2016</td>\n      <td>Percent of adults who engage in no leisure-tim...</td>\n      <td>30.3</td>\n      <td>Hispanic</td>\n    </tr>\n  </tbody>\n</table>\n<p>7844 rows × 4 columns</p>\n</div>"
     },
     "execution_count": 3,
     "metadata": {},
     "output_type": "execute_result"
    }
   ],
   "source": [
    "# keep only rows where the StratificationCategory1 is Income\n",
    "data = data[data['StratificationCategory1'] == 'Race/Ethnicity']\n",
    "# drop rows with missing values\n",
    "data = data.dropna()\n",
    "# Drop the StratificationCategory1 column\n",
    "data = data.drop('StratificationCategory1', axis=1)\n",
    "# drop rows with Stratification1 = Other or Stratification1 = '2 or more races'\n",
    "data = data[data['Stratification1'] != 'Other']\n",
    "data = data[data['Stratification1'] != '2 or more races']\n",
    "\n",
    "data"
   ],
   "metadata": {
    "collapsed": false,
    "ExecuteTime": {
     "end_time": "2023-09-17T17:13:14.001337400Z",
     "start_time": "2023-09-17T17:13:13.867246900Z"
    }
   },
   "id": "292a0c84d4f090c8"
  },
  {
   "cell_type": "code",
   "execution_count": 4,
   "outputs": [
    {
     "data": {
      "text/plain": "YearStart          0.0\nQuestion           0.0\nData_Value         0.0\nStratification1    0.0\ndtype: float64"
     },
     "execution_count": 4,
     "metadata": {},
     "output_type": "execute_result"
    }
   ],
   "source": [
    "# give % of null values in each column\n",
    "data.isnull().sum() / len(data) * 100\n"
   ],
   "metadata": {
    "collapsed": false,
    "ExecuteTime": {
     "end_time": "2023-09-17T17:13:14.034358100Z",
     "start_time": "2023-09-17T17:13:13.896273700Z"
    }
   },
   "id": "abb91e191b686da9"
  },
  {
   "cell_type": "code",
   "execution_count": 5,
   "outputs": [
    {
     "data": {
      "text/plain": "       YearStart  Data_Value                Stratification1  obesity  food  \\\n20          2011        29.8             Non-Hispanic White        1     0   \n21          2011        40.1             Non-Hispanic Black        1     0   \n22          2011        28.6                       Hispanic        1     0   \n25          2011        32.9  American Indian/Alaska Native        1     0   \n48          2011        36.4             Non-Hispanic White        1     0   \n...          ...         ...                            ...      ...   ...   \n53334       2016        34.6      Hawaiian/Pacific Islander        0     0   \n53359       2016        41.6                       Hispanic        0     0   \n53384       2016        18.3             Non-Hispanic White        0     0   \n53385       2016        24.1             Non-Hispanic Black        0     0   \n53386       2016        30.3                       Hispanic        0     0   \n\n       exercise  activity  \n20          0.0       0.0  \n21          0.0       0.0  \n22          0.0       0.0  \n25          0.0       0.0  \n48          0.0       0.0  \n...         ...       ...  \n53334       0.0      -0.5  \n53359       0.0      -0.5  \n53384       0.0      -0.5  \n53385       0.0      -0.5  \n53386       0.0      -0.5  \n\n[7844 rows x 7 columns]",
      "text/html": "<div>\n<style scoped>\n    .dataframe tbody tr th:only-of-type {\n        vertical-align: middle;\n    }\n\n    .dataframe tbody tr th {\n        vertical-align: top;\n    }\n\n    .dataframe thead th {\n        text-align: right;\n    }\n</style>\n<table border=\"1\" class=\"dataframe\">\n  <thead>\n    <tr style=\"text-align: right;\">\n      <th></th>\n      <th>YearStart</th>\n      <th>Data_Value</th>\n      <th>Stratification1</th>\n      <th>obesity</th>\n      <th>food</th>\n      <th>exercise</th>\n      <th>activity</th>\n    </tr>\n  </thead>\n  <tbody>\n    <tr>\n      <th>20</th>\n      <td>2011</td>\n      <td>29.8</td>\n      <td>Non-Hispanic White</td>\n      <td>1</td>\n      <td>0</td>\n      <td>0.0</td>\n      <td>0.0</td>\n    </tr>\n    <tr>\n      <th>21</th>\n      <td>2011</td>\n      <td>40.1</td>\n      <td>Non-Hispanic Black</td>\n      <td>1</td>\n      <td>0</td>\n      <td>0.0</td>\n      <td>0.0</td>\n    </tr>\n    <tr>\n      <th>22</th>\n      <td>2011</td>\n      <td>28.6</td>\n      <td>Hispanic</td>\n      <td>1</td>\n      <td>0</td>\n      <td>0.0</td>\n      <td>0.0</td>\n    </tr>\n    <tr>\n      <th>25</th>\n      <td>2011</td>\n      <td>32.9</td>\n      <td>American Indian/Alaska Native</td>\n      <td>1</td>\n      <td>0</td>\n      <td>0.0</td>\n      <td>0.0</td>\n    </tr>\n    <tr>\n      <th>48</th>\n      <td>2011</td>\n      <td>36.4</td>\n      <td>Non-Hispanic White</td>\n      <td>1</td>\n      <td>0</td>\n      <td>0.0</td>\n      <td>0.0</td>\n    </tr>\n    <tr>\n      <th>...</th>\n      <td>...</td>\n      <td>...</td>\n      <td>...</td>\n      <td>...</td>\n      <td>...</td>\n      <td>...</td>\n      <td>...</td>\n    </tr>\n    <tr>\n      <th>53334</th>\n      <td>2016</td>\n      <td>34.6</td>\n      <td>Hawaiian/Pacific Islander</td>\n      <td>0</td>\n      <td>0</td>\n      <td>0.0</td>\n      <td>-0.5</td>\n    </tr>\n    <tr>\n      <th>53359</th>\n      <td>2016</td>\n      <td>41.6</td>\n      <td>Hispanic</td>\n      <td>0</td>\n      <td>0</td>\n      <td>0.0</td>\n      <td>-0.5</td>\n    </tr>\n    <tr>\n      <th>53384</th>\n      <td>2016</td>\n      <td>18.3</td>\n      <td>Non-Hispanic White</td>\n      <td>0</td>\n      <td>0</td>\n      <td>0.0</td>\n      <td>-0.5</td>\n    </tr>\n    <tr>\n      <th>53385</th>\n      <td>2016</td>\n      <td>24.1</td>\n      <td>Non-Hispanic Black</td>\n      <td>0</td>\n      <td>0</td>\n      <td>0.0</td>\n      <td>-0.5</td>\n    </tr>\n    <tr>\n      <th>53386</th>\n      <td>2016</td>\n      <td>30.3</td>\n      <td>Hispanic</td>\n      <td>0</td>\n      <td>0</td>\n      <td>0.0</td>\n      <td>-0.5</td>\n    </tr>\n  </tbody>\n</table>\n<p>7844 rows × 7 columns</p>\n</div>"
     },
     "execution_count": 5,
     "metadata": {},
     "output_type": "execute_result"
    }
   ],
   "source": [
    "# Define a mapping from question text to question number\n",
    "question_mapping = {\n",
    "    'Percent of adults aged 18 years and older who have obesity': 0,\n",
    "    'Percent of adults aged 18 years and older who have an overweight classification': 1,\n",
    "    'Percent of adults who report consuming fruit less than one time daily': 2,\n",
    "    'Percent of adults who report consuming vegetables less than one time daily': 3,\n",
    "    'Percent of adults who achieve at least 150 minutes a week of moderate-intensity aerobic physical activity or 75 minutes a week of vigorous-intensity aerobic activity (or an equivalent combination)': 4,\n",
    "    'Percent of adults who achieve at least 150 minutes a week of moderate-intensity aerobic physical activity or 75 minutes a week of vigorous-intensity aerobic physical activity and engage in muscle-...': 5,\n",
    "    'Percent of adults who achieve at least 300 minutes a week of moderate-intensity aerobic physical activity or 150 minutes a week of vigorous-intensity aerobic activity (or an equivalent combination)': 6,\n",
    "    'Percent of adults who engage in muscle-strengthening activities on 2 or more days a week': 7,\n",
    "    'Percent of adults who engage in no leisure-time physical activity': 8,\n",
    "}\n",
    "\n",
    "# Create a new column with the question numbers\n",
    "data['Question_Num'] = data['Question'].replace(question_mapping)\n",
    "\n",
    "# Create the new columns based on the conditions\n",
    "data['obesity'] = data['Question_Num'].apply(lambda x: 1 if x in [0, 1] else 0)\n",
    "data['food'] = data['Question_Num'].apply(lambda x: 1 if x in [2, 3] else 0)\n",
    "data['exercise'] = data['Question_Num'].apply(lambda x: 0.5 if x in [4, 5] else (1 if x == 6 else 0))\n",
    "data['activity'] = data['Question_Num'].apply(lambda x: 1 if x == 7 else (-0.5 if x == 8 else 0))\n",
    "\n",
    "\n",
    "# drop the Question and Question_Num columns\n",
    "data = data.drop(['Question', 'Question_Num'], axis=1)\n",
    "\n",
    "# Display the first few rows of the modified dataframe\n",
    "data\n"
   ],
   "metadata": {
    "collapsed": false,
    "ExecuteTime": {
     "end_time": "2023-09-17T17:13:14.175539Z",
     "start_time": "2023-09-17T17:13:13.918809100Z"
    }
   },
   "id": "3677a384f147b62d"
  },
  {
   "cell_type": "code",
   "execution_count": 6,
   "outputs": [
    {
     "name": "stderr",
     "output_type": "stream",
     "text": [
      "C:\\Users\\sumuk\\Music\\heart-disease-project\\env\\lib\\site-packages\\sklearn\\utils\\deprecation.py:87: FutureWarning: Function get_feature_names is deprecated; get_feature_names is deprecated in 1.0 and will be removed in 1.2. Please use get_feature_names_out instead.\n",
      "  warnings.warn(msg, category=FutureWarning)\n"
     ]
    },
    {
     "data": {
      "text/plain": "       YearStart  Data_Value  obesity  food  exercise  activity  \\\n20             0        29.8        1     0       0.0       0.0   \n21             0        40.1        1     0       0.0       0.0   \n22             0        28.6        1     0       0.0       0.0   \n25             0        32.9        1     0       0.0       0.0   \n48             0        36.4        1     0       0.0       0.0   \n...          ...         ...      ...   ...       ...       ...   \n53334          5        34.6        0     0       0.0      -0.5   \n53359          5        41.6        0     0       0.0      -0.5   \n53384          5        18.3        0     0       0.0      -0.5   \n53385          5        24.1        0     0       0.0      -0.5   \n53386          5        30.3        0     0       0.0      -0.5   \n\n       Stratification1_American Indian/Alaska Native  Stratification1_Asian  \\\n20                                               0.0                    0.0   \n21                                               0.0                    0.0   \n22                                               0.0                    0.0   \n25                                               1.0                    0.0   \n48                                               0.0                    0.0   \n...                                              ...                    ...   \n53334                                            0.0                    0.0   \n53359                                            0.0                    0.0   \n53384                                            0.0                    0.0   \n53385                                            0.0                    0.0   \n53386                                            0.0                    0.0   \n\n       Stratification1_Hawaiian/Pacific Islander  Stratification1_Hispanic  \\\n20                                           0.0                       0.0   \n21                                           0.0                       0.0   \n22                                           0.0                       1.0   \n25                                           0.0                       0.0   \n48                                           0.0                       0.0   \n...                                          ...                       ...   \n53334                                        1.0                       0.0   \n53359                                        0.0                       1.0   \n53384                                        0.0                       0.0   \n53385                                        0.0                       0.0   \n53386                                        0.0                       1.0   \n\n       Stratification1_Non-Hispanic Black  Stratification1_Non-Hispanic White  \n20                                    0.0                                 1.0  \n21                                    1.0                                 0.0  \n22                                    0.0                                 0.0  \n25                                    0.0                                 0.0  \n48                                    0.0                                 1.0  \n...                                   ...                                 ...  \n53334                                 0.0                                 0.0  \n53359                                 0.0                                 0.0  \n53384                                 0.0                                 1.0  \n53385                                 1.0                                 0.0  \n53386                                 0.0                                 0.0  \n\n[7844 rows x 12 columns]",
      "text/html": "<div>\n<style scoped>\n    .dataframe tbody tr th:only-of-type {\n        vertical-align: middle;\n    }\n\n    .dataframe tbody tr th {\n        vertical-align: top;\n    }\n\n    .dataframe thead th {\n        text-align: right;\n    }\n</style>\n<table border=\"1\" class=\"dataframe\">\n  <thead>\n    <tr style=\"text-align: right;\">\n      <th></th>\n      <th>YearStart</th>\n      <th>Data_Value</th>\n      <th>obesity</th>\n      <th>food</th>\n      <th>exercise</th>\n      <th>activity</th>\n      <th>Stratification1_American Indian/Alaska Native</th>\n      <th>Stratification1_Asian</th>\n      <th>Stratification1_Hawaiian/Pacific Islander</th>\n      <th>Stratification1_Hispanic</th>\n      <th>Stratification1_Non-Hispanic Black</th>\n      <th>Stratification1_Non-Hispanic White</th>\n    </tr>\n  </thead>\n  <tbody>\n    <tr>\n      <th>20</th>\n      <td>0</td>\n      <td>29.8</td>\n      <td>1</td>\n      <td>0</td>\n      <td>0.0</td>\n      <td>0.0</td>\n      <td>0.0</td>\n      <td>0.0</td>\n      <td>0.0</td>\n      <td>0.0</td>\n      <td>0.0</td>\n      <td>1.0</td>\n    </tr>\n    <tr>\n      <th>21</th>\n      <td>0</td>\n      <td>40.1</td>\n      <td>1</td>\n      <td>0</td>\n      <td>0.0</td>\n      <td>0.0</td>\n      <td>0.0</td>\n      <td>0.0</td>\n      <td>0.0</td>\n      <td>0.0</td>\n      <td>1.0</td>\n      <td>0.0</td>\n    </tr>\n    <tr>\n      <th>22</th>\n      <td>0</td>\n      <td>28.6</td>\n      <td>1</td>\n      <td>0</td>\n      <td>0.0</td>\n      <td>0.0</td>\n      <td>0.0</td>\n      <td>0.0</td>\n      <td>0.0</td>\n      <td>1.0</td>\n      <td>0.0</td>\n      <td>0.0</td>\n    </tr>\n    <tr>\n      <th>25</th>\n      <td>0</td>\n      <td>32.9</td>\n      <td>1</td>\n      <td>0</td>\n      <td>0.0</td>\n      <td>0.0</td>\n      <td>1.0</td>\n      <td>0.0</td>\n      <td>0.0</td>\n      <td>0.0</td>\n      <td>0.0</td>\n      <td>0.0</td>\n    </tr>\n    <tr>\n      <th>48</th>\n      <td>0</td>\n      <td>36.4</td>\n      <td>1</td>\n      <td>0</td>\n      <td>0.0</td>\n      <td>0.0</td>\n      <td>0.0</td>\n      <td>0.0</td>\n      <td>0.0</td>\n      <td>0.0</td>\n      <td>0.0</td>\n      <td>1.0</td>\n    </tr>\n    <tr>\n      <th>...</th>\n      <td>...</td>\n      <td>...</td>\n      <td>...</td>\n      <td>...</td>\n      <td>...</td>\n      <td>...</td>\n      <td>...</td>\n      <td>...</td>\n      <td>...</td>\n      <td>...</td>\n      <td>...</td>\n      <td>...</td>\n    </tr>\n    <tr>\n      <th>53334</th>\n      <td>5</td>\n      <td>34.6</td>\n      <td>0</td>\n      <td>0</td>\n      <td>0.0</td>\n      <td>-0.5</td>\n      <td>0.0</td>\n      <td>0.0</td>\n      <td>1.0</td>\n      <td>0.0</td>\n      <td>0.0</td>\n      <td>0.0</td>\n    </tr>\n    <tr>\n      <th>53359</th>\n      <td>5</td>\n      <td>41.6</td>\n      <td>0</td>\n      <td>0</td>\n      <td>0.0</td>\n      <td>-0.5</td>\n      <td>0.0</td>\n      <td>0.0</td>\n      <td>0.0</td>\n      <td>1.0</td>\n      <td>0.0</td>\n      <td>0.0</td>\n    </tr>\n    <tr>\n      <th>53384</th>\n      <td>5</td>\n      <td>18.3</td>\n      <td>0</td>\n      <td>0</td>\n      <td>0.0</td>\n      <td>-0.5</td>\n      <td>0.0</td>\n      <td>0.0</td>\n      <td>0.0</td>\n      <td>0.0</td>\n      <td>0.0</td>\n      <td>1.0</td>\n    </tr>\n    <tr>\n      <th>53385</th>\n      <td>5</td>\n      <td>24.1</td>\n      <td>0</td>\n      <td>0</td>\n      <td>0.0</td>\n      <td>-0.5</td>\n      <td>0.0</td>\n      <td>0.0</td>\n      <td>0.0</td>\n      <td>0.0</td>\n      <td>1.0</td>\n      <td>0.0</td>\n    </tr>\n    <tr>\n      <th>53386</th>\n      <td>5</td>\n      <td>30.3</td>\n      <td>0</td>\n      <td>0</td>\n      <td>0.0</td>\n      <td>-0.5</td>\n      <td>0.0</td>\n      <td>0.0</td>\n      <td>0.0</td>\n      <td>1.0</td>\n      <td>0.0</td>\n      <td>0.0</td>\n    </tr>\n  </tbody>\n</table>\n<p>7844 rows × 12 columns</p>\n</div>"
     },
     "execution_count": 6,
     "metadata": {},
     "output_type": "execute_result"
    }
   ],
   "source": [
    "from sklearn.preprocessing import OneHotEncoder\n",
    "ohe = OneHotEncoder(sparse=False)\n",
    "\n",
    "# encode Stratification1 using OneHotEncoder\n",
    "stratification1_encoded = ohe.fit_transform(data[['Stratification1']])\n",
    "stratification1_encoded = pd.DataFrame(stratification1_encoded, columns=ohe.get_feature_names(['Stratification1']), index=data.index)\n",
    "\n",
    "# drop the original column\n",
    "data = data.drop('Stratification1', axis=1)\n",
    "\n",
    "# concatenate the original DataFrame with the encoded DataFrame\n",
    "data = pd.concat([data, stratification1_encoded], axis=1)\n",
    "\n",
    "# encode YearStart using LabelEncoder\n",
    "from sklearn.preprocessing import LabelEncoder\n",
    "le = LabelEncoder()\n",
    "data['YearStart'] = le.fit_transform(data['YearStart'])\n",
    "\n",
    "data\n"
   ],
   "metadata": {
    "collapsed": false,
    "ExecuteTime": {
     "end_time": "2023-09-17T17:13:16.407256300Z",
     "start_time": "2023-09-17T17:13:16.076480500Z"
    }
   },
   "id": "b538074fef535751"
  },
  {
   "cell_type": "code",
   "execution_count": 158,
   "outputs": [
    {
     "data": {
      "text/plain": "['YearStart',\n 'Data_Value',\n 'obesity',\n 'food',\n 'exercise',\n 'activity',\n 'Stratification1_American Indian/Alaska Native',\n 'Stratification1_Asian',\n 'Stratification1_Hawaiian/Pacific Islander',\n 'Stratification1_Hispanic',\n 'Stratification1_Non-Hispanic Black',\n 'Stratification1_Non-Hispanic White']"
     },
     "execution_count": 158,
     "metadata": {},
     "output_type": "execute_result"
    }
   ],
   "source": [
    "list(data.columns)"
   ],
   "metadata": {
    "collapsed": false,
    "ExecuteTime": {
     "end_time": "2023-09-17T16:28:19.789467400Z",
     "start_time": "2023-09-17T16:28:19.683934800Z"
    }
   },
   "id": "ce9edac55c49cebe"
  },
  {
   "cell_type": "code",
   "execution_count": 159,
   "outputs": [
    {
     "name": "stdout",
     "output_type": "stream",
     "text": [
      "MAE: 5.704471916355501\n",
      "MSE: 53.04303340328741\n",
      "R² Score: 0.5141358926675013\n"
     ]
    }
   ],
   "source": [
    "import pandas as pd\n",
    "from sklearn.model_selection import train_test_split\n",
    "from sklearn.ensemble import RandomForestRegressor\n",
    "from sklearn.metrics import mean_absolute_error, mean_squared_error, r2_score\n",
    "\n",
    "# Define the features and the target variable\n",
    "features = [\n",
    "    'obesity', 'food', 'exercise', 'activity', 'YearStart',\n",
    "    'Stratification1_American Indian/Alaska Native',\n",
    "    'Stratification1_Asian',\n",
    "    'Stratification1_Hawaiian/Pacific Islander',\n",
    "    'Stratification1_Hispanic',\n",
    "    'Stratification1_Non-Hispanic Black',\n",
    "    'Stratification1_Non-Hispanic White']\n",
    "target = 'Data_Value'\n",
    "\n",
    "# Separate the features and the target variable\n",
    "X = data[features]\n",
    "y = data[target]\n",
    "\n",
    "# Split the data into training and testing sets\n",
    "X_train, X_test, y_train, y_test = train_test_split(X, y, test_size=0.2, random_state=42)\n",
    "\n",
    "# Initialize the Random Forest regressor\n",
    "model_rf = RandomForestRegressor(random_state=42)\n",
    "\n",
    "# Train the Random Forest regressor\n",
    "model_rf.fit(X_train, y_train)\n",
    "\n",
    "# Predict the target variable on the testing set\n",
    "y_pred = model_rf.predict(X_test)\n",
    "\n",
    "# Calculate regression metrics to evaluate the model\n",
    "mae = mean_absolute_error(y_test, y_pred)\n",
    "mse = mean_squared_error(y_test, y_pred)\n",
    "r2 = r2_score(y_test, y_pred)\n",
    "\n",
    "print(f'MAE: {mae}')\n",
    "print(f'MSE: {mse}')\n",
    "print(f'R² Score: {r2}')\n"
   ],
   "metadata": {
    "collapsed": false,
    "ExecuteTime": {
     "end_time": "2023-09-17T16:28:20.052533900Z",
     "start_time": "2023-09-17T16:28:19.701933500Z"
    }
   },
   "id": "be9c3e321f86ab48"
  },
  {
   "cell_type": "code",
   "execution_count": 160,
   "outputs": [
    {
     "data": {
      "text/plain": "       Data_Value  obesity  food  exercise  activity  \\\n20           29.8        1     0       0.0       0.0   \n21           40.1        1     0       0.0       0.0   \n22           28.6        1     0       0.0       0.0   \n25           32.9        1     0       0.0       0.0   \n48           36.4        1     0       0.0       0.0   \n...           ...      ...   ...       ...       ...   \n53334        34.6        0     0       0.0      -0.5   \n53359        41.6        0     0       0.0      -0.5   \n53384        18.3        0     0       0.0      -0.5   \n53385        24.1        0     0       0.0      -0.5   \n53386        30.3        0     0       0.0      -0.5   \n\n       Stratification1_American Indian/Alaska Native  Stratification1_Asian  \\\n20                                               0.0                    0.0   \n21                                               0.0                    0.0   \n22                                               0.0                    0.0   \n25                                               1.0                    0.0   \n48                                               0.0                    0.0   \n...                                              ...                    ...   \n53334                                            0.0                    0.0   \n53359                                            0.0                    0.0   \n53384                                            0.0                    0.0   \n53385                                            0.0                    0.0   \n53386                                            0.0                    0.0   \n\n       Stratification1_Hawaiian/Pacific Islander  Stratification1_Hispanic  \\\n20                                           0.0                       0.0   \n21                                           0.0                       0.0   \n22                                           0.0                       1.0   \n25                                           0.0                       0.0   \n48                                           0.0                       0.0   \n...                                          ...                       ...   \n53334                                        1.0                       0.0   \n53359                                        0.0                       1.0   \n53384                                        0.0                       0.0   \n53385                                        0.0                       0.0   \n53386                                        0.0                       1.0   \n\n       Stratification1_Non-Hispanic Black  Stratification1_Non-Hispanic White  \n20                                    0.0                                 1.0  \n21                                    1.0                                 0.0  \n22                                    0.0                                 0.0  \n25                                    0.0                                 0.0  \n48                                    0.0                                 1.0  \n...                                   ...                                 ...  \n53334                                 0.0                                 0.0  \n53359                                 0.0                                 0.0  \n53384                                 0.0                                 1.0  \n53385                                 1.0                                 0.0  \n53386                                 0.0                                 0.0  \n\n[7844 rows x 11 columns]",
      "text/html": "<div>\n<style scoped>\n    .dataframe tbody tr th:only-of-type {\n        vertical-align: middle;\n    }\n\n    .dataframe tbody tr th {\n        vertical-align: top;\n    }\n\n    .dataframe thead th {\n        text-align: right;\n    }\n</style>\n<table border=\"1\" class=\"dataframe\">\n  <thead>\n    <tr style=\"text-align: right;\">\n      <th></th>\n      <th>Data_Value</th>\n      <th>obesity</th>\n      <th>food</th>\n      <th>exercise</th>\n      <th>activity</th>\n      <th>Stratification1_American Indian/Alaska Native</th>\n      <th>Stratification1_Asian</th>\n      <th>Stratification1_Hawaiian/Pacific Islander</th>\n      <th>Stratification1_Hispanic</th>\n      <th>Stratification1_Non-Hispanic Black</th>\n      <th>Stratification1_Non-Hispanic White</th>\n    </tr>\n  </thead>\n  <tbody>\n    <tr>\n      <th>20</th>\n      <td>29.8</td>\n      <td>1</td>\n      <td>0</td>\n      <td>0.0</td>\n      <td>0.0</td>\n      <td>0.0</td>\n      <td>0.0</td>\n      <td>0.0</td>\n      <td>0.0</td>\n      <td>0.0</td>\n      <td>1.0</td>\n    </tr>\n    <tr>\n      <th>21</th>\n      <td>40.1</td>\n      <td>1</td>\n      <td>0</td>\n      <td>0.0</td>\n      <td>0.0</td>\n      <td>0.0</td>\n      <td>0.0</td>\n      <td>0.0</td>\n      <td>0.0</td>\n      <td>1.0</td>\n      <td>0.0</td>\n    </tr>\n    <tr>\n      <th>22</th>\n      <td>28.6</td>\n      <td>1</td>\n      <td>0</td>\n      <td>0.0</td>\n      <td>0.0</td>\n      <td>0.0</td>\n      <td>0.0</td>\n      <td>0.0</td>\n      <td>1.0</td>\n      <td>0.0</td>\n      <td>0.0</td>\n    </tr>\n    <tr>\n      <th>25</th>\n      <td>32.9</td>\n      <td>1</td>\n      <td>0</td>\n      <td>0.0</td>\n      <td>0.0</td>\n      <td>1.0</td>\n      <td>0.0</td>\n      <td>0.0</td>\n      <td>0.0</td>\n      <td>0.0</td>\n      <td>0.0</td>\n    </tr>\n    <tr>\n      <th>48</th>\n      <td>36.4</td>\n      <td>1</td>\n      <td>0</td>\n      <td>0.0</td>\n      <td>0.0</td>\n      <td>0.0</td>\n      <td>0.0</td>\n      <td>0.0</td>\n      <td>0.0</td>\n      <td>0.0</td>\n      <td>1.0</td>\n    </tr>\n    <tr>\n      <th>...</th>\n      <td>...</td>\n      <td>...</td>\n      <td>...</td>\n      <td>...</td>\n      <td>...</td>\n      <td>...</td>\n      <td>...</td>\n      <td>...</td>\n      <td>...</td>\n      <td>...</td>\n      <td>...</td>\n    </tr>\n    <tr>\n      <th>53334</th>\n      <td>34.6</td>\n      <td>0</td>\n      <td>0</td>\n      <td>0.0</td>\n      <td>-0.5</td>\n      <td>0.0</td>\n      <td>0.0</td>\n      <td>1.0</td>\n      <td>0.0</td>\n      <td>0.0</td>\n      <td>0.0</td>\n    </tr>\n    <tr>\n      <th>53359</th>\n      <td>41.6</td>\n      <td>0</td>\n      <td>0</td>\n      <td>0.0</td>\n      <td>-0.5</td>\n      <td>0.0</td>\n      <td>0.0</td>\n      <td>0.0</td>\n      <td>1.0</td>\n      <td>0.0</td>\n      <td>0.0</td>\n    </tr>\n    <tr>\n      <th>53384</th>\n      <td>18.3</td>\n      <td>0</td>\n      <td>0</td>\n      <td>0.0</td>\n      <td>-0.5</td>\n      <td>0.0</td>\n      <td>0.0</td>\n      <td>0.0</td>\n      <td>0.0</td>\n      <td>0.0</td>\n      <td>1.0</td>\n    </tr>\n    <tr>\n      <th>53385</th>\n      <td>24.1</td>\n      <td>0</td>\n      <td>0</td>\n      <td>0.0</td>\n      <td>-0.5</td>\n      <td>0.0</td>\n      <td>0.0</td>\n      <td>0.0</td>\n      <td>0.0</td>\n      <td>1.0</td>\n      <td>0.0</td>\n    </tr>\n    <tr>\n      <th>53386</th>\n      <td>30.3</td>\n      <td>0</td>\n      <td>0</td>\n      <td>0.0</td>\n      <td>-0.5</td>\n      <td>0.0</td>\n      <td>0.0</td>\n      <td>0.0</td>\n      <td>1.0</td>\n      <td>0.0</td>\n      <td>0.0</td>\n    </tr>\n  </tbody>\n</table>\n<p>7844 rows × 11 columns</p>\n</div>"
     },
     "execution_count": 160,
     "metadata": {},
     "output_type": "execute_result"
    }
   ],
   "source": [
    "# training model without YearStart column\n",
    "# drop YearStart column\n",
    "data = data.drop(['YearStart'], axis=1)\n",
    "data"
   ],
   "metadata": {
    "collapsed": false,
    "ExecuteTime": {
     "end_time": "2023-09-17T16:28:20.081059600Z",
     "start_time": "2023-09-17T16:28:20.049530100Z"
    }
   },
   "id": "6ed4720ebb4959e0"
  },
  {
   "cell_type": "code",
   "execution_count": 161,
   "outputs": [
    {
     "data": {
      "text/plain": "(0.5458981247755295, 0.4845694496727558, 0.532404894867998)"
     },
     "execution_count": 161,
     "metadata": {},
     "output_type": "execute_result"
    }
   ],
   "source": [
    "from sklearn.preprocessing import StandardScaler\n",
    "from sklearn.model_selection import train_test_split\n",
    "from sklearn.ensemble import RandomForestRegressor\n",
    "from sklearn.metrics import mean_absolute_error, mean_squared_error, r2_score\n",
    "from sklearn.preprocessing import StandardScaler\n",
    "from sklearn.pipeline import make_pipeline\n",
    "\n",
    "features = [\n",
    "    'obesity', 'food', 'exercise', 'activity',\n",
    "    'Stratification1_American Indian/Alaska Native',\n",
    "    'Stratification1_Asian',\n",
    "    'Stratification1_Hawaiian/Pacific Islander',\n",
    "    'Stratification1_Hispanic',\n",
    "    'Stratification1_Non-Hispanic Black',\n",
    "    'Stratification1_Non-Hispanic White']\n",
    "target = 'Data_Value'\n",
    "\n",
    "# Separate the features and the target variable\n",
    "X = data[features]\n",
    "y = data[target]\n",
    "\n",
    "# Split the data into training and testing sets before standardizing the \"Data_Value\"\n",
    "X_train, X_test, y_train, y_test = train_test_split(X, y, test_size=0.2, random_state=42)\n",
    "\n",
    "# Standardize the \"Data_Value\" in the training and testing sets\n",
    "scaler_y = StandardScaler()\n",
    "y_train_scaled = scaler_y.fit_transform(y_train.values.reshape(-1, 1)).ravel()\n",
    "y_test_scaled = scaler_y.transform(y_test.values.reshape(-1, 1)).ravel()\n",
    "\n",
    "# Initialize the Random Forest regressor\n",
    "model_rf = RandomForestRegressor(random_state=42)\n",
    "\n",
    "# Train the Random Forest regressor using the standardized \"Data_Value\"\n",
    "model_rf.fit(X_train, y_train_scaled)\n",
    "\n",
    "# Predict the standardized \"Data_Value\" on the testing set\n",
    "y_pred_scaled = model_rf.predict(X_test)\n",
    "\n",
    "# Calculate regression metrics to evaluate the model\n",
    "mae_scaled = mean_absolute_error(y_test_scaled, y_pred_scaled)\n",
    "mse_scaled = mean_squared_error(y_test_scaled, y_pred_scaled)\n",
    "r2_scaled = r2_score(y_test_scaled, y_pred_scaled)\n",
    "\n",
    "mae_scaled, mse_scaled, r2_scaled\n"
   ],
   "metadata": {
    "collapsed": false,
    "ExecuteTime": {
     "end_time": "2023-09-17T16:28:20.344378500Z",
     "start_time": "2023-09-17T16:28:20.063527200Z"
    }
   },
   "id": "fb613c673e943c87"
  }
 ],
 "metadata": {
  "kernelspec": {
   "display_name": "Python 3",
   "language": "python",
   "name": "python3"
  },
  "language_info": {
   "codemirror_mode": {
    "name": "ipython",
    "version": 2
   },
   "file_extension": ".py",
   "mimetype": "text/x-python",
   "name": "python",
   "nbconvert_exporter": "python",
   "pygments_lexer": "ipython2",
   "version": "2.7.6"
  }
 },
 "nbformat": 4,
 "nbformat_minor": 5
}
