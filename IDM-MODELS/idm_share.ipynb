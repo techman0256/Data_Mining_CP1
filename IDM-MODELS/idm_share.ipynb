{
 "cells": [
  {
   "cell_type": "code",
   "execution_count": 35,
   "id": "initial_id",
   "metadata": {
    "collapsed": true,
    "ExecuteTime": {
     "end_time": "2023-09-17T11:01:00.493312900Z",
     "start_time": "2023-09-17T11:01:00.210177600Z"
    }
   },
   "outputs": [
    {
     "data": {
      "text/plain": "   YearStart  YearEnd LocationAbbr LocationDesc  \\\n0       2011     2011           AL      Alabama   \n1       2011     2011           AL      Alabama   \n2       2011     2011           AL      Alabama   \n3       2011     2011           AL      Alabama   \n4       2011     2011           AL      Alabama   \n\n                                   Datasource                    Class  \\\n0  Behavioral Risk Factor Surveillance System  Obesity / Weight Status   \n1  Behavioral Risk Factor Surveillance System  Obesity / Weight Status   \n2  Behavioral Risk Factor Surveillance System  Obesity / Weight Status   \n3  Behavioral Risk Factor Surveillance System  Obesity / Weight Status   \n4  Behavioral Risk Factor Surveillance System  Obesity / Weight Status   \n\n                     Topic                                           Question  \\\n0  Obesity / Weight Status  Percent of adults aged 18 years and older who ...   \n1  Obesity / Weight Status  Percent of adults aged 18 years and older who ...   \n2  Obesity / Weight Status  Percent of adults aged 18 years and older who ...   \n3  Obesity / Weight Status  Percent of adults aged 18 years and older who ...   \n4  Obesity / Weight Status  Percent of adults aged 18 years and older who ...   \n\n   Data_Value_Unit Data_Value_Type  ...  \\\n0              NaN           Value  ...   \n1              NaN           Value  ...   \n2              NaN           Value  ...   \n3              NaN           Value  ...   \n4              NaN           Value  ...   \n\n                               GeoLocation  ClassID TopicID QuestionID  \\\n0  (32.84057112200048, -86.63186076199969)      OWS    OWS1       Q036   \n1  (32.84057112200048, -86.63186076199969)      OWS    OWS1       Q036   \n2  (32.84057112200048, -86.63186076199969)      OWS    OWS1       Q036   \n3  (32.84057112200048, -86.63186076199969)      OWS    OWS1       Q036   \n4  (32.84057112200048, -86.63186076199969)      OWS    OWS1       Q036   \n\n   DataValueTypeID  LocationID  StratificationCategory1  \\\n0            VALUE           1                    Total   \n1            VALUE           1                   Gender   \n2            VALUE           1                   Gender   \n3            VALUE           1                Education   \n4            VALUE           1                Education   \n\n         Stratification1 StratificationCategoryId1 StratificationID1  \n0                  Total                       OVR           OVERALL  \n1                   Male                       GEN              MALE  \n2                 Female                       GEN            FEMALE  \n3  Less than high school                       EDU             EDUHS  \n4   High school graduate                       EDU         EDUHSGRAD  \n\n[5 rows x 33 columns]",
      "text/html": "<div>\n<style scoped>\n    .dataframe tbody tr th:only-of-type {\n        vertical-align: middle;\n    }\n\n    .dataframe tbody tr th {\n        vertical-align: top;\n    }\n\n    .dataframe thead th {\n        text-align: right;\n    }\n</style>\n<table border=\"1\" class=\"dataframe\">\n  <thead>\n    <tr style=\"text-align: right;\">\n      <th></th>\n      <th>YearStart</th>\n      <th>YearEnd</th>\n      <th>LocationAbbr</th>\n      <th>LocationDesc</th>\n      <th>Datasource</th>\n      <th>Class</th>\n      <th>Topic</th>\n      <th>Question</th>\n      <th>Data_Value_Unit</th>\n      <th>Data_Value_Type</th>\n      <th>...</th>\n      <th>GeoLocation</th>\n      <th>ClassID</th>\n      <th>TopicID</th>\n      <th>QuestionID</th>\n      <th>DataValueTypeID</th>\n      <th>LocationID</th>\n      <th>StratificationCategory1</th>\n      <th>Stratification1</th>\n      <th>StratificationCategoryId1</th>\n      <th>StratificationID1</th>\n    </tr>\n  </thead>\n  <tbody>\n    <tr>\n      <th>0</th>\n      <td>2011</td>\n      <td>2011</td>\n      <td>AL</td>\n      <td>Alabama</td>\n      <td>Behavioral Risk Factor Surveillance System</td>\n      <td>Obesity / Weight Status</td>\n      <td>Obesity / Weight Status</td>\n      <td>Percent of adults aged 18 years and older who ...</td>\n      <td>NaN</td>\n      <td>Value</td>\n      <td>...</td>\n      <td>(32.84057112200048, -86.63186076199969)</td>\n      <td>OWS</td>\n      <td>OWS1</td>\n      <td>Q036</td>\n      <td>VALUE</td>\n      <td>1</td>\n      <td>Total</td>\n      <td>Total</td>\n      <td>OVR</td>\n      <td>OVERALL</td>\n    </tr>\n    <tr>\n      <th>1</th>\n      <td>2011</td>\n      <td>2011</td>\n      <td>AL</td>\n      <td>Alabama</td>\n      <td>Behavioral Risk Factor Surveillance System</td>\n      <td>Obesity / Weight Status</td>\n      <td>Obesity / Weight Status</td>\n      <td>Percent of adults aged 18 years and older who ...</td>\n      <td>NaN</td>\n      <td>Value</td>\n      <td>...</td>\n      <td>(32.84057112200048, -86.63186076199969)</td>\n      <td>OWS</td>\n      <td>OWS1</td>\n      <td>Q036</td>\n      <td>VALUE</td>\n      <td>1</td>\n      <td>Gender</td>\n      <td>Male</td>\n      <td>GEN</td>\n      <td>MALE</td>\n    </tr>\n    <tr>\n      <th>2</th>\n      <td>2011</td>\n      <td>2011</td>\n      <td>AL</td>\n      <td>Alabama</td>\n      <td>Behavioral Risk Factor Surveillance System</td>\n      <td>Obesity / Weight Status</td>\n      <td>Obesity / Weight Status</td>\n      <td>Percent of adults aged 18 years and older who ...</td>\n      <td>NaN</td>\n      <td>Value</td>\n      <td>...</td>\n      <td>(32.84057112200048, -86.63186076199969)</td>\n      <td>OWS</td>\n      <td>OWS1</td>\n      <td>Q036</td>\n      <td>VALUE</td>\n      <td>1</td>\n      <td>Gender</td>\n      <td>Female</td>\n      <td>GEN</td>\n      <td>FEMALE</td>\n    </tr>\n    <tr>\n      <th>3</th>\n      <td>2011</td>\n      <td>2011</td>\n      <td>AL</td>\n      <td>Alabama</td>\n      <td>Behavioral Risk Factor Surveillance System</td>\n      <td>Obesity / Weight Status</td>\n      <td>Obesity / Weight Status</td>\n      <td>Percent of adults aged 18 years and older who ...</td>\n      <td>NaN</td>\n      <td>Value</td>\n      <td>...</td>\n      <td>(32.84057112200048, -86.63186076199969)</td>\n      <td>OWS</td>\n      <td>OWS1</td>\n      <td>Q036</td>\n      <td>VALUE</td>\n      <td>1</td>\n      <td>Education</td>\n      <td>Less than high school</td>\n      <td>EDU</td>\n      <td>EDUHS</td>\n    </tr>\n    <tr>\n      <th>4</th>\n      <td>2011</td>\n      <td>2011</td>\n      <td>AL</td>\n      <td>Alabama</td>\n      <td>Behavioral Risk Factor Surveillance System</td>\n      <td>Obesity / Weight Status</td>\n      <td>Obesity / Weight Status</td>\n      <td>Percent of adults aged 18 years and older who ...</td>\n      <td>NaN</td>\n      <td>Value</td>\n      <td>...</td>\n      <td>(32.84057112200048, -86.63186076199969)</td>\n      <td>OWS</td>\n      <td>OWS1</td>\n      <td>Q036</td>\n      <td>VALUE</td>\n      <td>1</td>\n      <td>Education</td>\n      <td>High school graduate</td>\n      <td>EDU</td>\n      <td>EDUHSGRAD</td>\n    </tr>\n  </tbody>\n</table>\n<p>5 rows × 33 columns</p>\n</div>"
     },
     "execution_count": 35,
     "metadata": {},
     "output_type": "execute_result"
    }
   ],
   "source": [
    "import pandas as pd\n",
    "# Load the CSV File\n",
    "data = pd.read_csv(\"data.csv\")\n",
    "data.head()"
   ]
  },
  {
   "cell_type": "code",
   "execution_count": 36,
   "outputs": [
    {
     "data": {
      "text/plain": "((53392, 33),\n YearStart                       int64\n YearEnd                         int64\n LocationAbbr                   object\n LocationDesc                   object\n Datasource                     object\n Class                          object\n Topic                          object\n Question                       object\n Data_Value_Unit               float64\n Data_Value_Type                object\n Data_Value                    float64\n Data_Value_Alt                float64\n Data_Value_Footnote_Symbol     object\n Data_Value_Footnote            object\n Low_Confidence_Limit          float64\n High_Confidence_Limit         float64\n Sample_Size                   float64\n Total                          object\n Age(years)                     object\n Education                      object\n Gender                         object\n Income                         object\n Race/Ethnicity                 object\n GeoLocation                    object\n ClassID                        object\n TopicID                        object\n QuestionID                     object\n DataValueTypeID                object\n LocationID                      int64\n StratificationCategory1        object\n Stratification1                object\n StratificationCategoryId1      object\n StratificationID1              object\n dtype: object)"
     },
     "execution_count": 36,
     "metadata": {},
     "output_type": "execute_result"
    }
   ],
   "source": [
    "data.shape, data.dtypes\n"
   ],
   "metadata": {
    "collapsed": false,
    "ExecuteTime": {
     "end_time": "2023-09-17T11:01:00.543827900Z",
     "start_time": "2023-09-17T11:01:00.497317600Z"
    }
   },
   "id": "ec4116dbe1b1f74f"
  },
  {
   "cell_type": "code",
   "execution_count": 37,
   "outputs": [
    {
     "data": {
      "text/plain": "          YearStart       YearEnd  Data_Value_Unit    Data_Value  \\\ncount  53392.000000  53392.000000              0.0  48346.000000   \nmean    2013.281465   2013.281465              NaN     31.156681   \nstd        1.693300      1.693300              NaN     10.247033   \nmin     2011.000000   2011.000000              NaN      0.900000   \n25%     2012.000000   2012.000000              NaN     24.100000   \n50%     2013.000000   2013.000000              NaN     30.700000   \n75%     2015.000000   2015.000000              NaN     37.000000   \nmax     2016.000000   2016.000000              NaN     77.600000   \n\n       Data_Value_Alt  Low_Confidence_Limit  High_Confidence_Limit   \\\ncount    48346.000000          48346.000000            48346.000000   \nmean        31.156681             26.892227               35.989997   \nstd         10.247033             10.038584               11.205813   \nmin          0.900000              0.300000                3.000000   \n25%         24.100000             20.000000               28.200000   \n50%         30.700000             26.450000               35.600000   \n75%         37.000000             32.900000               42.200000   \nmax         77.600000             69.500000               87.700000   \n\n        Sample_Size    LocationID  \ncount   48346.00000  53392.000000  \nmean     3889.19286     30.282215  \nstd     19829.42129     16.821318  \nmin        50.00000      1.000000  \n25%       566.00000     17.000000  \n50%      1209.00000     30.000000  \n75%      2519.00000     44.000000  \nmax    476876.00000     78.000000  ",
      "text/html": "<div>\n<style scoped>\n    .dataframe tbody tr th:only-of-type {\n        vertical-align: middle;\n    }\n\n    .dataframe tbody tr th {\n        vertical-align: top;\n    }\n\n    .dataframe thead th {\n        text-align: right;\n    }\n</style>\n<table border=\"1\" class=\"dataframe\">\n  <thead>\n    <tr style=\"text-align: right;\">\n      <th></th>\n      <th>YearStart</th>\n      <th>YearEnd</th>\n      <th>Data_Value_Unit</th>\n      <th>Data_Value</th>\n      <th>Data_Value_Alt</th>\n      <th>Low_Confidence_Limit</th>\n      <th>High_Confidence_Limit</th>\n      <th>Sample_Size</th>\n      <th>LocationID</th>\n    </tr>\n  </thead>\n  <tbody>\n    <tr>\n      <th>count</th>\n      <td>53392.000000</td>\n      <td>53392.000000</td>\n      <td>0.0</td>\n      <td>48346.000000</td>\n      <td>48346.000000</td>\n      <td>48346.000000</td>\n      <td>48346.000000</td>\n      <td>48346.00000</td>\n      <td>53392.000000</td>\n    </tr>\n    <tr>\n      <th>mean</th>\n      <td>2013.281465</td>\n      <td>2013.281465</td>\n      <td>NaN</td>\n      <td>31.156681</td>\n      <td>31.156681</td>\n      <td>26.892227</td>\n      <td>35.989997</td>\n      <td>3889.19286</td>\n      <td>30.282215</td>\n    </tr>\n    <tr>\n      <th>std</th>\n      <td>1.693300</td>\n      <td>1.693300</td>\n      <td>NaN</td>\n      <td>10.247033</td>\n      <td>10.247033</td>\n      <td>10.038584</td>\n      <td>11.205813</td>\n      <td>19829.42129</td>\n      <td>16.821318</td>\n    </tr>\n    <tr>\n      <th>min</th>\n      <td>2011.000000</td>\n      <td>2011.000000</td>\n      <td>NaN</td>\n      <td>0.900000</td>\n      <td>0.900000</td>\n      <td>0.300000</td>\n      <td>3.000000</td>\n      <td>50.00000</td>\n      <td>1.000000</td>\n    </tr>\n    <tr>\n      <th>25%</th>\n      <td>2012.000000</td>\n      <td>2012.000000</td>\n      <td>NaN</td>\n      <td>24.100000</td>\n      <td>24.100000</td>\n      <td>20.000000</td>\n      <td>28.200000</td>\n      <td>566.00000</td>\n      <td>17.000000</td>\n    </tr>\n    <tr>\n      <th>50%</th>\n      <td>2013.000000</td>\n      <td>2013.000000</td>\n      <td>NaN</td>\n      <td>30.700000</td>\n      <td>30.700000</td>\n      <td>26.450000</td>\n      <td>35.600000</td>\n      <td>1209.00000</td>\n      <td>30.000000</td>\n    </tr>\n    <tr>\n      <th>75%</th>\n      <td>2015.000000</td>\n      <td>2015.000000</td>\n      <td>NaN</td>\n      <td>37.000000</td>\n      <td>37.000000</td>\n      <td>32.900000</td>\n      <td>42.200000</td>\n      <td>2519.00000</td>\n      <td>44.000000</td>\n    </tr>\n    <tr>\n      <th>max</th>\n      <td>2016.000000</td>\n      <td>2016.000000</td>\n      <td>NaN</td>\n      <td>77.600000</td>\n      <td>77.600000</td>\n      <td>69.500000</td>\n      <td>87.700000</td>\n      <td>476876.00000</td>\n      <td>78.000000</td>\n    </tr>\n  </tbody>\n</table>\n</div>"
     },
     "execution_count": 37,
     "metadata": {},
     "output_type": "execute_result"
    }
   ],
   "source": [
    "data.describe()\n"
   ],
   "metadata": {
    "collapsed": false,
    "ExecuteTime": {
     "end_time": "2023-09-17T11:01:00.646350100Z",
     "start_time": "2023-09-17T11:01:00.510315400Z"
    }
   },
   "id": "e32f49ef0668e736"
  },
  {
   "cell_type": "code",
   "execution_count": 38,
   "outputs": [
    {
     "data": {
      "text/plain": "YearStart                       0.000000\nYearEnd                         0.000000\nLocationAbbr                    0.000000\nLocationDesc                    0.000000\nDatasource                      0.000000\nClass                           0.000000\nTopic                           0.000000\nQuestion                        0.000000\nData_Value_Unit               100.000000\nData_Value_Type                 0.000000\nData_Value                      9.450854\nData_Value_Alt                  9.450854\nData_Value_Footnote_Symbol     90.549146\nData_Value_Footnote            90.549146\nLow_Confidence_Limit            9.450854\nHigh_Confidence_Limit           9.450854\nSample_Size                     9.450854\nTotal                          96.428304\nAge(years)                     78.577315\nEducation                      85.713215\nGender                         92.856608\nIncome                         74.998127\nRace/Ethnicity                 71.426431\nGeoLocation                     1.887923\nClassID                         0.000000\nTopicID                         0.000000\nQuestionID                      0.000000\nDataValueTypeID                 0.000000\nLocationID                      0.000000\nStratificationCategory1         0.000000\nStratification1                 0.000000\nStratificationCategoryId1       0.000000\nStratificationID1               0.000000\ndtype: float64"
     },
     "execution_count": 38,
     "metadata": {},
     "output_type": "execute_result"
    }
   ],
   "source": [
    "# Identifying Missing Values\n",
    "missing_values = data.isnull().sum()\n",
    "total_rows = len(data)\n",
    "percentage_missing = (missing_values / total_rows) * 100\n",
    "percentage_missing"
   ],
   "metadata": {
    "collapsed": false,
    "ExecuteTime": {
     "end_time": "2023-09-17T11:01:00.779897100Z",
     "start_time": "2023-09-17T11:01:00.556826700Z"
    }
   },
   "id": "abbe192bb69aa44c"
  },
  {
   "cell_type": "code",
   "execution_count": 39,
   "outputs": [],
   "source": [
    "columns_to_keep = ['Question', 'StratificationCategory1', 'Data_Value', 'Stratification1']\n",
    "\n",
    "# Create a new DataFrame with only the selected columns\n",
    "data = data[columns_to_keep]"
   ],
   "metadata": {
    "collapsed": false,
    "ExecuteTime": {
     "end_time": "2023-09-17T11:01:00.804897700Z",
     "start_time": "2023-09-17T11:01:00.714361100Z"
    }
   },
   "id": "e2068f4bb1f33d2a"
  },
  {
   "cell_type": "code",
   "execution_count": 40,
   "outputs": [
    {
     "data": {
      "text/plain": "                                            Question StratificationCategory1  \\\n0  Percent of adults aged 18 years and older who ...                   Total   \n1  Percent of adults aged 18 years and older who ...                  Gender   \n2  Percent of adults aged 18 years and older who ...                  Gender   \n3  Percent of adults aged 18 years and older who ...               Education   \n4  Percent of adults aged 18 years and older who ...               Education   \n\n   Data_Value        Stratification1  \n0        32.0                  Total  \n1        32.3                   Male  \n2        31.8                 Female  \n3        33.6  Less than high school  \n4        32.8   High school graduate  ",
      "text/html": "<div>\n<style scoped>\n    .dataframe tbody tr th:only-of-type {\n        vertical-align: middle;\n    }\n\n    .dataframe tbody tr th {\n        vertical-align: top;\n    }\n\n    .dataframe thead th {\n        text-align: right;\n    }\n</style>\n<table border=\"1\" class=\"dataframe\">\n  <thead>\n    <tr style=\"text-align: right;\">\n      <th></th>\n      <th>Question</th>\n      <th>StratificationCategory1</th>\n      <th>Data_Value</th>\n      <th>Stratification1</th>\n    </tr>\n  </thead>\n  <tbody>\n    <tr>\n      <th>0</th>\n      <td>Percent of adults aged 18 years and older who ...</td>\n      <td>Total</td>\n      <td>32.0</td>\n      <td>Total</td>\n    </tr>\n    <tr>\n      <th>1</th>\n      <td>Percent of adults aged 18 years and older who ...</td>\n      <td>Gender</td>\n      <td>32.3</td>\n      <td>Male</td>\n    </tr>\n    <tr>\n      <th>2</th>\n      <td>Percent of adults aged 18 years and older who ...</td>\n      <td>Gender</td>\n      <td>31.8</td>\n      <td>Female</td>\n    </tr>\n    <tr>\n      <th>3</th>\n      <td>Percent of adults aged 18 years and older who ...</td>\n      <td>Education</td>\n      <td>33.6</td>\n      <td>Less than high school</td>\n    </tr>\n    <tr>\n      <th>4</th>\n      <td>Percent of adults aged 18 years and older who ...</td>\n      <td>Education</td>\n      <td>32.8</td>\n      <td>High school graduate</td>\n    </tr>\n  </tbody>\n</table>\n</div>"
     },
     "execution_count": 40,
     "metadata": {},
     "output_type": "execute_result"
    }
   ],
   "source": [
    "data.head()"
   ],
   "metadata": {
    "collapsed": false,
    "ExecuteTime": {
     "end_time": "2023-09-17T11:01:00.839423500Z",
     "start_time": "2023-09-17T11:01:00.727364400Z"
    }
   },
   "id": "31ebc171651daac7"
  },
  {
   "cell_type": "code",
   "execution_count": 41,
   "outputs": [
    {
     "data": {
      "text/plain": "                                             Question StratificationCategory1  \\\n13  Percent of adults aged 18 years and older who ...                  Income   \n14  Percent of adults aged 18 years and older who ...                  Income   \n15  Percent of adults aged 18 years and older who ...                  Income   \n16  Percent of adults aged 18 years and older who ...                  Income   \n17  Percent of adults aged 18 years and older who ...                  Income   \n\n    Data_Value    Stratification1  \n13        38.5  Less than $15,000  \n14        34.8  $15,000 - $24,999  \n15        35.8  $25,000 - $34,999  \n16        32.3  $35,000 - $49,999  \n17        34.1  $50,000 - $74,999  ",
      "text/html": "<div>\n<style scoped>\n    .dataframe tbody tr th:only-of-type {\n        vertical-align: middle;\n    }\n\n    .dataframe tbody tr th {\n        vertical-align: top;\n    }\n\n    .dataframe thead th {\n        text-align: right;\n    }\n</style>\n<table border=\"1\" class=\"dataframe\">\n  <thead>\n    <tr style=\"text-align: right;\">\n      <th></th>\n      <th>Question</th>\n      <th>StratificationCategory1</th>\n      <th>Data_Value</th>\n      <th>Stratification1</th>\n    </tr>\n  </thead>\n  <tbody>\n    <tr>\n      <th>13</th>\n      <td>Percent of adults aged 18 years and older who ...</td>\n      <td>Income</td>\n      <td>38.5</td>\n      <td>Less than $15,000</td>\n    </tr>\n    <tr>\n      <th>14</th>\n      <td>Percent of adults aged 18 years and older who ...</td>\n      <td>Income</td>\n      <td>34.8</td>\n      <td>$15,000 - $24,999</td>\n    </tr>\n    <tr>\n      <th>15</th>\n      <td>Percent of adults aged 18 years and older who ...</td>\n      <td>Income</td>\n      <td>35.8</td>\n      <td>$25,000 - $34,999</td>\n    </tr>\n    <tr>\n      <th>16</th>\n      <td>Percent of adults aged 18 years and older who ...</td>\n      <td>Income</td>\n      <td>32.3</td>\n      <td>$35,000 - $49,999</td>\n    </tr>\n    <tr>\n      <th>17</th>\n      <td>Percent of adults aged 18 years and older who ...</td>\n      <td>Income</td>\n      <td>34.1</td>\n      <td>$50,000 - $74,999</td>\n    </tr>\n  </tbody>\n</table>\n</div>"
     },
     "execution_count": 41,
     "metadata": {},
     "output_type": "execute_result"
    }
   ],
   "source": [
    "# keep only rows where the StratificationCategory1 is Income\n",
    "data = data[data['StratificationCategory1'] == 'Income']\n",
    "data.head()"
   ],
   "metadata": {
    "collapsed": false,
    "ExecuteTime": {
     "end_time": "2023-09-17T11:01:00.840420100Z",
     "start_time": "2023-09-17T11:01:00.743893800Z"
    }
   },
   "id": "292a0c84d4f090c8"
  },
  {
   "cell_type": "code",
   "execution_count": 42,
   "outputs": [
    {
     "data": {
      "text/plain": "                                             Question  Data_Value  \\\n13  Percent of adults aged 18 years and older who ...        38.5   \n14  Percent of adults aged 18 years and older who ...        34.8   \n15  Percent of adults aged 18 years and older who ...        35.8   \n16  Percent of adults aged 18 years and older who ...        32.3   \n17  Percent of adults aged 18 years and older who ...        34.1   \n\n      Stratification1  \n13  Less than $15,000  \n14  $15,000 - $24,999  \n15  $25,000 - $34,999  \n16  $35,000 - $49,999  \n17  $50,000 - $74,999  ",
      "text/html": "<div>\n<style scoped>\n    .dataframe tbody tr th:only-of-type {\n        vertical-align: middle;\n    }\n\n    .dataframe tbody tr th {\n        vertical-align: top;\n    }\n\n    .dataframe thead th {\n        text-align: right;\n    }\n</style>\n<table border=\"1\" class=\"dataframe\">\n  <thead>\n    <tr style=\"text-align: right;\">\n      <th></th>\n      <th>Question</th>\n      <th>Data_Value</th>\n      <th>Stratification1</th>\n    </tr>\n  </thead>\n  <tbody>\n    <tr>\n      <th>13</th>\n      <td>Percent of adults aged 18 years and older who ...</td>\n      <td>38.5</td>\n      <td>Less than $15,000</td>\n    </tr>\n    <tr>\n      <th>14</th>\n      <td>Percent of adults aged 18 years and older who ...</td>\n      <td>34.8</td>\n      <td>$15,000 - $24,999</td>\n    </tr>\n    <tr>\n      <th>15</th>\n      <td>Percent of adults aged 18 years and older who ...</td>\n      <td>35.8</td>\n      <td>$25,000 - $34,999</td>\n    </tr>\n    <tr>\n      <th>16</th>\n      <td>Percent of adults aged 18 years and older who ...</td>\n      <td>32.3</td>\n      <td>$35,000 - $49,999</td>\n    </tr>\n    <tr>\n      <th>17</th>\n      <td>Percent of adults aged 18 years and older who ...</td>\n      <td>34.1</td>\n      <td>$50,000 - $74,999</td>\n    </tr>\n  </tbody>\n</table>\n</div>"
     },
     "execution_count": 42,
     "metadata": {},
     "output_type": "execute_result"
    }
   ],
   "source": [
    "# Drop the StratificationCategory1 column\n",
    "data = data.drop('StratificationCategory1', axis=1)\n",
    "data.head()"
   ],
   "metadata": {
    "collapsed": false,
    "ExecuteTime": {
     "end_time": "2023-09-17T11:01:00.892425800Z",
     "start_time": "2023-09-17T11:01:00.774901200Z"
    }
   },
   "id": "f3c5b7cf31d2a4c7"
  },
  {
   "cell_type": "code",
   "execution_count": 43,
   "outputs": [
    {
     "data": {
      "text/plain": "                                             Question  Data_Value  \\\n13  Percent of adults aged 18 years and older who ...        38.5   \n14  Percent of adults aged 18 years and older who ...        34.8   \n15  Percent of adults aged 18 years and older who ...        35.8   \n16  Percent of adults aged 18 years and older who ...        32.3   \n17  Percent of adults aged 18 years and older who ...        34.1   \n\n      Stratification1 Question_Num  obesity  food  exercise  activity  \n13  Less than $15,000            0        1     0       0.0         0  \n14  $15,000 - $24,999            0        1     0       0.0         0  \n15  $25,000 - $34,999            0        1     0       0.0         0  \n16  $35,000 - $49,999            0        1     0       0.0         0  \n17  $50,000 - $74,999            0        1     0       0.0         0  ",
      "text/html": "<div>\n<style scoped>\n    .dataframe tbody tr th:only-of-type {\n        vertical-align: middle;\n    }\n\n    .dataframe tbody tr th {\n        vertical-align: top;\n    }\n\n    .dataframe thead th {\n        text-align: right;\n    }\n</style>\n<table border=\"1\" class=\"dataframe\">\n  <thead>\n    <tr style=\"text-align: right;\">\n      <th></th>\n      <th>Question</th>\n      <th>Data_Value</th>\n      <th>Stratification1</th>\n      <th>Question_Num</th>\n      <th>obesity</th>\n      <th>food</th>\n      <th>exercise</th>\n      <th>activity</th>\n    </tr>\n  </thead>\n  <tbody>\n    <tr>\n      <th>13</th>\n      <td>Percent of adults aged 18 years and older who ...</td>\n      <td>38.5</td>\n      <td>Less than $15,000</td>\n      <td>0</td>\n      <td>1</td>\n      <td>0</td>\n      <td>0.0</td>\n      <td>0</td>\n    </tr>\n    <tr>\n      <th>14</th>\n      <td>Percent of adults aged 18 years and older who ...</td>\n      <td>34.8</td>\n      <td>$15,000 - $24,999</td>\n      <td>0</td>\n      <td>1</td>\n      <td>0</td>\n      <td>0.0</td>\n      <td>0</td>\n    </tr>\n    <tr>\n      <th>15</th>\n      <td>Percent of adults aged 18 years and older who ...</td>\n      <td>35.8</td>\n      <td>$25,000 - $34,999</td>\n      <td>0</td>\n      <td>1</td>\n      <td>0</td>\n      <td>0.0</td>\n      <td>0</td>\n    </tr>\n    <tr>\n      <th>16</th>\n      <td>Percent of adults aged 18 years and older who ...</td>\n      <td>32.3</td>\n      <td>$35,000 - $49,999</td>\n      <td>0</td>\n      <td>1</td>\n      <td>0</td>\n      <td>0.0</td>\n      <td>0</td>\n    </tr>\n    <tr>\n      <th>17</th>\n      <td>Percent of adults aged 18 years and older who ...</td>\n      <td>34.1</td>\n      <td>$50,000 - $74,999</td>\n      <td>0</td>\n      <td>1</td>\n      <td>0</td>\n      <td>0.0</td>\n      <td>0</td>\n    </tr>\n  </tbody>\n</table>\n</div>"
     },
     "execution_count": 43,
     "metadata": {},
     "output_type": "execute_result"
    }
   ],
   "source": [
    "# Define a mapping from question text to question number\n",
    "question_mapping = {\n",
    "    'Percent of adults aged 18 years and older who have obesity': 0,\n",
    "    'Percent of adults aged 18 years and older who have an overweight classification': 1,\n",
    "    'Percent of adults who report consuming fruit less than one time daily': 2,\n",
    "    'Percent of adults who report consuming vegetables less than one time daily': 3,\n",
    "    'Percent of adults who achieve at least 150 minutes a week of moderate-intensity aerobic physical activity or 75 minutes a week of vigorous-intensity aerobic activity (or an equivalent combination)': 4,\n",
    "    'Percent of adults who achieve at least 150 minutes a week of moderate-intensity aerobic physical activity or 75 minutes a week of vigorous-intensity aerobic physical activity and engage in muscle-...': 5,\n",
    "    'Percent of adults who achieve at least 300 minutes a week of moderate-intensity aerobic physical activity or 150 minutes a week of vigorous-intensity aerobic activity (or an equivalent combination)': 6,\n",
    "    'Percent of adults who engage in muscle-strengthening activities on 2 or more days a week': 7,\n",
    "    'Percent of adults who engage in no leisure-time physical activity': 8,\n",
    "}\n",
    "\n",
    "# Create a new column with the question numbers\n",
    "data['Question_Num'] = data['Question'].replace(question_mapping)\n",
    "\n",
    "# Create the new columns based on the conditions\n",
    "data['obesity'] = data['Question_Num'].apply(lambda x: 1 if x in [0, 1] else 0)\n",
    "data['food'] = data['Question_Num'].apply(lambda x: 1 if x in [2, 3] else 0)\n",
    "data['exercise'] = data['Question_Num'].apply(lambda x: 0.5 if x in [4, 5] else (1 if x == 6 else 0))\n",
    "data['activity'] = data['Question_Num'].apply(lambda x: 1 if x == 7 else (-1 if x == 8 else 0))\n",
    "\n",
    "# Display the first few rows of the modified dataframe\n",
    "data.head()\n"
   ],
   "metadata": {
    "collapsed": false,
    "ExecuteTime": {
     "end_time": "2023-09-17T11:01:00.897422400Z",
     "start_time": "2023-09-17T11:01:00.793896200Z"
    }
   },
   "id": "3677a384f147b62d"
  },
  {
   "cell_type": "code",
   "execution_count": 44,
   "outputs": [
    {
     "data": {
      "text/plain": "       Data_Value     Stratification1  obesity  food  exercise  activity\n13           38.5   Less than $15,000        1     0       0.0         0\n14           34.8   $15,000 - $24,999        1     0       0.0         0\n15           35.8   $25,000 - $34,999        1     0       0.0         0\n16           32.3   $35,000 - $49,999        1     0       0.0         0\n17           34.1   $50,000 - $74,999        1     0       0.0         0\n...           ...                 ...      ...   ...       ...       ...\n53379        28.9   $25,000 - $34,999        0     0       0.0        -1\n53380        20.9   $35,000 - $49,999        0     0       0.0        -1\n53381        29.8   $50,000 - $74,999        0     0       0.0        -1\n53382        13.3  $75,000 or greater        0     0       0.0        -1\n53383        25.3   Data not reported        0     0       0.0        -1\n\n[13349 rows x 6 columns]",
      "text/html": "<div>\n<style scoped>\n    .dataframe tbody tr th:only-of-type {\n        vertical-align: middle;\n    }\n\n    .dataframe tbody tr th {\n        vertical-align: top;\n    }\n\n    .dataframe thead th {\n        text-align: right;\n    }\n</style>\n<table border=\"1\" class=\"dataframe\">\n  <thead>\n    <tr style=\"text-align: right;\">\n      <th></th>\n      <th>Data_Value</th>\n      <th>Stratification1</th>\n      <th>obesity</th>\n      <th>food</th>\n      <th>exercise</th>\n      <th>activity</th>\n    </tr>\n  </thead>\n  <tbody>\n    <tr>\n      <th>13</th>\n      <td>38.5</td>\n      <td>Less than $15,000</td>\n      <td>1</td>\n      <td>0</td>\n      <td>0.0</td>\n      <td>0</td>\n    </tr>\n    <tr>\n      <th>14</th>\n      <td>34.8</td>\n      <td>$15,000 - $24,999</td>\n      <td>1</td>\n      <td>0</td>\n      <td>0.0</td>\n      <td>0</td>\n    </tr>\n    <tr>\n      <th>15</th>\n      <td>35.8</td>\n      <td>$25,000 - $34,999</td>\n      <td>1</td>\n      <td>0</td>\n      <td>0.0</td>\n      <td>0</td>\n    </tr>\n    <tr>\n      <th>16</th>\n      <td>32.3</td>\n      <td>$35,000 - $49,999</td>\n      <td>1</td>\n      <td>0</td>\n      <td>0.0</td>\n      <td>0</td>\n    </tr>\n    <tr>\n      <th>17</th>\n      <td>34.1</td>\n      <td>$50,000 - $74,999</td>\n      <td>1</td>\n      <td>0</td>\n      <td>0.0</td>\n      <td>0</td>\n    </tr>\n    <tr>\n      <th>...</th>\n      <td>...</td>\n      <td>...</td>\n      <td>...</td>\n      <td>...</td>\n      <td>...</td>\n      <td>...</td>\n    </tr>\n    <tr>\n      <th>53379</th>\n      <td>28.9</td>\n      <td>$25,000 - $34,999</td>\n      <td>0</td>\n      <td>0</td>\n      <td>0.0</td>\n      <td>-1</td>\n    </tr>\n    <tr>\n      <th>53380</th>\n      <td>20.9</td>\n      <td>$35,000 - $49,999</td>\n      <td>0</td>\n      <td>0</td>\n      <td>0.0</td>\n      <td>-1</td>\n    </tr>\n    <tr>\n      <th>53381</th>\n      <td>29.8</td>\n      <td>$50,000 - $74,999</td>\n      <td>0</td>\n      <td>0</td>\n      <td>0.0</td>\n      <td>-1</td>\n    </tr>\n    <tr>\n      <th>53382</th>\n      <td>13.3</td>\n      <td>$75,000 or greater</td>\n      <td>0</td>\n      <td>0</td>\n      <td>0.0</td>\n      <td>-1</td>\n    </tr>\n    <tr>\n      <th>53383</th>\n      <td>25.3</td>\n      <td>Data not reported</td>\n      <td>0</td>\n      <td>0</td>\n      <td>0.0</td>\n      <td>-1</td>\n    </tr>\n  </tbody>\n</table>\n<p>13349 rows × 6 columns</p>\n</div>"
     },
     "execution_count": 44,
     "metadata": {},
     "output_type": "execute_result"
    }
   ],
   "source": [
    "# drop the Question and Question_Num columns\n",
    "data = data.drop(['Question', 'Question_Num'], axis=1)\n",
    "data"
   ],
   "metadata": {
    "collapsed": false,
    "ExecuteTime": {
     "end_time": "2023-09-17T11:01:01.023970500Z",
     "start_time": "2023-09-17T11:01:00.862424Z"
    }
   },
   "id": "4d774b270ecd290c"
  },
  {
   "cell_type": "code",
   "execution_count": 45,
   "outputs": [
    {
     "name": "stderr",
     "output_type": "stream",
     "text": [
      "C:\\Users\\sumuk\\AppData\\Local\\Temp\\ipykernel_23128\\4233752638.py:9: SettingWithCopyWarning: \n",
      "A value is trying to be set on a copy of a slice from a DataFrame.\n",
      "Try using .loc[row_indexer,col_indexer] = value instead\n",
      "\n",
      "See the caveats in the documentation: https://pandas.pydata.org/pandas-docs/stable/user_guide/indexing.html#returning-a-view-versus-a-copy\n",
      "  data['Stratification1'] = data['Stratification1'].map(order)\n"
     ]
    },
    {
     "data": {
      "text/plain": "       Data_Value  Stratification1  obesity  food  exercise  activity\n13           38.5                0        1     0       0.0         0\n14           34.8                1        1     0       0.0         0\n15           35.8                2        1     0       0.0         0\n16           32.3                3        1     0       0.0         0\n17           34.1                4        1     0       0.0         0\n...           ...              ...      ...   ...       ...       ...\n53378        28.2                1        0     0       0.0        -1\n53379        28.9                2        0     0       0.0        -1\n53380        20.9                3        0     0       0.0        -1\n53381        29.8                4        0     0       0.0        -1\n53382        13.3                5        0     0       0.0        -1\n\n[11442 rows x 6 columns]",
      "text/html": "<div>\n<style scoped>\n    .dataframe tbody tr th:only-of-type {\n        vertical-align: middle;\n    }\n\n    .dataframe tbody tr th {\n        vertical-align: top;\n    }\n\n    .dataframe thead th {\n        text-align: right;\n    }\n</style>\n<table border=\"1\" class=\"dataframe\">\n  <thead>\n    <tr style=\"text-align: right;\">\n      <th></th>\n      <th>Data_Value</th>\n      <th>Stratification1</th>\n      <th>obesity</th>\n      <th>food</th>\n      <th>exercise</th>\n      <th>activity</th>\n    </tr>\n  </thead>\n  <tbody>\n    <tr>\n      <th>13</th>\n      <td>38.5</td>\n      <td>0</td>\n      <td>1</td>\n      <td>0</td>\n      <td>0.0</td>\n      <td>0</td>\n    </tr>\n    <tr>\n      <th>14</th>\n      <td>34.8</td>\n      <td>1</td>\n      <td>1</td>\n      <td>0</td>\n      <td>0.0</td>\n      <td>0</td>\n    </tr>\n    <tr>\n      <th>15</th>\n      <td>35.8</td>\n      <td>2</td>\n      <td>1</td>\n      <td>0</td>\n      <td>0.0</td>\n      <td>0</td>\n    </tr>\n    <tr>\n      <th>16</th>\n      <td>32.3</td>\n      <td>3</td>\n      <td>1</td>\n      <td>0</td>\n      <td>0.0</td>\n      <td>0</td>\n    </tr>\n    <tr>\n      <th>17</th>\n      <td>34.1</td>\n      <td>4</td>\n      <td>1</td>\n      <td>0</td>\n      <td>0.0</td>\n      <td>0</td>\n    </tr>\n    <tr>\n      <th>...</th>\n      <td>...</td>\n      <td>...</td>\n      <td>...</td>\n      <td>...</td>\n      <td>...</td>\n      <td>...</td>\n    </tr>\n    <tr>\n      <th>53378</th>\n      <td>28.2</td>\n      <td>1</td>\n      <td>0</td>\n      <td>0</td>\n      <td>0.0</td>\n      <td>-1</td>\n    </tr>\n    <tr>\n      <th>53379</th>\n      <td>28.9</td>\n      <td>2</td>\n      <td>0</td>\n      <td>0</td>\n      <td>0.0</td>\n      <td>-1</td>\n    </tr>\n    <tr>\n      <th>53380</th>\n      <td>20.9</td>\n      <td>3</td>\n      <td>0</td>\n      <td>0</td>\n      <td>0.0</td>\n      <td>-1</td>\n    </tr>\n    <tr>\n      <th>53381</th>\n      <td>29.8</td>\n      <td>4</td>\n      <td>0</td>\n      <td>0</td>\n      <td>0.0</td>\n      <td>-1</td>\n    </tr>\n    <tr>\n      <th>53382</th>\n      <td>13.3</td>\n      <td>5</td>\n      <td>0</td>\n      <td>0</td>\n      <td>0.0</td>\n      <td>-1</td>\n    </tr>\n  </tbody>\n</table>\n<p>11442 rows × 6 columns</p>\n</div>"
     },
     "execution_count": 45,
     "metadata": {},
     "output_type": "execute_result"
    }
   ],
   "source": [
    "# drop rows with stratification1 = Data not reported\n",
    "data = data[data['Stratification1'] != 'Data not reported']\n",
    "\n",
    "# encode Stratifcation1 using LabelEncoder with the following mapping\n",
    "# 'Less than $15,000': 0, '$15,000 - $24,999': 1, '$25,000 - $34,999': 2, '$35,000 - $49,999': 3, '$50,000 - $74,999': 4, '$75,000 or greater': 5   \n",
    "from sklearn.preprocessing import LabelEncoder\n",
    "le = LabelEncoder()\n",
    "order = {'Less than $15,000': 0, '$15,000 - $24,999': 1, '$25,000 - $34,999': 2, '$35,000 - $49,999': 3, '$50,000 - $74,999': 4, '$75,000 or greater': 5}\n",
    "data['Stratification1'] = data['Stratification1'].map(order)\n",
    "data"
   ],
   "metadata": {
    "collapsed": false,
    "ExecuteTime": {
     "end_time": "2023-09-17T11:01:01.069512Z",
     "start_time": "2023-09-17T11:01:00.883425Z"
    }
   },
   "id": "97ad29078839fd95"
  },
  {
   "cell_type": "code",
   "execution_count": 46,
   "outputs": [
    {
     "name": "stdout",
     "output_type": "stream",
     "text": [
      "MAE: 4.5010621525829775\n",
      "MSE: 33.07970311133308\n",
      "R² Score: 0.656298668831353\n"
     ]
    }
   ],
   "source": [
    "import pandas as pd\n",
    "from sklearn.model_selection import train_test_split\n",
    "from sklearn.ensemble import RandomForestRegressor\n",
    "from sklearn.metrics import mean_absolute_error, mean_squared_error, r2_score\n",
    "from sklearn.preprocessing import StandardScaler\n",
    "from sklearn.pipeline import make_pipeline\n",
    "\n",
    "# Define the features and the target variable\n",
    "features = ['Stratification1', 'obesity', 'food', 'exercise', 'activity']\n",
    "target = 'Data_Value'\n",
    "\n",
    "# Separate the features and the target variable\n",
    "X = data[features]\n",
    "y = data[target]\n",
    "\n",
    "# Adding interaction terms between different pairs of features\n",
    "interaction_features = [\n",
    "    ('Stratification1', 'obesity'),\n",
    "    ('Stratification1', 'food'),\n",
    "    ('Stratification1', 'exercise'),\n",
    "    ('Stratification1', 'activity'),\n",
    "    ('obesity', 'food'),\n",
    "    ('obesity', 'exercise'),\n",
    "    ('obesity', 'activity'),\n",
    "    ('food', 'exercise'),\n",
    "    ('food', 'activity'),\n",
    "    ('exercise', 'activity')\n",
    "]\n",
    "\n",
    "for feature1, feature2 in interaction_features:\n",
    "    X[f'{feature1}_x_{feature2}'] = X[feature1] * X[feature2]\n",
    "\n",
    "# Split the data into training and testing sets\n",
    "X_train, X_test, y_train, y_test = train_test_split(X, y, test_size=0.2, random_state=42)\n",
    "\n",
    "# Initialize the Random Forest regressor\n",
    "model = RandomForestRegressor(random_state=42)\n",
    "\n",
    "# Create a pipeline with feature scaling and the model\n",
    "pipeline = make_pipeline(StandardScaler(), model)\n",
    "\n",
    "# Train the model\n",
    "pipeline.fit(X_train, y_train)\n",
    "\n",
    "# Predict the target variable on the testing set\n",
    "y_pred = pipeline.predict(X_test)\n",
    "\n",
    "# Calculate regression metrics to evaluate the model\n",
    "mae = mean_absolute_error(y_test, y_pred)\n",
    "mse = mean_squared_error(y_test, y_pred)\n",
    "r2 = r2_score(y_test, y_pred)\n",
    "\n",
    "print(f'MAE: {mae}')\n",
    "print(f'MSE: {mse}')\n",
    "print(f'R² Score: {r2}')\n"
   ],
   "metadata": {
    "collapsed": false,
    "ExecuteTime": {
     "end_time": "2023-09-17T11:01:01.429653500Z",
     "start_time": "2023-09-17T11:01:00.917421800Z"
    }
   },
   "id": "5c3eabc2291ad841"
  },
  {
   "cell_type": "code",
   "execution_count": 50,
   "outputs": [],
   "source": [
    "def predict_data_value():\n",
    "    income = int(input('Enter your income: '))\n",
    "    obesity = int(input('Enter your obesity: '))\n",
    "    food = int(input('Enter your food: '))\n",
    "    exercise = int(input('Enter your exercise: '))\n",
    "    activity = int(input('Enter your activity: '))\n",
    "\n",
    "    # create a dataframe with the user input\n",
    "    user_input = pd.DataFrame([[income, obesity, food, exercise, activity]], columns=['Stratification1', 'obesity', 'food', 'exercise', 'activity'])\n",
    "\n",
    "    # add interaction terms\n",
    "    for feature1, feature2 in interaction_features:\n",
    "        user_input[f'{feature1}_x_{feature2}'] = user_input[feature1] * user_input[feature2]\n",
    "    \n",
    "    # make a prediction using the pipeline\n",
    "    prediction = pipeline.predict(user_input)\n",
    "\n",
    "    # print the prediction\n",
    "    print(f'Your predicted Data Value for is {prediction[0]:.1f}')\n",
    "    \n",
    "    \n",
    "# # ask the user for their income, obesity, food, exercise and activity\n",
    "# income = int(input('Enter your income: '))\n",
    "# obesity = int(input('Enter your obesity: '))\n",
    "# food = int(input('Enter your food: '))\n",
    "# exercise = int(input('Enter your exercise: '))\n",
    "# activity = int(input('Enter your activity: '))\n",
    "# \n",
    "# # create a dataframe with the user input\n",
    "# user_input = pd.DataFrame([[income, obesity, food, exercise, activity]], columns=['Stratification1', 'obesity', 'food', 'exercise', 'activity'])\n",
    "# \n",
    "# # add interaction terms\n",
    "# for feature1, feature2 in interaction_features:\n",
    "#     user_input[f'{feature1}_x_{feature2}'] = user_input[feature1] * user_input[feature2]\n",
    "#     \n",
    "# # make a prediction using the pipeline\n",
    "# prediction = pipeline.predict(user_input)\n",
    "# \n",
    "# # print the prediction\n",
    "# print(f'Your predicted Data Value for is {prediction[0]:.1f}')"
   ],
   "metadata": {
    "collapsed": false,
    "ExecuteTime": {
     "end_time": "2023-09-17T11:07:07.723263900Z",
     "start_time": "2023-09-17T11:07:07.708268Z"
    }
   },
   "id": "2c116acdb87d49e7"
  },
  {
   "cell_type": "code",
   "execution_count": 54,
   "outputs": [
    {
     "name": "stdout",
     "output_type": "stream",
     "text": [
      "Your predicted Data Value for is 26.5\n"
     ]
    }
   ],
   "source": [
    "# call the function to make a prediction\n",
    "predict_data_value()"
   ],
   "metadata": {
    "collapsed": false,
    "ExecuteTime": {
     "end_time": "2023-09-17T11:11:17.139182800Z",
     "start_time": "2023-09-17T11:11:00.167929700Z"
    }
   },
   "id": "5996de478fd5ec7"
  },
  {
   "cell_type": "code",
   "execution_count": null,
   "outputs": [],
   "source": [],
   "metadata": {
    "collapsed": false
   },
   "id": "656f07bcb2e6fb90"
  }
 ],
 "metadata": {
  "kernelspec": {
   "display_name": "Python 3",
   "language": "python",
   "name": "python3"
  },
  "language_info": {
   "codemirror_mode": {
    "name": "ipython",
    "version": 2
   },
   "file_extension": ".py",
   "mimetype": "text/x-python",
   "name": "python",
   "nbconvert_exporter": "python",
   "pygments_lexer": "ipython2",
   "version": "2.7.6"
  }
 },
 "nbformat": 4,
 "nbformat_minor": 5
}
