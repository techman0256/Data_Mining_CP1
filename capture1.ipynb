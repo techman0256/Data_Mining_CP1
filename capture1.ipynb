{
 "cells": [
  {
   "cell_type": "code",
   "execution_count": 51,
   "id": "initial_id",
   "metadata": {
    "collapsed": true,
    "ExecuteTime": {
     "end_time": "2023-10-24T17:59:47.588484500Z",
     "start_time": "2023-10-24T17:59:45.291449300Z"
    }
   },
   "outputs": [
    {
     "data": {
      "text/plain": "(1008748, 23)"
     },
     "execution_count": 51,
     "metadata": {},
     "output_type": "execute_result"
    }
   ],
   "source": [
    "import pandas as pd\n",
    "from io import StringIO\n",
    "\n",
    "df = pd.read_csv(\"CTU-IoT-Malware-Capture-1-1conn.log.labeled.csv\", sep=\"|\")\n",
    "\n",
    "df.shape"
   ]
  },
  {
   "cell_type": "code",
   "execution_count": 52,
   "outputs": [
    {
     "data": {
      "text/plain": "             ts                 uid        id.orig_h  id.orig_p  \\\n0  1.525880e+09  CUmrqr4svHuSXJy5z7  192.168.100.103    51524.0   \n1  1.525880e+09  CH98aB3s1kJeq6SFOc  192.168.100.103    56305.0   \n2  1.525880e+09   C3GBTkINvXNjVGtN5  192.168.100.103    41101.0   \n3  1.525880e+09   CDe43c1PtgynajGI6  192.168.100.103    60905.0   \n4  1.525880e+09  CJaDcG3MZzvf1YVYI4  192.168.100.103    44301.0   \n\n         id.resp_h  id.resp_p proto service  duration orig_bytes  ...  \\\n0   65.127.233.163       23.0   tcp       -  2.999051          0  ...   \n1    63.150.16.171       23.0   tcp       -         -          -  ...   \n2     111.40.23.49       23.0   tcp       -         -          -  ...   \n3  131.174.215.147       23.0   tcp       -  2.998796          0  ...   \n4      91.42.47.63       23.0   tcp       -         -          -  ...   \n\n  local_resp missed_bytes history orig_pkts  orig_ip_bytes resp_pkts  \\\n0          -          0.0       S       3.0          180.0       0.0   \n1          -          0.0       S       1.0           60.0       0.0   \n2          -          0.0       S       1.0           60.0       0.0   \n3          -          0.0       S       3.0          180.0       0.0   \n4          -          0.0       S       1.0           60.0       0.0   \n\n   resp_ip_bytes  tunnel_parents      label             detailed-label  \n0            0.0               -  Malicious  PartOfAHorizontalPortScan  \n1            0.0               -  Malicious  PartOfAHorizontalPortScan  \n2            0.0               -  Malicious  PartOfAHorizontalPortScan  \n3            0.0               -  Malicious  PartOfAHorizontalPortScan  \n4            0.0               -  Malicious  PartOfAHorizontalPortScan  \n\n[5 rows x 23 columns]",
      "text/html": "<div>\n<style scoped>\n    .dataframe tbody tr th:only-of-type {\n        vertical-align: middle;\n    }\n\n    .dataframe tbody tr th {\n        vertical-align: top;\n    }\n\n    .dataframe thead th {\n        text-align: right;\n    }\n</style>\n<table border=\"1\" class=\"dataframe\">\n  <thead>\n    <tr style=\"text-align: right;\">\n      <th></th>\n      <th>ts</th>\n      <th>uid</th>\n      <th>id.orig_h</th>\n      <th>id.orig_p</th>\n      <th>id.resp_h</th>\n      <th>id.resp_p</th>\n      <th>proto</th>\n      <th>service</th>\n      <th>duration</th>\n      <th>orig_bytes</th>\n      <th>...</th>\n      <th>local_resp</th>\n      <th>missed_bytes</th>\n      <th>history</th>\n      <th>orig_pkts</th>\n      <th>orig_ip_bytes</th>\n      <th>resp_pkts</th>\n      <th>resp_ip_bytes</th>\n      <th>tunnel_parents</th>\n      <th>label</th>\n      <th>detailed-label</th>\n    </tr>\n  </thead>\n  <tbody>\n    <tr>\n      <th>0</th>\n      <td>1.525880e+09</td>\n      <td>CUmrqr4svHuSXJy5z7</td>\n      <td>192.168.100.103</td>\n      <td>51524.0</td>\n      <td>65.127.233.163</td>\n      <td>23.0</td>\n      <td>tcp</td>\n      <td>-</td>\n      <td>2.999051</td>\n      <td>0</td>\n      <td>...</td>\n      <td>-</td>\n      <td>0.0</td>\n      <td>S</td>\n      <td>3.0</td>\n      <td>180.0</td>\n      <td>0.0</td>\n      <td>0.0</td>\n      <td>-</td>\n      <td>Malicious</td>\n      <td>PartOfAHorizontalPortScan</td>\n    </tr>\n    <tr>\n      <th>1</th>\n      <td>1.525880e+09</td>\n      <td>CH98aB3s1kJeq6SFOc</td>\n      <td>192.168.100.103</td>\n      <td>56305.0</td>\n      <td>63.150.16.171</td>\n      <td>23.0</td>\n      <td>tcp</td>\n      <td>-</td>\n      <td>-</td>\n      <td>-</td>\n      <td>...</td>\n      <td>-</td>\n      <td>0.0</td>\n      <td>S</td>\n      <td>1.0</td>\n      <td>60.0</td>\n      <td>0.0</td>\n      <td>0.0</td>\n      <td>-</td>\n      <td>Malicious</td>\n      <td>PartOfAHorizontalPortScan</td>\n    </tr>\n    <tr>\n      <th>2</th>\n      <td>1.525880e+09</td>\n      <td>C3GBTkINvXNjVGtN5</td>\n      <td>192.168.100.103</td>\n      <td>41101.0</td>\n      <td>111.40.23.49</td>\n      <td>23.0</td>\n      <td>tcp</td>\n      <td>-</td>\n      <td>-</td>\n      <td>-</td>\n      <td>...</td>\n      <td>-</td>\n      <td>0.0</td>\n      <td>S</td>\n      <td>1.0</td>\n      <td>60.0</td>\n      <td>0.0</td>\n      <td>0.0</td>\n      <td>-</td>\n      <td>Malicious</td>\n      <td>PartOfAHorizontalPortScan</td>\n    </tr>\n    <tr>\n      <th>3</th>\n      <td>1.525880e+09</td>\n      <td>CDe43c1PtgynajGI6</td>\n      <td>192.168.100.103</td>\n      <td>60905.0</td>\n      <td>131.174.215.147</td>\n      <td>23.0</td>\n      <td>tcp</td>\n      <td>-</td>\n      <td>2.998796</td>\n      <td>0</td>\n      <td>...</td>\n      <td>-</td>\n      <td>0.0</td>\n      <td>S</td>\n      <td>3.0</td>\n      <td>180.0</td>\n      <td>0.0</td>\n      <td>0.0</td>\n      <td>-</td>\n      <td>Malicious</td>\n      <td>PartOfAHorizontalPortScan</td>\n    </tr>\n    <tr>\n      <th>4</th>\n      <td>1.525880e+09</td>\n      <td>CJaDcG3MZzvf1YVYI4</td>\n      <td>192.168.100.103</td>\n      <td>44301.0</td>\n      <td>91.42.47.63</td>\n      <td>23.0</td>\n      <td>tcp</td>\n      <td>-</td>\n      <td>-</td>\n      <td>-</td>\n      <td>...</td>\n      <td>-</td>\n      <td>0.0</td>\n      <td>S</td>\n      <td>1.0</td>\n      <td>60.0</td>\n      <td>0.0</td>\n      <td>0.0</td>\n      <td>-</td>\n      <td>Malicious</td>\n      <td>PartOfAHorizontalPortScan</td>\n    </tr>\n  </tbody>\n</table>\n<p>5 rows × 23 columns</p>\n</div>"
     },
     "execution_count": 52,
     "metadata": {},
     "output_type": "execute_result"
    }
   ],
   "source": [
    "df.head()"
   ],
   "metadata": {
    "collapsed": false,
    "ExecuteTime": {
     "end_time": "2023-10-24T17:59:48.272891500Z",
     "start_time": "2023-10-24T17:59:48.233430Z"
    }
   },
   "id": "a63c0985d039d9b6"
  },
  {
   "cell_type": "code",
   "execution_count": 53,
   "outputs": [
    {
     "data": {
      "text/plain": "(1008748, 23)"
     },
     "execution_count": 53,
     "metadata": {},
     "output_type": "execute_result"
    }
   ],
   "source": [
    "# remove duplicate rows\n",
    "df = df.drop_duplicates()\n",
    "df.shape"
   ],
   "metadata": {
    "collapsed": false,
    "ExecuteTime": {
     "end_time": "2023-10-24T17:59:50.242188200Z",
     "start_time": "2023-10-24T17:59:48.721234700Z"
    }
   },
   "id": "57a5a95919a1edfb"
  },
  {
   "cell_type": "code",
   "execution_count": 54,
   "outputs": [
    {
     "data": {
      "text/plain": "(1008748, 8)"
     },
     "execution_count": 54,
     "metadata": {},
     "output_type": "execute_result"
    }
   ],
   "source": [
    "# keep only ts and label\n",
    "df = df[['proto', 'history', 'resp_ip_bytes', 'orig_pkts', 'resp_pkts', 'orig_ip_bytes', 'id.resp_p', 'label']]\n",
    "# 'id.orig_h', 'id.resp_p', 'id.orig_p'\n",
    "df.shape"
   ],
   "metadata": {
    "collapsed": false,
    "ExecuteTime": {
     "end_time": "2023-10-24T17:59:52.852217500Z",
     "start_time": "2023-10-24T17:59:52.836665400Z"
    }
   },
   "id": "c8a0594d464b5f7a"
  },
  {
   "cell_type": "code",
   "execution_count": 55,
   "outputs": [
    {
     "data": {
      "text/plain": "  proto history  resp_ip_bytes  orig_pkts  resp_pkts  orig_ip_bytes  \\\n0   tcp       S            0.0        3.0        0.0          180.0   \n1   tcp       S            0.0        1.0        0.0           60.0   \n2   tcp       S            0.0        1.0        0.0           60.0   \n3   tcp       S            0.0        3.0        0.0          180.0   \n4   tcp       S            0.0        1.0        0.0           60.0   \n\n   id.resp_p      label  \n0       23.0  Malicious  \n1       23.0  Malicious  \n2       23.0  Malicious  \n3       23.0  Malicious  \n4       23.0  Malicious  ",
      "text/html": "<div>\n<style scoped>\n    .dataframe tbody tr th:only-of-type {\n        vertical-align: middle;\n    }\n\n    .dataframe tbody tr th {\n        vertical-align: top;\n    }\n\n    .dataframe thead th {\n        text-align: right;\n    }\n</style>\n<table border=\"1\" class=\"dataframe\">\n  <thead>\n    <tr style=\"text-align: right;\">\n      <th></th>\n      <th>proto</th>\n      <th>history</th>\n      <th>resp_ip_bytes</th>\n      <th>orig_pkts</th>\n      <th>resp_pkts</th>\n      <th>orig_ip_bytes</th>\n      <th>id.resp_p</th>\n      <th>label</th>\n    </tr>\n  </thead>\n  <tbody>\n    <tr>\n      <th>0</th>\n      <td>tcp</td>\n      <td>S</td>\n      <td>0.0</td>\n      <td>3.0</td>\n      <td>0.0</td>\n      <td>180.0</td>\n      <td>23.0</td>\n      <td>Malicious</td>\n    </tr>\n    <tr>\n      <th>1</th>\n      <td>tcp</td>\n      <td>S</td>\n      <td>0.0</td>\n      <td>1.0</td>\n      <td>0.0</td>\n      <td>60.0</td>\n      <td>23.0</td>\n      <td>Malicious</td>\n    </tr>\n    <tr>\n      <th>2</th>\n      <td>tcp</td>\n      <td>S</td>\n      <td>0.0</td>\n      <td>1.0</td>\n      <td>0.0</td>\n      <td>60.0</td>\n      <td>23.0</td>\n      <td>Malicious</td>\n    </tr>\n    <tr>\n      <th>3</th>\n      <td>tcp</td>\n      <td>S</td>\n      <td>0.0</td>\n      <td>3.0</td>\n      <td>0.0</td>\n      <td>180.0</td>\n      <td>23.0</td>\n      <td>Malicious</td>\n    </tr>\n    <tr>\n      <th>4</th>\n      <td>tcp</td>\n      <td>S</td>\n      <td>0.0</td>\n      <td>1.0</td>\n      <td>0.0</td>\n      <td>60.0</td>\n      <td>23.0</td>\n      <td>Malicious</td>\n    </tr>\n  </tbody>\n</table>\n</div>"
     },
     "execution_count": 55,
     "metadata": {},
     "output_type": "execute_result"
    }
   ],
   "source": [
    "df.head()"
   ],
   "metadata": {
    "collapsed": false,
    "ExecuteTime": {
     "end_time": "2023-10-24T17:59:54.326363500Z",
     "start_time": "2023-10-24T17:59:54.275188800Z"
    }
   },
   "id": "4298d9c83d2bc9b9"
  },
  {
   "cell_type": "code",
   "execution_count": 56,
   "outputs": [
    {
     "data": {
      "text/plain": "(95390, 8)"
     },
     "execution_count": 56,
     "metadata": {},
     "output_type": "execute_result"
    }
   ],
   "source": [
    "# remove duplicate rows\n",
    "df = df.drop_duplicates()\n",
    "df.shape"
   ],
   "metadata": {
    "collapsed": false,
    "ExecuteTime": {
     "end_time": "2023-10-24T17:59:55.493678100Z",
     "start_time": "2023-10-24T17:59:55.214226Z"
    }
   },
   "id": "a8f6ba7705c3f126"
  },
  {
   "cell_type": "code",
   "execution_count": 57,
   "outputs": [
    {
     "data": {
      "text/plain": "  proto history  resp_ip_bytes  orig_pkts  resp_pkts  orig_ip_bytes  \\\n0   tcp       S            0.0        3.0        0.0          180.0   \n1   tcp       S            0.0        1.0        0.0           60.0   \n6   tcp       S            0.0        3.0        0.0          180.0   \n7   tcp       S            0.0        1.0        0.0           60.0   \n9   tcp       S            0.0        1.0        0.0           60.0   \n\n   id.resp_p      label  \n0       23.0  Malicious  \n1       23.0  Malicious  \n6    49560.0     Benign  \n7    21288.0     Benign  \n9     8080.0  Malicious  ",
      "text/html": "<div>\n<style scoped>\n    .dataframe tbody tr th:only-of-type {\n        vertical-align: middle;\n    }\n\n    .dataframe tbody tr th {\n        vertical-align: top;\n    }\n\n    .dataframe thead th {\n        text-align: right;\n    }\n</style>\n<table border=\"1\" class=\"dataframe\">\n  <thead>\n    <tr style=\"text-align: right;\">\n      <th></th>\n      <th>proto</th>\n      <th>history</th>\n      <th>resp_ip_bytes</th>\n      <th>orig_pkts</th>\n      <th>resp_pkts</th>\n      <th>orig_ip_bytes</th>\n      <th>id.resp_p</th>\n      <th>label</th>\n    </tr>\n  </thead>\n  <tbody>\n    <tr>\n      <th>0</th>\n      <td>tcp</td>\n      <td>S</td>\n      <td>0.0</td>\n      <td>3.0</td>\n      <td>0.0</td>\n      <td>180.0</td>\n      <td>23.0</td>\n      <td>Malicious</td>\n    </tr>\n    <tr>\n      <th>1</th>\n      <td>tcp</td>\n      <td>S</td>\n      <td>0.0</td>\n      <td>1.0</td>\n      <td>0.0</td>\n      <td>60.0</td>\n      <td>23.0</td>\n      <td>Malicious</td>\n    </tr>\n    <tr>\n      <th>6</th>\n      <td>tcp</td>\n      <td>S</td>\n      <td>0.0</td>\n      <td>3.0</td>\n      <td>0.0</td>\n      <td>180.0</td>\n      <td>49560.0</td>\n      <td>Benign</td>\n    </tr>\n    <tr>\n      <th>7</th>\n      <td>tcp</td>\n      <td>S</td>\n      <td>0.0</td>\n      <td>1.0</td>\n      <td>0.0</td>\n      <td>60.0</td>\n      <td>21288.0</td>\n      <td>Benign</td>\n    </tr>\n    <tr>\n      <th>9</th>\n      <td>tcp</td>\n      <td>S</td>\n      <td>0.0</td>\n      <td>1.0</td>\n      <td>0.0</td>\n      <td>60.0</td>\n      <td>8080.0</td>\n      <td>Malicious</td>\n    </tr>\n  </tbody>\n</table>\n</div>"
     },
     "execution_count": 57,
     "metadata": {},
     "output_type": "execute_result"
    }
   ],
   "source": [
    "df.head()"
   ],
   "metadata": {
    "collapsed": false,
    "ExecuteTime": {
     "end_time": "2023-10-24T18:00:48.062683600Z",
     "start_time": "2023-10-24T18:00:48.021513100Z"
    }
   },
   "id": "c5db33051a20848a"
  },
  {
   "cell_type": "code",
   "execution_count": 58,
   "outputs": [
    {
     "data": {
      "text/plain": "proto             object\nhistory           object\nresp_ip_bytes    float64\norig_pkts        float64\nresp_pkts        float64\norig_ip_bytes    float64\nid.resp_p        float64\nlabel             object\ndtype: object"
     },
     "execution_count": 58,
     "metadata": {},
     "output_type": "execute_result"
    }
   ],
   "source": [
    "df.dtypes"
   ],
   "metadata": {
    "collapsed": false,
    "ExecuteTime": {
     "end_time": "2023-10-24T18:00:48.820051300Z",
     "start_time": "2023-10-24T18:00:48.789468200Z"
    }
   },
   "id": "11fc8cd9002cf860"
  },
  {
   "cell_type": "code",
   "execution_count": 59,
   "outputs": [
    {
     "data": {
      "text/plain": "proto                3\nhistory            126\nresp_ip_bytes     1141\norig_pkts           54\nresp_pkts           69\norig_ip_bytes     1249\nid.resp_p        65426\nlabel                2\ndtype: int64"
     },
     "execution_count": 59,
     "metadata": {},
     "output_type": "execute_result"
    }
   ],
   "source": [
    "df.nunique()"
   ],
   "metadata": {
    "collapsed": false,
    "ExecuteTime": {
     "end_time": "2023-10-24T18:00:59.706963700Z",
     "start_time": "2023-10-24T18:00:59.660937300Z"
    }
   },
   "id": "c34ba793c2828e65"
  },
  {
   "cell_type": "code",
   "execution_count": 60,
   "outputs": [
    {
     "data": {
      "text/plain": "   proto  history  resp_ip_bytes  orig_pkts  resp_pkts  orig_ip_bytes  \\\n0      1       22            0.0        3.0        0.0          180.0   \n1      1       22            0.0        1.0        0.0           60.0   \n6      1       22            0.0        3.0        0.0          180.0   \n7      1       22            0.0        1.0        0.0           60.0   \n9      1       22            0.0        1.0        0.0           60.0   \n\n   id.resp_p  label  \n0       23.0      1  \n1       23.0      1  \n6    49560.0      0  \n7    21288.0      0  \n9     8080.0      1  ",
      "text/html": "<div>\n<style scoped>\n    .dataframe tbody tr th:only-of-type {\n        vertical-align: middle;\n    }\n\n    .dataframe tbody tr th {\n        vertical-align: top;\n    }\n\n    .dataframe thead th {\n        text-align: right;\n    }\n</style>\n<table border=\"1\" class=\"dataframe\">\n  <thead>\n    <tr style=\"text-align: right;\">\n      <th></th>\n      <th>proto</th>\n      <th>history</th>\n      <th>resp_ip_bytes</th>\n      <th>orig_pkts</th>\n      <th>resp_pkts</th>\n      <th>orig_ip_bytes</th>\n      <th>id.resp_p</th>\n      <th>label</th>\n    </tr>\n  </thead>\n  <tbody>\n    <tr>\n      <th>0</th>\n      <td>1</td>\n      <td>22</td>\n      <td>0.0</td>\n      <td>3.0</td>\n      <td>0.0</td>\n      <td>180.0</td>\n      <td>23.0</td>\n      <td>1</td>\n    </tr>\n    <tr>\n      <th>1</th>\n      <td>1</td>\n      <td>22</td>\n      <td>0.0</td>\n      <td>1.0</td>\n      <td>0.0</td>\n      <td>60.0</td>\n      <td>23.0</td>\n      <td>1</td>\n    </tr>\n    <tr>\n      <th>6</th>\n      <td>1</td>\n      <td>22</td>\n      <td>0.0</td>\n      <td>3.0</td>\n      <td>0.0</td>\n      <td>180.0</td>\n      <td>49560.0</td>\n      <td>0</td>\n    </tr>\n    <tr>\n      <th>7</th>\n      <td>1</td>\n      <td>22</td>\n      <td>0.0</td>\n      <td>1.0</td>\n      <td>0.0</td>\n      <td>60.0</td>\n      <td>21288.0</td>\n      <td>0</td>\n    </tr>\n    <tr>\n      <th>9</th>\n      <td>1</td>\n      <td>22</td>\n      <td>0.0</td>\n      <td>1.0</td>\n      <td>0.0</td>\n      <td>60.0</td>\n      <td>8080.0</td>\n      <td>1</td>\n    </tr>\n  </tbody>\n</table>\n</div>"
     },
     "execution_count": 60,
     "metadata": {},
     "output_type": "execute_result"
    }
   ],
   "source": [
    "# perform label encoding\n",
    "from sklearn.preprocessing import LabelEncoder\n",
    "\n",
    "le = LabelEncoder()\n",
    "df['proto'] = le.fit_transform(df['proto'])\n",
    "df['history'] = le.fit_transform(df['history'])\n",
    "df['label'] = le.fit_transform(df['label'])\n",
    "df.head()"
   ],
   "metadata": {
    "collapsed": false,
    "ExecuteTime": {
     "end_time": "2023-10-24T18:01:21.105687600Z",
     "start_time": "2023-10-24T18:01:21.030634300Z"
    }
   },
   "id": "df90b65383e2119d"
  },
  {
   "cell_type": "code",
   "execution_count": 61,
   "outputs": [
    {
     "data": {
      "text/plain": "proto              int32\nhistory            int32\nresp_ip_bytes    float64\norig_pkts        float64\nresp_pkts        float64\norig_ip_bytes    float64\nid.resp_p        float64\nlabel              int32\ndtype: object"
     },
     "execution_count": 61,
     "metadata": {},
     "output_type": "execute_result"
    }
   ],
   "source": [
    "df.dtypes"
   ],
   "metadata": {
    "collapsed": false,
    "ExecuteTime": {
     "end_time": "2023-10-24T18:01:22.538792500Z",
     "start_time": "2023-10-24T18:01:22.526273800Z"
    }
   },
   "id": "cafedc0815ba3144"
  },
  {
   "cell_type": "code",
   "execution_count": 90,
   "outputs": [
    {
     "name": "stdout",
     "output_type": "stream",
     "text": [
      "[[18454     0]\n",
      " [   93   531]]\n",
      "              precision    recall  f1-score   support\n",
      "\n",
      "           0       0.99      1.00      1.00     18454\n",
      "           1       1.00      0.85      0.92       624\n",
      "\n",
      "    accuracy                           1.00     19078\n",
      "   macro avg       1.00      0.93      0.96     19078\n",
      "weighted avg       1.00      1.00      0.99     19078\n"
     ]
    }
   ],
   "source": [
    "# train model user 'label' as target with use of SVM\n",
    "from sklearn.model_selection import train_test_split\n",
    "\n",
    "X = df.drop('label', axis=1)\n",
    "y = df['label']\n",
    "\n",
    "X_train, X_test, y_train, y_test = train_test_split(X, y, test_size=0.2)\n",
    "\n",
    "from sklearn.svm import SVC\n",
    "\n",
    "model = SVC()\n",
    "model.fit(X_train, y_train)\n",
    "\n",
    "# evaluate model\n",
    "from sklearn.metrics import classification_report, confusion_matrix\n",
    "\n",
    "y_pred = model.predict(X_test)\n",
    "\n",
    "print(confusion_matrix(y_test, y_pred))\n",
    "print(classification_report(y_test, y_pred))\n"
   ],
   "metadata": {
    "collapsed": false,
    "ExecuteTime": {
     "end_time": "2023-10-24T18:11:03.709108200Z",
     "start_time": "2023-10-24T18:10:53.315218800Z"
    }
   },
   "id": "e2c35730f45efad7"
  },
  {
   "cell_type": "code",
   "execution_count": 89,
   "outputs": [],
   "source": [
    "# train model user 'label' as target with use of SVM\n",
    "from sklearn.model_selection import train_test_split\n",
    "\n",
    "X = df.drop('label', axis=1)\n",
    "y = df['label']\n",
    "\n",
    "X_train, X_test, y_train, y_test = train_test_split(X, y, test_size=0.2)"
   ],
   "metadata": {
    "collapsed": false,
    "ExecuteTime": {
     "end_time": "2023-10-24T18:10:51.860752Z",
     "start_time": "2023-10-24T18:10:51.842409100Z"
    }
   },
   "id": "4e794a547f93f38d"
  },
  {
   "cell_type": "code",
   "execution_count": 91,
   "outputs": [
    {
     "name": "stdout",
     "output_type": "stream",
     "text": [
      "[[18452     2]\n",
      " [    8   616]]\n",
      "              precision    recall  f1-score   support\n",
      "\n",
      "           0       1.00      1.00      1.00     18454\n",
      "           1       1.00      0.99      0.99       624\n",
      "\n",
      "    accuracy                           1.00     19078\n",
      "   macro avg       1.00      0.99      1.00     19078\n",
      "weighted avg       1.00      1.00      1.00     19078\n"
     ]
    }
   ],
   "source": [
    "# now train a model using knn\n",
    "from sklearn.neighbors import KNeighborsClassifier\n",
    "\n",
    "model = KNeighborsClassifier(n_neighbors=4)\n",
    "model.fit(X_train, y_train)\n",
    "\n",
    "# evaluate model\n",
    "from sklearn.metrics import classification_report, confusion_matrix\n",
    "\n",
    "y_pred = model.predict(X_test)\n",
    "\n",
    "print(confusion_matrix(y_test, y_pred))\n",
    "print(classification_report(y_test, y_pred))"
   ],
   "metadata": {
    "collapsed": false,
    "ExecuteTime": {
     "end_time": "2023-10-24T18:11:08.481475400Z",
     "start_time": "2023-10-24T18:11:07.826461900Z"
    }
   },
   "id": "1b453cd2175d467b"
  },
  {
   "cell_type": "code",
   "execution_count": null,
   "outputs": [],
   "source": [],
   "metadata": {
    "collapsed": false
   },
   "id": "b4ea169200764199"
  }
 ],
 "metadata": {
  "kernelspec": {
   "display_name": "Python 3",
   "language": "python",
   "name": "python3"
  },
  "language_info": {
   "codemirror_mode": {
    "name": "ipython",
    "version": 2
   },
   "file_extension": ".py",
   "mimetype": "text/x-python",
   "name": "python",
   "nbconvert_exporter": "python",
   "pygments_lexer": "ipython2",
   "version": "2.7.6"
  }
 },
 "nbformat": 4,
 "nbformat_minor": 5
}
